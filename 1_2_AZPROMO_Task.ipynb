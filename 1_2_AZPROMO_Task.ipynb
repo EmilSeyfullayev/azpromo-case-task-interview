{
  "nbformat": 4,
  "nbformat_minor": 0,
  "metadata": {
    "colab": {
      "name": "1-2 AZPROMO Task.ipynb",
      "provenance": [],
      "collapsed_sections": [],
      "mount_file_id": "1rfLAWtcaDeCX3ux4MPsVt3AMeQexDp5g",
      "authorship_tag": "ABX9TyPf+Aop6LnzNOTnQS6fZQBe",
      "include_colab_link": true
    },
    "kernelspec": {
      "name": "python3",
      "display_name": "Python 3"
    },
    "language_info": {
      "name": "python"
    }
  },
  "cells": [
    {
      "cell_type": "markdown",
      "metadata": {
        "id": "view-in-github",
        "colab_type": "text"
      },
      "source": [
        "<a href=\"https://colab.research.google.com/github/EmilSeyfullayev/azpromo-case-task-interview/blob/main/1_2_AZPROMO_Task.ipynb\" target=\"_parent\"><img src=\"https://colab.research.google.com/assets/colab-badge.svg\" alt=\"Open In Colab\"/></a>"
      ]
    },
    {
      "cell_type": "markdown",
      "source": [
        "### Importing necessary packages"
      ],
      "metadata": {
        "id": "eTckqncxvJS4"
      }
    },
    {
      "cell_type": "code",
      "source": [
        "import pandas as pd\n",
        "import numpy as np\n",
        "import matplotlib.pyplot as plt\n",
        "import seaborn as sns\n",
        "import math\n",
        "sns.set_style('whitegrid')"
      ],
      "metadata": {
        "id": "HO3N_5rwvTGU"
      },
      "execution_count": null,
      "outputs": []
    },
    {
      "cell_type": "markdown",
      "source": [
        "### Reading data and initial description"
      ],
      "metadata": {
        "id": "xFfBcRYcwUJk"
      }
    },
    {
      "cell_type": "code",
      "source": [
        "df = pd.read_excel(\"/content/drive/MyDrive/AzPromo/Tasks for candidates.xlsx\")"
      ],
      "metadata": {
        "id": "mZ6QkJyAwa2-"
      },
      "execution_count": null,
      "outputs": []
    },
    {
      "cell_type": "code",
      "source": [
        "# df.describe(include='all').T"
      ],
      "metadata": {
        "id": "mMXWVyhpwkzH"
      },
      "execution_count": null,
      "outputs": []
    },
    {
      "cell_type": "code",
      "source": [
        "df.shape"
      ],
      "metadata": {
        "colab": {
          "base_uri": "https://localhost:8080/"
        },
        "id": "OqFz8QWJxNiZ",
        "outputId": "c18836e7-d247-4999-848a-71b1d9913e67"
      },
      "execution_count": null,
      "outputs": [
        {
          "output_type": "execute_result",
          "data": {
            "text/plain": [
              "(65514, 18)"
            ]
          },
          "metadata": {},
          "execution_count": 79
        }
      ]
    },
    {
      "cell_type": "code",
      "source": [
        "df.head(2)"
      ],
      "metadata": {
        "colab": {
          "base_uri": "https://localhost:8080/",
          "height": 295
        },
        "id": "qvRD29VK995v",
        "outputId": "0eafd114-ae7a-4e34-ef50-10c84e96d25f"
      },
      "execution_count": null,
      "outputs": [
        {
          "output_type": "execute_result",
          "data": {
            "text/html": [
              "\n",
              "  <div id=\"df-64bf265b-3475-480b-bbf7-e06a1bb3fcd9\">\n",
              "    <div class=\"colab-df-container\">\n",
              "      <div>\n",
              "<style scoped>\n",
              "    .dataframe tbody tr th:only-of-type {\n",
              "        vertical-align: middle;\n",
              "    }\n",
              "\n",
              "    .dataframe tbody tr th {\n",
              "        vertical-align: top;\n",
              "    }\n",
              "\n",
              "    .dataframe thead th {\n",
              "        text-align: right;\n",
              "    }\n",
              "</style>\n",
              "<table border=\"1\" class=\"dataframe\">\n",
              "  <thead>\n",
              "    <tr style=\"text-align: right;\">\n",
              "      <th></th>\n",
              "      <th>Index</th>\n",
              "      <th>Bəyannamənin tarixi</th>\n",
              "      <th>Ümumi sahə</th>\n",
              "      <th>Kod 2</th>\n",
              "      <th>Ad 2</th>\n",
              "      <th>Kod 4</th>\n",
              "      <th>Ad 4</th>\n",
              "      <th>Kod 6</th>\n",
              "      <th>Ad 6</th>\n",
              "      <th>Malın kodu</th>\n",
              "      <th>Miqdarı</th>\n",
              "      <th>Ölçü vaxidi</th>\n",
              "      <th>Tam qiyməti manatla</th>\n",
              "      <th>ABŞ dolları ilə</th>\n",
              "      <th>Vahidinin qiyməti (ABŞ dolları ilə)</th>\n",
              "      <th>Tərəfdaş ölkə</th>\n",
              "      <th>İstehsalçı ölkə</th>\n",
              "      <th>Nəqliyyatın tipi</th>\n",
              "    </tr>\n",
              "  </thead>\n",
              "  <tbody>\n",
              "    <tr>\n",
              "      <th>0</th>\n",
              "      <td>1</td>\n",
              "      <td>2020-01-01</td>\n",
              "      <td>Sənaye məhsulları</td>\n",
              "      <td>39</td>\n",
              "      <td>Plastmassa və onlardan hazırlanan məmulatlar</td>\n",
              "      <td>3901</td>\n",
              "      <td>Etilen polimerləri, ilkin formalarda</td>\n",
              "      <td>390110</td>\n",
              "      <td>Xüsusi kütləsi 0,94-dən az olan ilkin formalı ...</td>\n",
              "      <td>3901109000</td>\n",
              "      <td>22500.0</td>\n",
              "      <td>kq</td>\n",
              "      <td>26163.0</td>\n",
              "      <td>15390.0</td>\n",
              "      <td>0.684</td>\n",
              "      <td>ÇİN</td>\n",
              "      <td>AZƏRBAYCAN</td>\n",
              "      <td>Avtomobil nəqliyyatı vasitələri</td>\n",
              "    </tr>\n",
              "    <tr>\n",
              "      <th>1</th>\n",
              "      <td>2</td>\n",
              "      <td>2020-01-02</td>\n",
              "      <td>Sənaye məhsulları</td>\n",
              "      <td>39</td>\n",
              "      <td>Plastmassa və onlardan hazırlanan məmulatlar</td>\n",
              "      <td>3901</td>\n",
              "      <td>Etilen polimerləri, ilkin formalarda</td>\n",
              "      <td>390110</td>\n",
              "      <td>Xüsusi kütləsi 0,94-dən az olan ilkin formalı ...</td>\n",
              "      <td>3901109000</td>\n",
              "      <td>22500.0</td>\n",
              "      <td>kq</td>\n",
              "      <td>26163.0</td>\n",
              "      <td>15390.0</td>\n",
              "      <td>0.684</td>\n",
              "      <td>ÇİN</td>\n",
              "      <td>AZƏRBAYCAN</td>\n",
              "      <td>Avtomobil nəqliyyatı vasitələri</td>\n",
              "    </tr>\n",
              "  </tbody>\n",
              "</table>\n",
              "</div>\n",
              "      <button class=\"colab-df-convert\" onclick=\"convertToInteractive('df-64bf265b-3475-480b-bbf7-e06a1bb3fcd9')\"\n",
              "              title=\"Convert this dataframe to an interactive table.\"\n",
              "              style=\"display:none;\">\n",
              "        \n",
              "  <svg xmlns=\"http://www.w3.org/2000/svg\" height=\"24px\"viewBox=\"0 0 24 24\"\n",
              "       width=\"24px\">\n",
              "    <path d=\"M0 0h24v24H0V0z\" fill=\"none\"/>\n",
              "    <path d=\"M18.56 5.44l.94 2.06.94-2.06 2.06-.94-2.06-.94-.94-2.06-.94 2.06-2.06.94zm-11 1L8.5 8.5l.94-2.06 2.06-.94-2.06-.94L8.5 2.5l-.94 2.06-2.06.94zm10 10l.94 2.06.94-2.06 2.06-.94-2.06-.94-.94-2.06-.94 2.06-2.06.94z\"/><path d=\"M17.41 7.96l-1.37-1.37c-.4-.4-.92-.59-1.43-.59-.52 0-1.04.2-1.43.59L10.3 9.45l-7.72 7.72c-.78.78-.78 2.05 0 2.83L4 21.41c.39.39.9.59 1.41.59.51 0 1.02-.2 1.41-.59l7.78-7.78 2.81-2.81c.8-.78.8-2.07 0-2.86zM5.41 20L4 18.59l7.72-7.72 1.47 1.35L5.41 20z\"/>\n",
              "  </svg>\n",
              "      </button>\n",
              "      \n",
              "  <style>\n",
              "    .colab-df-container {\n",
              "      display:flex;\n",
              "      flex-wrap:wrap;\n",
              "      gap: 12px;\n",
              "    }\n",
              "\n",
              "    .colab-df-convert {\n",
              "      background-color: #E8F0FE;\n",
              "      border: none;\n",
              "      border-radius: 50%;\n",
              "      cursor: pointer;\n",
              "      display: none;\n",
              "      fill: #1967D2;\n",
              "      height: 32px;\n",
              "      padding: 0 0 0 0;\n",
              "      width: 32px;\n",
              "    }\n",
              "\n",
              "    .colab-df-convert:hover {\n",
              "      background-color: #E2EBFA;\n",
              "      box-shadow: 0px 1px 2px rgba(60, 64, 67, 0.3), 0px 1px 3px 1px rgba(60, 64, 67, 0.15);\n",
              "      fill: #174EA6;\n",
              "    }\n",
              "\n",
              "    [theme=dark] .colab-df-convert {\n",
              "      background-color: #3B4455;\n",
              "      fill: #D2E3FC;\n",
              "    }\n",
              "\n",
              "    [theme=dark] .colab-df-convert:hover {\n",
              "      background-color: #434B5C;\n",
              "      box-shadow: 0px 1px 3px 1px rgba(0, 0, 0, 0.15);\n",
              "      filter: drop-shadow(0px 1px 2px rgba(0, 0, 0, 0.3));\n",
              "      fill: #FFFFFF;\n",
              "    }\n",
              "  </style>\n",
              "\n",
              "      <script>\n",
              "        const buttonEl =\n",
              "          document.querySelector('#df-64bf265b-3475-480b-bbf7-e06a1bb3fcd9 button.colab-df-convert');\n",
              "        buttonEl.style.display =\n",
              "          google.colab.kernel.accessAllowed ? 'block' : 'none';\n",
              "\n",
              "        async function convertToInteractive(key) {\n",
              "          const element = document.querySelector('#df-64bf265b-3475-480b-bbf7-e06a1bb3fcd9');\n",
              "          const dataTable =\n",
              "            await google.colab.kernel.invokeFunction('convertToInteractive',\n",
              "                                                     [key], {});\n",
              "          if (!dataTable) return;\n",
              "\n",
              "          const docLinkHtml = 'Like what you see? Visit the ' +\n",
              "            '<a target=\"_blank\" href=https://colab.research.google.com/notebooks/data_table.ipynb>data table notebook</a>'\n",
              "            + ' to learn more about interactive tables.';\n",
              "          element.innerHTML = '';\n",
              "          dataTable['output_type'] = 'display_data';\n",
              "          await google.colab.output.renderOutput(dataTable, element);\n",
              "          const docLink = document.createElement('div');\n",
              "          docLink.innerHTML = docLinkHtml;\n",
              "          element.appendChild(docLink);\n",
              "        }\n",
              "      </script>\n",
              "    </div>\n",
              "  </div>\n",
              "  "
            ],
            "text/plain": [
              "   Index Bəyannamənin tarixi  ... İstehsalçı ölkə                 Nəqliyyatın tipi\n",
              "0      1          2020-01-01  ...      AZƏRBAYCAN  Avtomobil nəqliyyatı vasitələri\n",
              "1      2          2020-01-02  ...      AZƏRBAYCAN  Avtomobil nəqliyyatı vasitələri\n",
              "\n",
              "[2 rows x 18 columns]"
            ]
          },
          "metadata": {},
          "execution_count": 80
        }
      ]
    },
    {
      "cell_type": "code",
      "source": [
        "# df.iloc[:, 1:]"
      ],
      "metadata": {
        "id": "Xc835edn-I-3"
      },
      "execution_count": null,
      "outputs": []
    },
    {
      "cell_type": "code",
      "source": [
        "len(df.iloc[:, 1:].drop_duplicates()) # if numbers are the same there is no similar rows"
      ],
      "metadata": {
        "colab": {
          "base_uri": "https://localhost:8080/"
        },
        "id": "blSmMsRYxRuc",
        "outputId": "742631eb-b807-47a8-80d0-3e1212258603"
      },
      "execution_count": null,
      "outputs": [
        {
          "output_type": "execute_result",
          "data": {
            "text/plain": [
              "54744"
            ]
          },
          "metadata": {},
          "execution_count": 23
        }
      ]
    },
    {
      "cell_type": "code",
      "source": [
        "df = df.iloc[:, 1:].drop_duplicates().reset_index(drop=True)"
      ],
      "metadata": {
        "id": "qhNwcsKS-PEe"
      },
      "execution_count": null,
      "outputs": []
    },
    {
      "cell_type": "code",
      "source": [
        "df.head(2)"
      ],
      "metadata": {
        "colab": {
          "base_uri": "https://localhost:8080/",
          "height": 260
        },
        "id": "6Iu6Q5Y2qXY-",
        "outputId": "998e3160-3811-448c-a0f3-c032360589dd"
      },
      "execution_count": null,
      "outputs": [
        {
          "output_type": "execute_result",
          "data": {
            "text/html": [
              "\n",
              "  <div id=\"df-9b070d64-f2e0-4a30-9bcd-b3861e0e0df7\">\n",
              "    <div class=\"colab-df-container\">\n",
              "      <div>\n",
              "<style scoped>\n",
              "    .dataframe tbody tr th:only-of-type {\n",
              "        vertical-align: middle;\n",
              "    }\n",
              "\n",
              "    .dataframe tbody tr th {\n",
              "        vertical-align: top;\n",
              "    }\n",
              "\n",
              "    .dataframe thead th {\n",
              "        text-align: right;\n",
              "    }\n",
              "</style>\n",
              "<table border=\"1\" class=\"dataframe\">\n",
              "  <thead>\n",
              "    <tr style=\"text-align: right;\">\n",
              "      <th></th>\n",
              "      <th>Bəyannamənin tarixi</th>\n",
              "      <th>Ümumi sahə</th>\n",
              "      <th>Kod 2</th>\n",
              "      <th>Ad 2</th>\n",
              "      <th>Kod 4</th>\n",
              "      <th>Ad 4</th>\n",
              "      <th>Kod 6</th>\n",
              "      <th>Ad 6</th>\n",
              "      <th>Malın kodu</th>\n",
              "      <th>Miqdarı</th>\n",
              "      <th>Ölçü vaxidi</th>\n",
              "      <th>Tam qiyməti manatla</th>\n",
              "      <th>ABŞ dolları ilə</th>\n",
              "      <th>Vahidinin qiyməti (ABŞ dolları ilə)</th>\n",
              "      <th>Tərəfdaş ölkə</th>\n",
              "      <th>İstehsalçı ölkə</th>\n",
              "      <th>Nəqliyyatın tipi</th>\n",
              "    </tr>\n",
              "  </thead>\n",
              "  <tbody>\n",
              "    <tr>\n",
              "      <th>0</th>\n",
              "      <td>2020-01-01</td>\n",
              "      <td>Sənaye məhsulları</td>\n",
              "      <td>39</td>\n",
              "      <td>Plastmassa və onlardan hazırlanan məmulatlar</td>\n",
              "      <td>3901</td>\n",
              "      <td>Etilen polimerləri, ilkin formalarda</td>\n",
              "      <td>390110</td>\n",
              "      <td>Xüsusi kütləsi 0,94-dən az olan ilkin formalı ...</td>\n",
              "      <td>3901109000</td>\n",
              "      <td>22500.0</td>\n",
              "      <td>kq</td>\n",
              "      <td>26163.0</td>\n",
              "      <td>15390.0</td>\n",
              "      <td>0.684</td>\n",
              "      <td>ÇİN</td>\n",
              "      <td>AZƏRBAYCAN</td>\n",
              "      <td>Avtomobil nəqliyyatı vasitələri</td>\n",
              "    </tr>\n",
              "    <tr>\n",
              "      <th>1</th>\n",
              "      <td>2020-01-02</td>\n",
              "      <td>Sənaye məhsulları</td>\n",
              "      <td>39</td>\n",
              "      <td>Plastmassa və onlardan hazırlanan məmulatlar</td>\n",
              "      <td>3901</td>\n",
              "      <td>Etilen polimerləri, ilkin formalarda</td>\n",
              "      <td>390110</td>\n",
              "      <td>Xüsusi kütləsi 0,94-dən az olan ilkin formalı ...</td>\n",
              "      <td>3901109000</td>\n",
              "      <td>22500.0</td>\n",
              "      <td>kq</td>\n",
              "      <td>26163.0</td>\n",
              "      <td>15390.0</td>\n",
              "      <td>0.684</td>\n",
              "      <td>ÇİN</td>\n",
              "      <td>AZƏRBAYCAN</td>\n",
              "      <td>Avtomobil nəqliyyatı vasitələri</td>\n",
              "    </tr>\n",
              "  </tbody>\n",
              "</table>\n",
              "</div>\n",
              "      <button class=\"colab-df-convert\" onclick=\"convertToInteractive('df-9b070d64-f2e0-4a30-9bcd-b3861e0e0df7')\"\n",
              "              title=\"Convert this dataframe to an interactive table.\"\n",
              "              style=\"display:none;\">\n",
              "        \n",
              "  <svg xmlns=\"http://www.w3.org/2000/svg\" height=\"24px\"viewBox=\"0 0 24 24\"\n",
              "       width=\"24px\">\n",
              "    <path d=\"M0 0h24v24H0V0z\" fill=\"none\"/>\n",
              "    <path d=\"M18.56 5.44l.94 2.06.94-2.06 2.06-.94-2.06-.94-.94-2.06-.94 2.06-2.06.94zm-11 1L8.5 8.5l.94-2.06 2.06-.94-2.06-.94L8.5 2.5l-.94 2.06-2.06.94zm10 10l.94 2.06.94-2.06 2.06-.94-2.06-.94-.94-2.06-.94 2.06-2.06.94z\"/><path d=\"M17.41 7.96l-1.37-1.37c-.4-.4-.92-.59-1.43-.59-.52 0-1.04.2-1.43.59L10.3 9.45l-7.72 7.72c-.78.78-.78 2.05 0 2.83L4 21.41c.39.39.9.59 1.41.59.51 0 1.02-.2 1.41-.59l7.78-7.78 2.81-2.81c.8-.78.8-2.07 0-2.86zM5.41 20L4 18.59l7.72-7.72 1.47 1.35L5.41 20z\"/>\n",
              "  </svg>\n",
              "      </button>\n",
              "      \n",
              "  <style>\n",
              "    .colab-df-container {\n",
              "      display:flex;\n",
              "      flex-wrap:wrap;\n",
              "      gap: 12px;\n",
              "    }\n",
              "\n",
              "    .colab-df-convert {\n",
              "      background-color: #E8F0FE;\n",
              "      border: none;\n",
              "      border-radius: 50%;\n",
              "      cursor: pointer;\n",
              "      display: none;\n",
              "      fill: #1967D2;\n",
              "      height: 32px;\n",
              "      padding: 0 0 0 0;\n",
              "      width: 32px;\n",
              "    }\n",
              "\n",
              "    .colab-df-convert:hover {\n",
              "      background-color: #E2EBFA;\n",
              "      box-shadow: 0px 1px 2px rgba(60, 64, 67, 0.3), 0px 1px 3px 1px rgba(60, 64, 67, 0.15);\n",
              "      fill: #174EA6;\n",
              "    }\n",
              "\n",
              "    [theme=dark] .colab-df-convert {\n",
              "      background-color: #3B4455;\n",
              "      fill: #D2E3FC;\n",
              "    }\n",
              "\n",
              "    [theme=dark] .colab-df-convert:hover {\n",
              "      background-color: #434B5C;\n",
              "      box-shadow: 0px 1px 3px 1px rgba(0, 0, 0, 0.15);\n",
              "      filter: drop-shadow(0px 1px 2px rgba(0, 0, 0, 0.3));\n",
              "      fill: #FFFFFF;\n",
              "    }\n",
              "  </style>\n",
              "\n",
              "      <script>\n",
              "        const buttonEl =\n",
              "          document.querySelector('#df-9b070d64-f2e0-4a30-9bcd-b3861e0e0df7 button.colab-df-convert');\n",
              "        buttonEl.style.display =\n",
              "          google.colab.kernel.accessAllowed ? 'block' : 'none';\n",
              "\n",
              "        async function convertToInteractive(key) {\n",
              "          const element = document.querySelector('#df-9b070d64-f2e0-4a30-9bcd-b3861e0e0df7');\n",
              "          const dataTable =\n",
              "            await google.colab.kernel.invokeFunction('convertToInteractive',\n",
              "                                                     [key], {});\n",
              "          if (!dataTable) return;\n",
              "\n",
              "          const docLinkHtml = 'Like what you see? Visit the ' +\n",
              "            '<a target=\"_blank\" href=https://colab.research.google.com/notebooks/data_table.ipynb>data table notebook</a>'\n",
              "            + ' to learn more about interactive tables.';\n",
              "          element.innerHTML = '';\n",
              "          dataTable['output_type'] = 'display_data';\n",
              "          await google.colab.output.renderOutput(dataTable, element);\n",
              "          const docLink = document.createElement('div');\n",
              "          docLink.innerHTML = docLinkHtml;\n",
              "          element.appendChild(docLink);\n",
              "        }\n",
              "      </script>\n",
              "    </div>\n",
              "  </div>\n",
              "  "
            ],
            "text/plain": [
              "  Bəyannamənin tarixi  ...                 Nəqliyyatın tipi\n",
              "0          2020-01-01  ...  Avtomobil nəqliyyatı vasitələri\n",
              "1          2020-01-02  ...  Avtomobil nəqliyyatı vasitələri\n",
              "\n",
              "[2 rows x 17 columns]"
            ]
          },
          "metadata": {},
          "execution_count": 85
        }
      ]
    },
    {
      "cell_type": "code",
      "source": [
        "df.describe(include='all').T"
      ],
      "metadata": {
        "colab": {
          "base_uri": "https://localhost:8080/",
          "height": 735
        },
        "id": "PfXr4rPBqDKD",
        "outputId": "f4ab57f6-88f0-4da7-ed79-1621658e8065"
      },
      "execution_count": null,
      "outputs": [
        {
          "output_type": "stream",
          "name": "stderr",
          "text": [
            "/usr/local/lib/python3.7/dist-packages/ipykernel_launcher.py:1: FutureWarning: Treating datetime data as categorical rather than numeric in `.describe` is deprecated and will be removed in a future version of pandas. Specify `datetime_is_numeric=True` to silence this warning and adopt the future behavior now.\n",
            "  \"\"\"Entry point for launching an IPython kernel.\n"
          ]
        },
        {
          "output_type": "execute_result",
          "data": {
            "text/html": [
              "\n",
              "  <div id=\"df-82fe3cbd-6c27-4a8d-8266-0a723fe70935\">\n",
              "    <div class=\"colab-df-container\">\n",
              "      <div>\n",
              "<style scoped>\n",
              "    .dataframe tbody tr th:only-of-type {\n",
              "        vertical-align: middle;\n",
              "    }\n",
              "\n",
              "    .dataframe tbody tr th {\n",
              "        vertical-align: top;\n",
              "    }\n",
              "\n",
              "    .dataframe thead th {\n",
              "        text-align: right;\n",
              "    }\n",
              "</style>\n",
              "<table border=\"1\" class=\"dataframe\">\n",
              "  <thead>\n",
              "    <tr style=\"text-align: right;\">\n",
              "      <th></th>\n",
              "      <th>count</th>\n",
              "      <th>unique</th>\n",
              "      <th>top</th>\n",
              "      <th>freq</th>\n",
              "      <th>first</th>\n",
              "      <th>last</th>\n",
              "      <th>mean</th>\n",
              "      <th>std</th>\n",
              "      <th>min</th>\n",
              "      <th>25%</th>\n",
              "      <th>50%</th>\n",
              "      <th>75%</th>\n",
              "      <th>max</th>\n",
              "    </tr>\n",
              "  </thead>\n",
              "  <tbody>\n",
              "    <tr>\n",
              "      <th>Bəyannamənin tarixi</th>\n",
              "      <td>54744</td>\n",
              "      <td>241</td>\n",
              "      <td>2021-02-19 00:00:00</td>\n",
              "      <td>655</td>\n",
              "      <td>2020-01-01</td>\n",
              "      <td>2021-04-30</td>\n",
              "      <td>NaN</td>\n",
              "      <td>NaN</td>\n",
              "      <td>NaN</td>\n",
              "      <td>NaN</td>\n",
              "      <td>NaN</td>\n",
              "      <td>NaN</td>\n",
              "      <td>NaN</td>\n",
              "    </tr>\n",
              "    <tr>\n",
              "      <th>Ümumi sahə</th>\n",
              "      <td>54744</td>\n",
              "      <td>4</td>\n",
              "      <td>Sənaye məhsulları</td>\n",
              "      <td>27099</td>\n",
              "      <td>NaT</td>\n",
              "      <td>NaT</td>\n",
              "      <td>NaN</td>\n",
              "      <td>NaN</td>\n",
              "      <td>NaN</td>\n",
              "      <td>NaN</td>\n",
              "      <td>NaN</td>\n",
              "      <td>NaN</td>\n",
              "      <td>NaN</td>\n",
              "    </tr>\n",
              "    <tr>\n",
              "      <th>Kod 2</th>\n",
              "      <td>54744.0</td>\n",
              "      <td>NaN</td>\n",
              "      <td>NaN</td>\n",
              "      <td>NaN</td>\n",
              "      <td>NaT</td>\n",
              "      <td>NaT</td>\n",
              "      <td>41.712206</td>\n",
              "      <td>30.416453</td>\n",
              "      <td>1.0</td>\n",
              "      <td>8.0</td>\n",
              "      <td>38.0</td>\n",
              "      <td>73.0</td>\n",
              "      <td>97.0</td>\n",
              "    </tr>\n",
              "    <tr>\n",
              "      <th>Ad 2</th>\n",
              "      <td>54744</td>\n",
              "      <td>91</td>\n",
              "      <td>Tərəvəz və bəzi yeməli meyvəköklülər və kök yu...</td>\n",
              "      <td>8410</td>\n",
              "      <td>NaT</td>\n",
              "      <td>NaT</td>\n",
              "      <td>NaN</td>\n",
              "      <td>NaN</td>\n",
              "      <td>NaN</td>\n",
              "      <td>NaN</td>\n",
              "      <td>NaN</td>\n",
              "      <td>NaN</td>\n",
              "      <td>NaN</td>\n",
              "    </tr>\n",
              "    <tr>\n",
              "      <th>Kod 4</th>\n",
              "      <td>54744.0</td>\n",
              "      <td>NaN</td>\n",
              "      <td>NaN</td>\n",
              "      <td>NaN</td>\n",
              "      <td>NaT</td>\n",
              "      <td>NaT</td>\n",
              "      <td>4182.890947</td>\n",
              "      <td>3046.502863</td>\n",
              "      <td>101.0</td>\n",
              "      <td>810.0</td>\n",
              "      <td>3824.0</td>\n",
              "      <td>7308.0</td>\n",
              "      <td>9706.0</td>\n",
              "    </tr>\n",
              "    <tr>\n",
              "      <th>Ad 4</th>\n",
              "      <td>54744</td>\n",
              "      <td>737</td>\n",
              "      <td>Tomat, təzə və ya soyudulmuş</td>\n",
              "      <td>4987</td>\n",
              "      <td>NaT</td>\n",
              "      <td>NaT</td>\n",
              "      <td>NaN</td>\n",
              "      <td>NaN</td>\n",
              "      <td>NaN</td>\n",
              "      <td>NaN</td>\n",
              "      <td>NaN</td>\n",
              "      <td>NaN</td>\n",
              "      <td>NaN</td>\n",
              "    </tr>\n",
              "    <tr>\n",
              "      <th>Kod 6</th>\n",
              "      <td>54744.0</td>\n",
              "      <td>NaN</td>\n",
              "      <td>NaN</td>\n",
              "      <td>NaN</td>\n",
              "      <td>NaT</td>\n",
              "      <td>NaT</td>\n",
              "      <td>418321.9083</td>\n",
              "      <td>304654.813381</td>\n",
              "      <td>10129.0</td>\n",
              "      <td>81070.0</td>\n",
              "      <td>382440.0</td>\n",
              "      <td>730840.0</td>\n",
              "      <td>970600.0</td>\n",
              "    </tr>\n",
              "    <tr>\n",
              "      <th>Ad 6</th>\n",
              "      <td>54744</td>\n",
              "      <td>1844</td>\n",
              "      <td>Tomat, təzə və ya soyudulmuş</td>\n",
              "      <td>4987</td>\n",
              "      <td>NaT</td>\n",
              "      <td>NaT</td>\n",
              "      <td>NaN</td>\n",
              "      <td>NaN</td>\n",
              "      <td>NaN</td>\n",
              "      <td>NaN</td>\n",
              "      <td>NaN</td>\n",
              "      <td>NaN</td>\n",
              "      <td>NaN</td>\n",
              "    </tr>\n",
              "    <tr>\n",
              "      <th>Malın kodu</th>\n",
              "      <td>54744.0</td>\n",
              "      <td>NaN</td>\n",
              "      <td>NaN</td>\n",
              "      <td>NaN</td>\n",
              "      <td>NaT</td>\n",
              "      <td>NaT</td>\n",
              "      <td>4183222659.673042</td>\n",
              "      <td>3046548743.329159</td>\n",
              "      <td>101291000.0</td>\n",
              "      <td>810700000.0</td>\n",
              "      <td>3824400000.0</td>\n",
              "      <td>7308400009.0</td>\n",
              "      <td>9706000000.0</td>\n",
              "    </tr>\n",
              "    <tr>\n",
              "      <th>Miqdarı</th>\n",
              "      <td>54658.0</td>\n",
              "      <td>NaN</td>\n",
              "      <td>NaN</td>\n",
              "      <td>NaN</td>\n",
              "      <td>NaT</td>\n",
              "      <td>NaT</td>\n",
              "      <td>26691.738762</td>\n",
              "      <td>363128.43753</td>\n",
              "      <td>0.0</td>\n",
              "      <td>75.0</td>\n",
              "      <td>16800.0</td>\n",
              "      <td>21846.0</td>\n",
              "      <td>39942335.0</td>\n",
              "    </tr>\n",
              "    <tr>\n",
              "      <th>Ölçü vaxidi</th>\n",
              "      <td>54744</td>\n",
              "      <td>14</td>\n",
              "      <td>kq</td>\n",
              "      <td>46523</td>\n",
              "      <td>NaT</td>\n",
              "      <td>NaT</td>\n",
              "      <td>NaN</td>\n",
              "      <td>NaN</td>\n",
              "      <td>NaN</td>\n",
              "      <td>NaN</td>\n",
              "      <td>NaN</td>\n",
              "      <td>NaN</td>\n",
              "      <td>NaN</td>\n",
              "    </tr>\n",
              "    <tr>\n",
              "      <th>Tam qiyməti manatla</th>\n",
              "      <td>54670.0</td>\n",
              "      <td>NaN</td>\n",
              "      <td>NaN</td>\n",
              "      <td>NaN</td>\n",
              "      <td>NaT</td>\n",
              "      <td>NaT</td>\n",
              "      <td>50720.417422</td>\n",
              "      <td>644391.190653</td>\n",
              "      <td>0.02</td>\n",
              "      <td>1245.99</td>\n",
              "      <td>12804.4</td>\n",
              "      <td>38624.505</td>\n",
              "      <td>59494560.0</td>\n",
              "    </tr>\n",
              "    <tr>\n",
              "      <th>ABŞ dolları ilə</th>\n",
              "      <td>54670.0</td>\n",
              "      <td>NaN</td>\n",
              "      <td>NaN</td>\n",
              "      <td>NaN</td>\n",
              "      <td>NaT</td>\n",
              "      <td>NaT</td>\n",
              "      <td>29835.539658</td>\n",
              "      <td>379053.641561</td>\n",
              "      <td>0.0118</td>\n",
              "      <td>732.9353</td>\n",
              "      <td>7532.0</td>\n",
              "      <td>22720.29705</td>\n",
              "      <td>34996800.0</td>\n",
              "    </tr>\n",
              "    <tr>\n",
              "      <th>Vahidinin qiyməti (ABŞ dolları ilə)</th>\n",
              "      <td>54587.0</td>\n",
              "      <td>NaN</td>\n",
              "      <td>NaN</td>\n",
              "      <td>NaN</td>\n",
              "      <td>NaT</td>\n",
              "      <td>NaT</td>\n",
              "      <td>7223.294272</td>\n",
              "      <td>306961.576789</td>\n",
              "      <td>0.0054</td>\n",
              "      <td>0.60338</td>\n",
              "      <td>1.309547</td>\n",
              "      <td>6.6</td>\n",
              "      <td>34996800.0</td>\n",
              "    </tr>\n",
              "    <tr>\n",
              "      <th>Tərəfdaş ölkə</th>\n",
              "      <td>54698</td>\n",
              "      <td>104</td>\n",
              "      <td>RUSİYA</td>\n",
              "      <td>16875</td>\n",
              "      <td>NaT</td>\n",
              "      <td>NaT</td>\n",
              "      <td>NaN</td>\n",
              "      <td>NaN</td>\n",
              "      <td>NaN</td>\n",
              "      <td>NaN</td>\n",
              "      <td>NaN</td>\n",
              "      <td>NaN</td>\n",
              "      <td>NaN</td>\n",
              "    </tr>\n",
              "    <tr>\n",
              "      <th>İstehsalçı ölkə</th>\n",
              "      <td>54686</td>\n",
              "      <td>88</td>\n",
              "      <td>AZƏRBAYCAN</td>\n",
              "      <td>40050</td>\n",
              "      <td>NaT</td>\n",
              "      <td>NaT</td>\n",
              "      <td>NaN</td>\n",
              "      <td>NaN</td>\n",
              "      <td>NaN</td>\n",
              "      <td>NaN</td>\n",
              "      <td>NaN</td>\n",
              "      <td>NaN</td>\n",
              "      <td>NaN</td>\n",
              "    </tr>\n",
              "    <tr>\n",
              "      <th>Nəqliyyatın tipi</th>\n",
              "      <td>54744</td>\n",
              "      <td>8</td>\n",
              "      <td>Avtomobil nəqliyyatı vasitələri</td>\n",
              "      <td>41670</td>\n",
              "      <td>NaT</td>\n",
              "      <td>NaT</td>\n",
              "      <td>NaN</td>\n",
              "      <td>NaN</td>\n",
              "      <td>NaN</td>\n",
              "      <td>NaN</td>\n",
              "      <td>NaN</td>\n",
              "      <td>NaN</td>\n",
              "      <td>NaN</td>\n",
              "    </tr>\n",
              "  </tbody>\n",
              "</table>\n",
              "</div>\n",
              "      <button class=\"colab-df-convert\" onclick=\"convertToInteractive('df-82fe3cbd-6c27-4a8d-8266-0a723fe70935')\"\n",
              "              title=\"Convert this dataframe to an interactive table.\"\n",
              "              style=\"display:none;\">\n",
              "        \n",
              "  <svg xmlns=\"http://www.w3.org/2000/svg\" height=\"24px\"viewBox=\"0 0 24 24\"\n",
              "       width=\"24px\">\n",
              "    <path d=\"M0 0h24v24H0V0z\" fill=\"none\"/>\n",
              "    <path d=\"M18.56 5.44l.94 2.06.94-2.06 2.06-.94-2.06-.94-.94-2.06-.94 2.06-2.06.94zm-11 1L8.5 8.5l.94-2.06 2.06-.94-2.06-.94L8.5 2.5l-.94 2.06-2.06.94zm10 10l.94 2.06.94-2.06 2.06-.94-2.06-.94-.94-2.06-.94 2.06-2.06.94z\"/><path d=\"M17.41 7.96l-1.37-1.37c-.4-.4-.92-.59-1.43-.59-.52 0-1.04.2-1.43.59L10.3 9.45l-7.72 7.72c-.78.78-.78 2.05 0 2.83L4 21.41c.39.39.9.59 1.41.59.51 0 1.02-.2 1.41-.59l7.78-7.78 2.81-2.81c.8-.78.8-2.07 0-2.86zM5.41 20L4 18.59l7.72-7.72 1.47 1.35L5.41 20z\"/>\n",
              "  </svg>\n",
              "      </button>\n",
              "      \n",
              "  <style>\n",
              "    .colab-df-container {\n",
              "      display:flex;\n",
              "      flex-wrap:wrap;\n",
              "      gap: 12px;\n",
              "    }\n",
              "\n",
              "    .colab-df-convert {\n",
              "      background-color: #E8F0FE;\n",
              "      border: none;\n",
              "      border-radius: 50%;\n",
              "      cursor: pointer;\n",
              "      display: none;\n",
              "      fill: #1967D2;\n",
              "      height: 32px;\n",
              "      padding: 0 0 0 0;\n",
              "      width: 32px;\n",
              "    }\n",
              "\n",
              "    .colab-df-convert:hover {\n",
              "      background-color: #E2EBFA;\n",
              "      box-shadow: 0px 1px 2px rgba(60, 64, 67, 0.3), 0px 1px 3px 1px rgba(60, 64, 67, 0.15);\n",
              "      fill: #174EA6;\n",
              "    }\n",
              "\n",
              "    [theme=dark] .colab-df-convert {\n",
              "      background-color: #3B4455;\n",
              "      fill: #D2E3FC;\n",
              "    }\n",
              "\n",
              "    [theme=dark] .colab-df-convert:hover {\n",
              "      background-color: #434B5C;\n",
              "      box-shadow: 0px 1px 3px 1px rgba(0, 0, 0, 0.15);\n",
              "      filter: drop-shadow(0px 1px 2px rgba(0, 0, 0, 0.3));\n",
              "      fill: #FFFFFF;\n",
              "    }\n",
              "  </style>\n",
              "\n",
              "      <script>\n",
              "        const buttonEl =\n",
              "          document.querySelector('#df-82fe3cbd-6c27-4a8d-8266-0a723fe70935 button.colab-df-convert');\n",
              "        buttonEl.style.display =\n",
              "          google.colab.kernel.accessAllowed ? 'block' : 'none';\n",
              "\n",
              "        async function convertToInteractive(key) {\n",
              "          const element = document.querySelector('#df-82fe3cbd-6c27-4a8d-8266-0a723fe70935');\n",
              "          const dataTable =\n",
              "            await google.colab.kernel.invokeFunction('convertToInteractive',\n",
              "                                                     [key], {});\n",
              "          if (!dataTable) return;\n",
              "\n",
              "          const docLinkHtml = 'Like what you see? Visit the ' +\n",
              "            '<a target=\"_blank\" href=https://colab.research.google.com/notebooks/data_table.ipynb>data table notebook</a>'\n",
              "            + ' to learn more about interactive tables.';\n",
              "          element.innerHTML = '';\n",
              "          dataTable['output_type'] = 'display_data';\n",
              "          await google.colab.output.renderOutput(dataTable, element);\n",
              "          const docLink = document.createElement('div');\n",
              "          docLink.innerHTML = docLinkHtml;\n",
              "          element.appendChild(docLink);\n",
              "        }\n",
              "      </script>\n",
              "    </div>\n",
              "  </div>\n",
              "  "
            ],
            "text/plain": [
              "                                       count unique  ...           75%           max\n",
              "Bəyannamənin tarixi                    54744    241  ...           NaN           NaN\n",
              "Ümumi sahə                             54744      4  ...           NaN           NaN\n",
              "Kod 2                                54744.0    NaN  ...          73.0          97.0\n",
              "Ad 2                                   54744     91  ...           NaN           NaN\n",
              "Kod 4                                54744.0    NaN  ...        7308.0        9706.0\n",
              "Ad 4                                   54744    737  ...           NaN           NaN\n",
              "Kod 6                                54744.0    NaN  ...      730840.0      970600.0\n",
              "Ad 6                                   54744   1844  ...           NaN           NaN\n",
              "Malın kodu                           54744.0    NaN  ...  7308400009.0  9706000000.0\n",
              "Miqdarı                              54658.0    NaN  ...       21846.0    39942335.0\n",
              "Ölçü vaxidi                            54744     14  ...           NaN           NaN\n",
              "Tam qiyməti manatla                  54670.0    NaN  ...     38624.505    59494560.0\n",
              "ABŞ dolları ilə                      54670.0    NaN  ...   22720.29705    34996800.0\n",
              "Vahidinin qiyməti (ABŞ dolları ilə)  54587.0    NaN  ...           6.6    34996800.0\n",
              "Tərəfdaş ölkə                          54698    104  ...           NaN           NaN\n",
              "İstehsalçı ölkə                        54686     88  ...           NaN           NaN\n",
              "Nəqliyyatın tipi                       54744      8  ...           NaN           NaN\n",
              "\n",
              "[17 rows x 13 columns]"
            ]
          },
          "metadata": {},
          "execution_count": 26
        }
      ]
    },
    {
      "cell_type": "code",
      "source": [
        "temp = df['Tərəfdaş ölkə'].value_counts().head(20).reset_index()\n",
        "temp['faiz'] = round(temp['Tərəfdaş ölkə']/len(df)*100)\n",
        "temp"
      ],
      "metadata": {
        "colab": {
          "base_uri": "https://localhost:8080/",
          "height": 676
        },
        "id": "D7PWgvaz-WH_",
        "outputId": "829c1e06-57bf-4341-f15e-ad3f6b04fda1"
      },
      "execution_count": null,
      "outputs": [
        {
          "output_type": "execute_result",
          "data": {
            "text/html": [
              "\n",
              "  <div id=\"df-aa32e7df-be3b-4ae3-81d5-cd89f2efc06e\">\n",
              "    <div class=\"colab-df-container\">\n",
              "      <div>\n",
              "<style scoped>\n",
              "    .dataframe tbody tr th:only-of-type {\n",
              "        vertical-align: middle;\n",
              "    }\n",
              "\n",
              "    .dataframe tbody tr th {\n",
              "        vertical-align: top;\n",
              "    }\n",
              "\n",
              "    .dataframe thead th {\n",
              "        text-align: right;\n",
              "    }\n",
              "</style>\n",
              "<table border=\"1\" class=\"dataframe\">\n",
              "  <thead>\n",
              "    <tr style=\"text-align: right;\">\n",
              "      <th></th>\n",
              "      <th>index</th>\n",
              "      <th>Tərəfdaş ölkə</th>\n",
              "      <th>faiz</th>\n",
              "    </tr>\n",
              "  </thead>\n",
              "  <tbody>\n",
              "    <tr>\n",
              "      <th>0</th>\n",
              "      <td>RUSİYA</td>\n",
              "      <td>16875</td>\n",
              "      <td>31.0</td>\n",
              "    </tr>\n",
              "    <tr>\n",
              "      <th>1</th>\n",
              "      <td>GÜRCÜSTAN</td>\n",
              "      <td>9496</td>\n",
              "      <td>17.0</td>\n",
              "    </tr>\n",
              "    <tr>\n",
              "      <th>2</th>\n",
              "      <td>TÜRKİYƏ</td>\n",
              "      <td>9303</td>\n",
              "      <td>17.0</td>\n",
              "    </tr>\n",
              "    <tr>\n",
              "      <th>3</th>\n",
              "      <td>BÖYÜK BRİTANİYA</td>\n",
              "      <td>2654</td>\n",
              "      <td>5.0</td>\n",
              "    </tr>\n",
              "    <tr>\n",
              "      <th>4</th>\n",
              "      <td>ALMANİYA</td>\n",
              "      <td>1899</td>\n",
              "      <td>3.0</td>\n",
              "    </tr>\n",
              "    <tr>\n",
              "      <th>5</th>\n",
              "      <td>ABŞ</td>\n",
              "      <td>1231</td>\n",
              "      <td>2.0</td>\n",
              "    </tr>\n",
              "    <tr>\n",
              "      <th>6</th>\n",
              "      <td>UKRAYNA</td>\n",
              "      <td>1182</td>\n",
              "      <td>2.0</td>\n",
              "    </tr>\n",
              "    <tr>\n",
              "      <th>7</th>\n",
              "      <td>BİRLƏŞMİŞ ƏRƏB ƏM</td>\n",
              "      <td>1065</td>\n",
              "      <td>2.0</td>\n",
              "    </tr>\n",
              "    <tr>\n",
              "      <th>8</th>\n",
              "      <td>QAZAXISTAN</td>\n",
              "      <td>947</td>\n",
              "      <td>2.0</td>\n",
              "    </tr>\n",
              "    <tr>\n",
              "      <th>9</th>\n",
              "      <td>NİDERLAND</td>\n",
              "      <td>929</td>\n",
              "      <td>2.0</td>\n",
              "    </tr>\n",
              "    <tr>\n",
              "      <th>10</th>\n",
              "      <td>İRAN</td>\n",
              "      <td>781</td>\n",
              "      <td>1.0</td>\n",
              "    </tr>\n",
              "    <tr>\n",
              "      <th>11</th>\n",
              "      <td>ÇİN</td>\n",
              "      <td>501</td>\n",
              "      <td>1.0</td>\n",
              "    </tr>\n",
              "    <tr>\n",
              "      <th>12</th>\n",
              "      <td>BELARUS</td>\n",
              "      <td>454</td>\n",
              "      <td>1.0</td>\n",
              "    </tr>\n",
              "    <tr>\n",
              "      <th>13</th>\n",
              "      <td>İSVEÇRƏ</td>\n",
              "      <td>436</td>\n",
              "      <td>1.0</td>\n",
              "    </tr>\n",
              "    <tr>\n",
              "      <th>14</th>\n",
              "      <td>NORVEÇ</td>\n",
              "      <td>414</td>\n",
              "      <td>1.0</td>\n",
              "    </tr>\n",
              "    <tr>\n",
              "      <th>15</th>\n",
              "      <td>LÜKSEMBURQ</td>\n",
              "      <td>407</td>\n",
              "      <td>1.0</td>\n",
              "    </tr>\n",
              "    <tr>\n",
              "      <th>16</th>\n",
              "      <td>İRAQ</td>\n",
              "      <td>348</td>\n",
              "      <td>1.0</td>\n",
              "    </tr>\n",
              "    <tr>\n",
              "      <th>17</th>\n",
              "      <td>ÇEXİYA</td>\n",
              "      <td>338</td>\n",
              "      <td>1.0</td>\n",
              "    </tr>\n",
              "    <tr>\n",
              "      <th>18</th>\n",
              "      <td>ÖZBƏKİSTAN</td>\n",
              "      <td>308</td>\n",
              "      <td>1.0</td>\n",
              "    </tr>\n",
              "    <tr>\n",
              "      <th>19</th>\n",
              "      <td>FRANSA</td>\n",
              "      <td>305</td>\n",
              "      <td>1.0</td>\n",
              "    </tr>\n",
              "  </tbody>\n",
              "</table>\n",
              "</div>\n",
              "      <button class=\"colab-df-convert\" onclick=\"convertToInteractive('df-aa32e7df-be3b-4ae3-81d5-cd89f2efc06e')\"\n",
              "              title=\"Convert this dataframe to an interactive table.\"\n",
              "              style=\"display:none;\">\n",
              "        \n",
              "  <svg xmlns=\"http://www.w3.org/2000/svg\" height=\"24px\"viewBox=\"0 0 24 24\"\n",
              "       width=\"24px\">\n",
              "    <path d=\"M0 0h24v24H0V0z\" fill=\"none\"/>\n",
              "    <path d=\"M18.56 5.44l.94 2.06.94-2.06 2.06-.94-2.06-.94-.94-2.06-.94 2.06-2.06.94zm-11 1L8.5 8.5l.94-2.06 2.06-.94-2.06-.94L8.5 2.5l-.94 2.06-2.06.94zm10 10l.94 2.06.94-2.06 2.06-.94-2.06-.94-.94-2.06-.94 2.06-2.06.94z\"/><path d=\"M17.41 7.96l-1.37-1.37c-.4-.4-.92-.59-1.43-.59-.52 0-1.04.2-1.43.59L10.3 9.45l-7.72 7.72c-.78.78-.78 2.05 0 2.83L4 21.41c.39.39.9.59 1.41.59.51 0 1.02-.2 1.41-.59l7.78-7.78 2.81-2.81c.8-.78.8-2.07 0-2.86zM5.41 20L4 18.59l7.72-7.72 1.47 1.35L5.41 20z\"/>\n",
              "  </svg>\n",
              "      </button>\n",
              "      \n",
              "  <style>\n",
              "    .colab-df-container {\n",
              "      display:flex;\n",
              "      flex-wrap:wrap;\n",
              "      gap: 12px;\n",
              "    }\n",
              "\n",
              "    .colab-df-convert {\n",
              "      background-color: #E8F0FE;\n",
              "      border: none;\n",
              "      border-radius: 50%;\n",
              "      cursor: pointer;\n",
              "      display: none;\n",
              "      fill: #1967D2;\n",
              "      height: 32px;\n",
              "      padding: 0 0 0 0;\n",
              "      width: 32px;\n",
              "    }\n",
              "\n",
              "    .colab-df-convert:hover {\n",
              "      background-color: #E2EBFA;\n",
              "      box-shadow: 0px 1px 2px rgba(60, 64, 67, 0.3), 0px 1px 3px 1px rgba(60, 64, 67, 0.15);\n",
              "      fill: #174EA6;\n",
              "    }\n",
              "\n",
              "    [theme=dark] .colab-df-convert {\n",
              "      background-color: #3B4455;\n",
              "      fill: #D2E3FC;\n",
              "    }\n",
              "\n",
              "    [theme=dark] .colab-df-convert:hover {\n",
              "      background-color: #434B5C;\n",
              "      box-shadow: 0px 1px 3px 1px rgba(0, 0, 0, 0.15);\n",
              "      filter: drop-shadow(0px 1px 2px rgba(0, 0, 0, 0.3));\n",
              "      fill: #FFFFFF;\n",
              "    }\n",
              "  </style>\n",
              "\n",
              "      <script>\n",
              "        const buttonEl =\n",
              "          document.querySelector('#df-aa32e7df-be3b-4ae3-81d5-cd89f2efc06e button.colab-df-convert');\n",
              "        buttonEl.style.display =\n",
              "          google.colab.kernel.accessAllowed ? 'block' : 'none';\n",
              "\n",
              "        async function convertToInteractive(key) {\n",
              "          const element = document.querySelector('#df-aa32e7df-be3b-4ae3-81d5-cd89f2efc06e');\n",
              "          const dataTable =\n",
              "            await google.colab.kernel.invokeFunction('convertToInteractive',\n",
              "                                                     [key], {});\n",
              "          if (!dataTable) return;\n",
              "\n",
              "          const docLinkHtml = 'Like what you see? Visit the ' +\n",
              "            '<a target=\"_blank\" href=https://colab.research.google.com/notebooks/data_table.ipynb>data table notebook</a>'\n",
              "            + ' to learn more about interactive tables.';\n",
              "          element.innerHTML = '';\n",
              "          dataTable['output_type'] = 'display_data';\n",
              "          await google.colab.output.renderOutput(dataTable, element);\n",
              "          const docLink = document.createElement('div');\n",
              "          docLink.innerHTML = docLinkHtml;\n",
              "          element.appendChild(docLink);\n",
              "        }\n",
              "      </script>\n",
              "    </div>\n",
              "  </div>\n",
              "  "
            ],
            "text/plain": [
              "                index  Tərəfdaş ölkə  faiz\n",
              "0              RUSİYA          16875  31.0\n",
              "1           GÜRCÜSTAN           9496  17.0\n",
              "2             TÜRKİYƏ           9303  17.0\n",
              "3     BÖYÜK BRİTANİYA           2654   5.0\n",
              "4            ALMANİYA           1899   3.0\n",
              "5                 ABŞ           1231   2.0\n",
              "6             UKRAYNA           1182   2.0\n",
              "7   BİRLƏŞMİŞ ƏRƏB ƏM           1065   2.0\n",
              "8          QAZAXISTAN            947   2.0\n",
              "9           NİDERLAND            929   2.0\n",
              "10               İRAN            781   1.0\n",
              "11                ÇİN            501   1.0\n",
              "12            BELARUS            454   1.0\n",
              "13            İSVEÇRƏ            436   1.0\n",
              "14             NORVEÇ            414   1.0\n",
              "15         LÜKSEMBURQ            407   1.0\n",
              "16               İRAQ            348   1.0\n",
              "17             ÇEXİYA            338   1.0\n",
              "18         ÖZBƏKİSTAN            308   1.0\n",
              "19             FRANSA            305   1.0"
            ]
          },
          "metadata": {},
          "execution_count": 144
        }
      ]
    },
    {
      "cell_type": "code",
      "source": [
        "df['Tərəfdaş ölkə'].value_counts().tail(20)"
      ],
      "metadata": {
        "colab": {
          "base_uri": "https://localhost:8080/"
        },
        "id": "6UMypFpdyHbo",
        "outputId": "7c97c20c-ba7c-450e-8053-31e085ea33e8"
      },
      "execution_count": null,
      "outputs": [
        {
          "output_type": "execute_result",
          "data": {
            "text/plain": [
              "YƏMƏN                5\n",
              "PAPUA-YENİ QVİNEY    5\n",
              "BƏHREYN              4\n",
              "QANA                 4\n",
              "KOT-D'İVUAR          3\n",
              "MAROKKO              3\n",
              "BANQLADEŞ            3\n",
              "KİPR                 3\n",
              "KUBA                 1\n",
              "SERRA-LEONE          1\n",
              "LİVAN                1\n",
              "KAMBOCA              1\n",
              "MONTENEQRO           1\n",
              "BOLİVİYA             1\n",
              "FƏLƏSTİN             1\n",
              "BRUNEY               1\n",
              "VİRGİN ADALARI (B    1\n",
              "MOZAMBİK             1\n",
              "MARŞALLOVI ADALAR    1\n",
              "KAMERUN              1\n",
              "Name: Tərəfdaş ölkə, dtype: int64"
            ]
          },
          "metadata": {},
          "execution_count": 28
        }
      ]
    },
    {
      "cell_type": "code",
      "source": [
        "len(df['Tərəfdaş ölkə'].unique()) # Total number of unique values"
      ],
      "metadata": {
        "colab": {
          "base_uri": "https://localhost:8080/"
        },
        "id": "fNlXHJ_nyRjt",
        "outputId": "7801d9f6-8961-433c-917f-6d56637a7e37"
      },
      "execution_count": null,
      "outputs": [
        {
          "output_type": "execute_result",
          "data": {
            "text/plain": [
              "105"
            ]
          },
          "metadata": {},
          "execution_count": 29
        }
      ]
    },
    {
      "cell_type": "code",
      "source": [
        "len(df['İstehsalçı ölkə'].unique())"
      ],
      "metadata": {
        "colab": {
          "base_uri": "https://localhost:8080/"
        },
        "id": "koKMZtjGya-S",
        "outputId": "a25d4c1d-8b44-4b86-a7b4-7a15edb72295"
      },
      "execution_count": null,
      "outputs": [
        {
          "output_type": "execute_result",
          "data": {
            "text/plain": [
              "89"
            ]
          },
          "metadata": {},
          "execution_count": 30
        }
      ]
    },
    {
      "cell_type": "code",
      "source": [
        "temp = df['Ad 6'].value_counts().reset_index()\n",
        "temp['faiz'] = round(temp['Ad 6']/len(df)*100, 1) # Ad 6\n",
        "temp.head(10)"
      ],
      "metadata": {
        "colab": {
          "base_uri": "https://localhost:8080/",
          "height": 363
        },
        "id": "T_sHCYX6L7A0",
        "outputId": "a6b001a7-a460-4492-b7f9-a9c13652f799"
      },
      "execution_count": null,
      "outputs": [
        {
          "output_type": "execute_result",
          "data": {
            "text/html": [
              "\n",
              "  <div id=\"df-f34f4d71-a0ce-4a52-8a7c-aec73abae777\">\n",
              "    <div class=\"colab-df-container\">\n",
              "      <div>\n",
              "<style scoped>\n",
              "    .dataframe tbody tr th:only-of-type {\n",
              "        vertical-align: middle;\n",
              "    }\n",
              "\n",
              "    .dataframe tbody tr th {\n",
              "        vertical-align: top;\n",
              "    }\n",
              "\n",
              "    .dataframe thead th {\n",
              "        text-align: right;\n",
              "    }\n",
              "</style>\n",
              "<table border=\"1\" class=\"dataframe\">\n",
              "  <thead>\n",
              "    <tr style=\"text-align: right;\">\n",
              "      <th></th>\n",
              "      <th>index</th>\n",
              "      <th>Ad 6</th>\n",
              "      <th>faiz</th>\n",
              "    </tr>\n",
              "  </thead>\n",
              "  <tbody>\n",
              "    <tr>\n",
              "      <th>0</th>\n",
              "      <td>Tomat, təzə və ya soyudulmuş</td>\n",
              "      <td>4987</td>\n",
              "      <td>9.1</td>\n",
              "    </tr>\n",
              "    <tr>\n",
              "      <th>1</th>\n",
              "      <td>Sement klinkerləri</td>\n",
              "      <td>4899</td>\n",
              "      <td>8.9</td>\n",
              "    </tr>\n",
              "    <tr>\n",
              "      <th>2</th>\n",
              "      <td>Pambıq lifi, daranmaya məruz qalmamış</td>\n",
              "      <td>4411</td>\n",
              "      <td>8.1</td>\n",
              "    </tr>\n",
              "    <tr>\n",
              "      <th>3</th>\n",
              "      <td>Xurma, təzə</td>\n",
              "      <td>2037</td>\n",
              "      <td>3.7</td>\n",
              "    </tr>\n",
              "    <tr>\n",
              "      <th>4</th>\n",
              "      <td>Alma, təzə</td>\n",
              "      <td>2013</td>\n",
              "      <td>3.7</td>\n",
              "    </tr>\n",
              "    <tr>\n",
              "      <th>5</th>\n",
              "      <td>Salat tərəvəzi, salat-kahıdan və kasnıdan başq...</td>\n",
              "      <td>819</td>\n",
              "      <td>1.5</td>\n",
              "    </tr>\n",
              "    <tr>\n",
              "      <th>6</th>\n",
              "      <td>Pambıq yağının ekstraksiyası nəticəsində alına...</td>\n",
              "      <td>709</td>\n",
              "      <td>1.3</td>\n",
              "    </tr>\n",
              "    <tr>\n",
              "      <th>7</th>\n",
              "      <td>Dəmirdən və ya aşqarlanmamış poladdan isti yay...</td>\n",
              "      <td>657</td>\n",
              "      <td>1.2</td>\n",
              "    </tr>\n",
              "    <tr>\n",
              "      <th>8</th>\n",
              "      <td>Kartof, təzə və ya soyudulmuş, digərləri</td>\n",
              "      <td>621</td>\n",
              "      <td>1.1</td>\n",
              "    </tr>\n",
              "    <tr>\n",
              "      <th>9</th>\n",
              "      <td>İlkin formalı polipropilen</td>\n",
              "      <td>566</td>\n",
              "      <td>1.0</td>\n",
              "    </tr>\n",
              "  </tbody>\n",
              "</table>\n",
              "</div>\n",
              "      <button class=\"colab-df-convert\" onclick=\"convertToInteractive('df-f34f4d71-a0ce-4a52-8a7c-aec73abae777')\"\n",
              "              title=\"Convert this dataframe to an interactive table.\"\n",
              "              style=\"display:none;\">\n",
              "        \n",
              "  <svg xmlns=\"http://www.w3.org/2000/svg\" height=\"24px\"viewBox=\"0 0 24 24\"\n",
              "       width=\"24px\">\n",
              "    <path d=\"M0 0h24v24H0V0z\" fill=\"none\"/>\n",
              "    <path d=\"M18.56 5.44l.94 2.06.94-2.06 2.06-.94-2.06-.94-.94-2.06-.94 2.06-2.06.94zm-11 1L8.5 8.5l.94-2.06 2.06-.94-2.06-.94L8.5 2.5l-.94 2.06-2.06.94zm10 10l.94 2.06.94-2.06 2.06-.94-2.06-.94-.94-2.06-.94 2.06-2.06.94z\"/><path d=\"M17.41 7.96l-1.37-1.37c-.4-.4-.92-.59-1.43-.59-.52 0-1.04.2-1.43.59L10.3 9.45l-7.72 7.72c-.78.78-.78 2.05 0 2.83L4 21.41c.39.39.9.59 1.41.59.51 0 1.02-.2 1.41-.59l7.78-7.78 2.81-2.81c.8-.78.8-2.07 0-2.86zM5.41 20L4 18.59l7.72-7.72 1.47 1.35L5.41 20z\"/>\n",
              "  </svg>\n",
              "      </button>\n",
              "      \n",
              "  <style>\n",
              "    .colab-df-container {\n",
              "      display:flex;\n",
              "      flex-wrap:wrap;\n",
              "      gap: 12px;\n",
              "    }\n",
              "\n",
              "    .colab-df-convert {\n",
              "      background-color: #E8F0FE;\n",
              "      border: none;\n",
              "      border-radius: 50%;\n",
              "      cursor: pointer;\n",
              "      display: none;\n",
              "      fill: #1967D2;\n",
              "      height: 32px;\n",
              "      padding: 0 0 0 0;\n",
              "      width: 32px;\n",
              "    }\n",
              "\n",
              "    .colab-df-convert:hover {\n",
              "      background-color: #E2EBFA;\n",
              "      box-shadow: 0px 1px 2px rgba(60, 64, 67, 0.3), 0px 1px 3px 1px rgba(60, 64, 67, 0.15);\n",
              "      fill: #174EA6;\n",
              "    }\n",
              "\n",
              "    [theme=dark] .colab-df-convert {\n",
              "      background-color: #3B4455;\n",
              "      fill: #D2E3FC;\n",
              "    }\n",
              "\n",
              "    [theme=dark] .colab-df-convert:hover {\n",
              "      background-color: #434B5C;\n",
              "      box-shadow: 0px 1px 3px 1px rgba(0, 0, 0, 0.15);\n",
              "      filter: drop-shadow(0px 1px 2px rgba(0, 0, 0, 0.3));\n",
              "      fill: #FFFFFF;\n",
              "    }\n",
              "  </style>\n",
              "\n",
              "      <script>\n",
              "        const buttonEl =\n",
              "          document.querySelector('#df-f34f4d71-a0ce-4a52-8a7c-aec73abae777 button.colab-df-convert');\n",
              "        buttonEl.style.display =\n",
              "          google.colab.kernel.accessAllowed ? 'block' : 'none';\n",
              "\n",
              "        async function convertToInteractive(key) {\n",
              "          const element = document.querySelector('#df-f34f4d71-a0ce-4a52-8a7c-aec73abae777');\n",
              "          const dataTable =\n",
              "            await google.colab.kernel.invokeFunction('convertToInteractive',\n",
              "                                                     [key], {});\n",
              "          if (!dataTable) return;\n",
              "\n",
              "          const docLinkHtml = 'Like what you see? Visit the ' +\n",
              "            '<a target=\"_blank\" href=https://colab.research.google.com/notebooks/data_table.ipynb>data table notebook</a>'\n",
              "            + ' to learn more about interactive tables.';\n",
              "          element.innerHTML = '';\n",
              "          dataTable['output_type'] = 'display_data';\n",
              "          await google.colab.output.renderOutput(dataTable, element);\n",
              "          const docLink = document.createElement('div');\n",
              "          docLink.innerHTML = docLinkHtml;\n",
              "          element.appendChild(docLink);\n",
              "        }\n",
              "      </script>\n",
              "    </div>\n",
              "  </div>\n",
              "  "
            ],
            "text/plain": [
              "                                               index  Ad 6  faiz\n",
              "0                       Tomat, təzə və ya soyudulmuş  4987   9.1\n",
              "1                                 Sement klinkerləri  4899   8.9\n",
              "2              Pambıq lifi, daranmaya məruz qalmamış  4411   8.1\n",
              "3                                        Xurma, təzə  2037   3.7\n",
              "4                                         Alma, təzə  2013   3.7\n",
              "5  Salat tərəvəzi, salat-kahıdan və kasnıdan başq...   819   1.5\n",
              "6  Pambıq yağının ekstraksiyası nəticəsində alına...   709   1.3\n",
              "7  Dəmirdən və ya aşqarlanmamış poladdan isti yay...   657   1.2\n",
              "8           Kartof, təzə və ya soyudulmuş, digərləri   621   1.1\n",
              "9                         İlkin formalı polipropilen   566   1.0"
            ]
          },
          "metadata": {},
          "execution_count": 145
        }
      ]
    },
    {
      "cell_type": "code",
      "source": [
        "temp = df['Ad 4'].value_counts().reset_index()\n",
        "temp['faiz'] = round(temp['Ad 4']/len(df)*100, 1) # Ad 4\n",
        "temp.head(10)"
      ],
      "metadata": {
        "colab": {
          "base_uri": "https://localhost:8080/",
          "height": 363
        },
        "id": "8Ou3kb94Mrmo",
        "outputId": "5d9acf7b-3220-4be6-c03a-bf26d8dc7f97"
      },
      "execution_count": null,
      "outputs": [
        {
          "output_type": "execute_result",
          "data": {
            "text/html": [
              "\n",
              "  <div id=\"df-0b985f05-ccd5-414e-b28c-ab2c845e36b7\">\n",
              "    <div class=\"colab-df-container\">\n",
              "      <div>\n",
              "<style scoped>\n",
              "    .dataframe tbody tr th:only-of-type {\n",
              "        vertical-align: middle;\n",
              "    }\n",
              "\n",
              "    .dataframe tbody tr th {\n",
              "        vertical-align: top;\n",
              "    }\n",
              "\n",
              "    .dataframe thead th {\n",
              "        text-align: right;\n",
              "    }\n",
              "</style>\n",
              "<table border=\"1\" class=\"dataframe\">\n",
              "  <thead>\n",
              "    <tr style=\"text-align: right;\">\n",
              "      <th></th>\n",
              "      <th>index</th>\n",
              "      <th>Ad 4</th>\n",
              "      <th>faiz</th>\n",
              "    </tr>\n",
              "  </thead>\n",
              "  <tbody>\n",
              "    <tr>\n",
              "      <th>0</th>\n",
              "      <td>Tomat, təzə və ya soyudulmuş</td>\n",
              "      <td>4987</td>\n",
              "      <td>9.1</td>\n",
              "    </tr>\n",
              "    <tr>\n",
              "      <th>1</th>\n",
              "      <td>Portlandsement, giltorpaqlı sement, şlaklı sem...</td>\n",
              "      <td>4923</td>\n",
              "      <td>9.0</td>\n",
              "    </tr>\n",
              "    <tr>\n",
              "      <th>2</th>\n",
              "      <td>Pambıq lifi, kardo və daraqla daranmaya məruz ...</td>\n",
              "      <td>4411</td>\n",
              "      <td>8.1</td>\n",
              "    </tr>\n",
              "    <tr>\n",
              "      <th>3</th>\n",
              "      <td>Digər meyvələr, təzələr</td>\n",
              "      <td>2535</td>\n",
              "      <td>4.6</td>\n",
              "    </tr>\n",
              "    <tr>\n",
              "      <th>4</th>\n",
              "      <td>Almalar, armudlar və heyvalar, təzə</td>\n",
              "      <td>2112</td>\n",
              "      <td>3.9</td>\n",
              "    </tr>\n",
              "    <tr>\n",
              "      <th>5</th>\n",
              "      <td>Digər tərəvəz, təzə və ya soyudulmuşlar</td>\n",
              "      <td>1548</td>\n",
              "      <td>2.8</td>\n",
              "    </tr>\n",
              "    <tr>\n",
              "      <th>6</th>\n",
              "      <td>Etilen polimerləri, ilkin formalarda</td>\n",
              "      <td>824</td>\n",
              "      <td>1.5</td>\n",
              "    </tr>\n",
              "    <tr>\n",
              "      <th>7</th>\n",
              "      <td>Qalınlığı 0,20 mm-dən çox alüminium plitələr, ...</td>\n",
              "      <td>819</td>\n",
              "      <td>1.5</td>\n",
              "    </tr>\n",
              "    <tr>\n",
              "      <th>8</th>\n",
              "      <td>Dəmirdən və ya aşqarlanmamış poladdan yarımfab...</td>\n",
              "      <td>720</td>\n",
              "      <td>1.3</td>\n",
              "    </tr>\n",
              "    <tr>\n",
              "      <th>9</th>\n",
              "      <td>Propilen və ya digər olefinlərin polimerləri, ...</td>\n",
              "      <td>715</td>\n",
              "      <td>1.3</td>\n",
              "    </tr>\n",
              "  </tbody>\n",
              "</table>\n",
              "</div>\n",
              "      <button class=\"colab-df-convert\" onclick=\"convertToInteractive('df-0b985f05-ccd5-414e-b28c-ab2c845e36b7')\"\n",
              "              title=\"Convert this dataframe to an interactive table.\"\n",
              "              style=\"display:none;\">\n",
              "        \n",
              "  <svg xmlns=\"http://www.w3.org/2000/svg\" height=\"24px\"viewBox=\"0 0 24 24\"\n",
              "       width=\"24px\">\n",
              "    <path d=\"M0 0h24v24H0V0z\" fill=\"none\"/>\n",
              "    <path d=\"M18.56 5.44l.94 2.06.94-2.06 2.06-.94-2.06-.94-.94-2.06-.94 2.06-2.06.94zm-11 1L8.5 8.5l.94-2.06 2.06-.94-2.06-.94L8.5 2.5l-.94 2.06-2.06.94zm10 10l.94 2.06.94-2.06 2.06-.94-2.06-.94-.94-2.06-.94 2.06-2.06.94z\"/><path d=\"M17.41 7.96l-1.37-1.37c-.4-.4-.92-.59-1.43-.59-.52 0-1.04.2-1.43.59L10.3 9.45l-7.72 7.72c-.78.78-.78 2.05 0 2.83L4 21.41c.39.39.9.59 1.41.59.51 0 1.02-.2 1.41-.59l7.78-7.78 2.81-2.81c.8-.78.8-2.07 0-2.86zM5.41 20L4 18.59l7.72-7.72 1.47 1.35L5.41 20z\"/>\n",
              "  </svg>\n",
              "      </button>\n",
              "      \n",
              "  <style>\n",
              "    .colab-df-container {\n",
              "      display:flex;\n",
              "      flex-wrap:wrap;\n",
              "      gap: 12px;\n",
              "    }\n",
              "\n",
              "    .colab-df-convert {\n",
              "      background-color: #E8F0FE;\n",
              "      border: none;\n",
              "      border-radius: 50%;\n",
              "      cursor: pointer;\n",
              "      display: none;\n",
              "      fill: #1967D2;\n",
              "      height: 32px;\n",
              "      padding: 0 0 0 0;\n",
              "      width: 32px;\n",
              "    }\n",
              "\n",
              "    .colab-df-convert:hover {\n",
              "      background-color: #E2EBFA;\n",
              "      box-shadow: 0px 1px 2px rgba(60, 64, 67, 0.3), 0px 1px 3px 1px rgba(60, 64, 67, 0.15);\n",
              "      fill: #174EA6;\n",
              "    }\n",
              "\n",
              "    [theme=dark] .colab-df-convert {\n",
              "      background-color: #3B4455;\n",
              "      fill: #D2E3FC;\n",
              "    }\n",
              "\n",
              "    [theme=dark] .colab-df-convert:hover {\n",
              "      background-color: #434B5C;\n",
              "      box-shadow: 0px 1px 3px 1px rgba(0, 0, 0, 0.15);\n",
              "      filter: drop-shadow(0px 1px 2px rgba(0, 0, 0, 0.3));\n",
              "      fill: #FFFFFF;\n",
              "    }\n",
              "  </style>\n",
              "\n",
              "      <script>\n",
              "        const buttonEl =\n",
              "          document.querySelector('#df-0b985f05-ccd5-414e-b28c-ab2c845e36b7 button.colab-df-convert');\n",
              "        buttonEl.style.display =\n",
              "          google.colab.kernel.accessAllowed ? 'block' : 'none';\n",
              "\n",
              "        async function convertToInteractive(key) {\n",
              "          const element = document.querySelector('#df-0b985f05-ccd5-414e-b28c-ab2c845e36b7');\n",
              "          const dataTable =\n",
              "            await google.colab.kernel.invokeFunction('convertToInteractive',\n",
              "                                                     [key], {});\n",
              "          if (!dataTable) return;\n",
              "\n",
              "          const docLinkHtml = 'Like what you see? Visit the ' +\n",
              "            '<a target=\"_blank\" href=https://colab.research.google.com/notebooks/data_table.ipynb>data table notebook</a>'\n",
              "            + ' to learn more about interactive tables.';\n",
              "          element.innerHTML = '';\n",
              "          dataTable['output_type'] = 'display_data';\n",
              "          await google.colab.output.renderOutput(dataTable, element);\n",
              "          const docLink = document.createElement('div');\n",
              "          docLink.innerHTML = docLinkHtml;\n",
              "          element.appendChild(docLink);\n",
              "        }\n",
              "      </script>\n",
              "    </div>\n",
              "  </div>\n",
              "  "
            ],
            "text/plain": [
              "                                               index  Ad 4  faiz\n",
              "0                       Tomat, təzə və ya soyudulmuş  4987   9.1\n",
              "1  Portlandsement, giltorpaqlı sement, şlaklı sem...  4923   9.0\n",
              "2  Pambıq lifi, kardo və daraqla daranmaya məruz ...  4411   8.1\n",
              "3                            Digər meyvələr, təzələr  2535   4.6\n",
              "4                Almalar, armudlar və heyvalar, təzə  2112   3.9\n",
              "5            Digər tərəvəz, təzə və ya soyudulmuşlar  1548   2.8\n",
              "6               Etilen polimerləri, ilkin formalarda   824   1.5\n",
              "7  Qalınlığı 0,20 mm-dən çox alüminium plitələr, ...   819   1.5\n",
              "8  Dəmirdən və ya aşqarlanmamış poladdan yarımfab...   720   1.3\n",
              "9  Propilen və ya digər olefinlərin polimerləri, ...   715   1.3"
            ]
          },
          "metadata": {},
          "execution_count": 32
        }
      ]
    },
    {
      "cell_type": "code",
      "source": [
        "temp = df['Ad 2'].value_counts().reset_index()\n",
        "temp['faiz'] = round(temp['Ad 2']/len(df)*100, 1)\n",
        "temp.head(10)"
      ],
      "metadata": {
        "colab": {
          "base_uri": "https://localhost:8080/",
          "height": 363
        },
        "id": "3D2F62KkL687",
        "outputId": "2a7f89dc-39a4-4f14-a7a9-af37e04dd410"
      },
      "execution_count": null,
      "outputs": [
        {
          "output_type": "execute_result",
          "data": {
            "text/html": [
              "\n",
              "  <div id=\"df-7a1a480e-871b-470c-9362-ec9fe5b57531\">\n",
              "    <div class=\"colab-df-container\">\n",
              "      <div>\n",
              "<style scoped>\n",
              "    .dataframe tbody tr th:only-of-type {\n",
              "        vertical-align: middle;\n",
              "    }\n",
              "\n",
              "    .dataframe tbody tr th {\n",
              "        vertical-align: top;\n",
              "    }\n",
              "\n",
              "    .dataframe thead th {\n",
              "        text-align: right;\n",
              "    }\n",
              "</style>\n",
              "<table border=\"1\" class=\"dataframe\">\n",
              "  <thead>\n",
              "    <tr style=\"text-align: right;\">\n",
              "      <th></th>\n",
              "      <th>index</th>\n",
              "      <th>Ad 2</th>\n",
              "      <th>faiz</th>\n",
              "    </tr>\n",
              "  </thead>\n",
              "  <tbody>\n",
              "    <tr>\n",
              "      <th>0</th>\n",
              "      <td>Tərəvəz və bəzi yeməli meyvəköklülər və kök yu...</td>\n",
              "      <td>8410</td>\n",
              "      <td>15.4</td>\n",
              "    </tr>\n",
              "    <tr>\n",
              "      <th>1</th>\n",
              "      <td>Duz; kükürd; torpaq və daş; suvaq materialları...</td>\n",
              "      <td>5592</td>\n",
              "      <td>10.2</td>\n",
              "    </tr>\n",
              "    <tr>\n",
              "      <th>2</th>\n",
              "      <td>Yeməli meyvələr və qoz-fındıq; sitrus meyvələr...</td>\n",
              "      <td>5440</td>\n",
              "      <td>9.9</td>\n",
              "    </tr>\n",
              "    <tr>\n",
              "      <th>3</th>\n",
              "      <td>Pambıq</td>\n",
              "      <td>5095</td>\n",
              "      <td>9.3</td>\n",
              "    </tr>\n",
              "    <tr>\n",
              "      <th>4</th>\n",
              "      <td>Nüvə reaktorları, qazanlar, avadanlıq və mexan...</td>\n",
              "      <td>3427</td>\n",
              "      <td>6.3</td>\n",
              "    </tr>\n",
              "    <tr>\n",
              "      <th>5</th>\n",
              "      <td>Plastmassa və onlardan hazırlanan məmulatlar</td>\n",
              "      <td>2442</td>\n",
              "      <td>4.5</td>\n",
              "    </tr>\n",
              "    <tr>\n",
              "      <th>6</th>\n",
              "      <td>Elektrik maşınları və avadanlıqları, onların h...</td>\n",
              "      <td>2214</td>\n",
              "      <td>4.0</td>\n",
              "    </tr>\n",
              "    <tr>\n",
              "      <th>7</th>\n",
              "      <td>Qara metallardan məmulatlar</td>\n",
              "      <td>1757</td>\n",
              "      <td>3.2</td>\n",
              "    </tr>\n",
              "    <tr>\n",
              "      <th>8</th>\n",
              "      <td>Qara metallar</td>\n",
              "      <td>1611</td>\n",
              "      <td>2.9</td>\n",
              "    </tr>\n",
              "    <tr>\n",
              "      <th>9</th>\n",
              "      <td>Alüminium və ondan hazırlanan məmulatlar</td>\n",
              "      <td>1575</td>\n",
              "      <td>2.9</td>\n",
              "    </tr>\n",
              "  </tbody>\n",
              "</table>\n",
              "</div>\n",
              "      <button class=\"colab-df-convert\" onclick=\"convertToInteractive('df-7a1a480e-871b-470c-9362-ec9fe5b57531')\"\n",
              "              title=\"Convert this dataframe to an interactive table.\"\n",
              "              style=\"display:none;\">\n",
              "        \n",
              "  <svg xmlns=\"http://www.w3.org/2000/svg\" height=\"24px\"viewBox=\"0 0 24 24\"\n",
              "       width=\"24px\">\n",
              "    <path d=\"M0 0h24v24H0V0z\" fill=\"none\"/>\n",
              "    <path d=\"M18.56 5.44l.94 2.06.94-2.06 2.06-.94-2.06-.94-.94-2.06-.94 2.06-2.06.94zm-11 1L8.5 8.5l.94-2.06 2.06-.94-2.06-.94L8.5 2.5l-.94 2.06-2.06.94zm10 10l.94 2.06.94-2.06 2.06-.94-2.06-.94-.94-2.06-.94 2.06-2.06.94z\"/><path d=\"M17.41 7.96l-1.37-1.37c-.4-.4-.92-.59-1.43-.59-.52 0-1.04.2-1.43.59L10.3 9.45l-7.72 7.72c-.78.78-.78 2.05 0 2.83L4 21.41c.39.39.9.59 1.41.59.51 0 1.02-.2 1.41-.59l7.78-7.78 2.81-2.81c.8-.78.8-2.07 0-2.86zM5.41 20L4 18.59l7.72-7.72 1.47 1.35L5.41 20z\"/>\n",
              "  </svg>\n",
              "      </button>\n",
              "      \n",
              "  <style>\n",
              "    .colab-df-container {\n",
              "      display:flex;\n",
              "      flex-wrap:wrap;\n",
              "      gap: 12px;\n",
              "    }\n",
              "\n",
              "    .colab-df-convert {\n",
              "      background-color: #E8F0FE;\n",
              "      border: none;\n",
              "      border-radius: 50%;\n",
              "      cursor: pointer;\n",
              "      display: none;\n",
              "      fill: #1967D2;\n",
              "      height: 32px;\n",
              "      padding: 0 0 0 0;\n",
              "      width: 32px;\n",
              "    }\n",
              "\n",
              "    .colab-df-convert:hover {\n",
              "      background-color: #E2EBFA;\n",
              "      box-shadow: 0px 1px 2px rgba(60, 64, 67, 0.3), 0px 1px 3px 1px rgba(60, 64, 67, 0.15);\n",
              "      fill: #174EA6;\n",
              "    }\n",
              "\n",
              "    [theme=dark] .colab-df-convert {\n",
              "      background-color: #3B4455;\n",
              "      fill: #D2E3FC;\n",
              "    }\n",
              "\n",
              "    [theme=dark] .colab-df-convert:hover {\n",
              "      background-color: #434B5C;\n",
              "      box-shadow: 0px 1px 3px 1px rgba(0, 0, 0, 0.15);\n",
              "      filter: drop-shadow(0px 1px 2px rgba(0, 0, 0, 0.3));\n",
              "      fill: #FFFFFF;\n",
              "    }\n",
              "  </style>\n",
              "\n",
              "      <script>\n",
              "        const buttonEl =\n",
              "          document.querySelector('#df-7a1a480e-871b-470c-9362-ec9fe5b57531 button.colab-df-convert');\n",
              "        buttonEl.style.display =\n",
              "          google.colab.kernel.accessAllowed ? 'block' : 'none';\n",
              "\n",
              "        async function convertToInteractive(key) {\n",
              "          const element = document.querySelector('#df-7a1a480e-871b-470c-9362-ec9fe5b57531');\n",
              "          const dataTable =\n",
              "            await google.colab.kernel.invokeFunction('convertToInteractive',\n",
              "                                                     [key], {});\n",
              "          if (!dataTable) return;\n",
              "\n",
              "          const docLinkHtml = 'Like what you see? Visit the ' +\n",
              "            '<a target=\"_blank\" href=https://colab.research.google.com/notebooks/data_table.ipynb>data table notebook</a>'\n",
              "            + ' to learn more about interactive tables.';\n",
              "          element.innerHTML = '';\n",
              "          dataTable['output_type'] = 'display_data';\n",
              "          await google.colab.output.renderOutput(dataTable, element);\n",
              "          const docLink = document.createElement('div');\n",
              "          docLink.innerHTML = docLinkHtml;\n",
              "          element.appendChild(docLink);\n",
              "        }\n",
              "      </script>\n",
              "    </div>\n",
              "  </div>\n",
              "  "
            ],
            "text/plain": [
              "                                               index  Ad 2  faiz\n",
              "0  Tərəvəz və bəzi yeməli meyvəköklülər və kök yu...  8410  15.4\n",
              "1  Duz; kükürd; torpaq və daş; suvaq materialları...  5592  10.2\n",
              "2  Yeməli meyvələr və qoz-fındıq; sitrus meyvələr...  5440   9.9\n",
              "3                                             Pambıq  5095   9.3\n",
              "4  Nüvə reaktorları, qazanlar, avadanlıq və mexan...  3427   6.3\n",
              "5       Plastmassa və onlardan hazırlanan məmulatlar  2442   4.5\n",
              "6  Elektrik maşınları və avadanlıqları, onların h...  2214   4.0\n",
              "7                        Qara metallardan məmulatlar  1757   3.2\n",
              "8                                      Qara metallar  1611   2.9\n",
              "9           Alüminium və ondan hazırlanan məmulatlar  1575   2.9"
            ]
          },
          "metadata": {},
          "execution_count": 33
        }
      ]
    },
    {
      "cell_type": "code",
      "source": [
        "temp = df['Ümumi sahə'].value_counts().reset_index()\n",
        "temp['faiz'] = round(temp['Ümumi sahə']/len(df)*100, 1)\n",
        "temp.head(10)"
      ],
      "metadata": {
        "colab": {
          "base_uri": "https://localhost:8080/",
          "height": 175
        },
        "id": "EsoObikPrX18",
        "outputId": "210ec1b1-175e-440f-9166-850411122fd0"
      },
      "execution_count": null,
      "outputs": [
        {
          "output_type": "execute_result",
          "data": {
            "text/html": [
              "\n",
              "  <div id=\"df-f2c3a297-e783-4269-b796-6d125c982970\">\n",
              "    <div class=\"colab-df-container\">\n",
              "      <div>\n",
              "<style scoped>\n",
              "    .dataframe tbody tr th:only-of-type {\n",
              "        vertical-align: middle;\n",
              "    }\n",
              "\n",
              "    .dataframe tbody tr th {\n",
              "        vertical-align: top;\n",
              "    }\n",
              "\n",
              "    .dataframe thead th {\n",
              "        text-align: right;\n",
              "    }\n",
              "</style>\n",
              "<table border=\"1\" class=\"dataframe\">\n",
              "  <thead>\n",
              "    <tr style=\"text-align: right;\">\n",
              "      <th></th>\n",
              "      <th>index</th>\n",
              "      <th>Ümumi sahə</th>\n",
              "      <th>faiz</th>\n",
              "    </tr>\n",
              "  </thead>\n",
              "  <tbody>\n",
              "    <tr>\n",
              "      <th>0</th>\n",
              "      <td>Sənaye məhsulları</td>\n",
              "      <td>27099</td>\n",
              "      <td>49.5</td>\n",
              "    </tr>\n",
              "    <tr>\n",
              "      <th>1</th>\n",
              "      <td>İlkin kənd təsərrüfatı məhsulları</td>\n",
              "      <td>18938</td>\n",
              "      <td>34.6</td>\n",
              "    </tr>\n",
              "    <tr>\n",
              "      <th>2</th>\n",
              "      <td>Kənd təsərrüfatı emalı məhsulları</td>\n",
              "      <td>7393</td>\n",
              "      <td>13.5</td>\n",
              "    </tr>\n",
              "    <tr>\n",
              "      <th>3</th>\n",
              "      <td>Kimya sənayesi məhsulları</td>\n",
              "      <td>1314</td>\n",
              "      <td>2.4</td>\n",
              "    </tr>\n",
              "  </tbody>\n",
              "</table>\n",
              "</div>\n",
              "      <button class=\"colab-df-convert\" onclick=\"convertToInteractive('df-f2c3a297-e783-4269-b796-6d125c982970')\"\n",
              "              title=\"Convert this dataframe to an interactive table.\"\n",
              "              style=\"display:none;\">\n",
              "        \n",
              "  <svg xmlns=\"http://www.w3.org/2000/svg\" height=\"24px\"viewBox=\"0 0 24 24\"\n",
              "       width=\"24px\">\n",
              "    <path d=\"M0 0h24v24H0V0z\" fill=\"none\"/>\n",
              "    <path d=\"M18.56 5.44l.94 2.06.94-2.06 2.06-.94-2.06-.94-.94-2.06-.94 2.06-2.06.94zm-11 1L8.5 8.5l.94-2.06 2.06-.94-2.06-.94L8.5 2.5l-.94 2.06-2.06.94zm10 10l.94 2.06.94-2.06 2.06-.94-2.06-.94-.94-2.06-.94 2.06-2.06.94z\"/><path d=\"M17.41 7.96l-1.37-1.37c-.4-.4-.92-.59-1.43-.59-.52 0-1.04.2-1.43.59L10.3 9.45l-7.72 7.72c-.78.78-.78 2.05 0 2.83L4 21.41c.39.39.9.59 1.41.59.51 0 1.02-.2 1.41-.59l7.78-7.78 2.81-2.81c.8-.78.8-2.07 0-2.86zM5.41 20L4 18.59l7.72-7.72 1.47 1.35L5.41 20z\"/>\n",
              "  </svg>\n",
              "      </button>\n",
              "      \n",
              "  <style>\n",
              "    .colab-df-container {\n",
              "      display:flex;\n",
              "      flex-wrap:wrap;\n",
              "      gap: 12px;\n",
              "    }\n",
              "\n",
              "    .colab-df-convert {\n",
              "      background-color: #E8F0FE;\n",
              "      border: none;\n",
              "      border-radius: 50%;\n",
              "      cursor: pointer;\n",
              "      display: none;\n",
              "      fill: #1967D2;\n",
              "      height: 32px;\n",
              "      padding: 0 0 0 0;\n",
              "      width: 32px;\n",
              "    }\n",
              "\n",
              "    .colab-df-convert:hover {\n",
              "      background-color: #E2EBFA;\n",
              "      box-shadow: 0px 1px 2px rgba(60, 64, 67, 0.3), 0px 1px 3px 1px rgba(60, 64, 67, 0.15);\n",
              "      fill: #174EA6;\n",
              "    }\n",
              "\n",
              "    [theme=dark] .colab-df-convert {\n",
              "      background-color: #3B4455;\n",
              "      fill: #D2E3FC;\n",
              "    }\n",
              "\n",
              "    [theme=dark] .colab-df-convert:hover {\n",
              "      background-color: #434B5C;\n",
              "      box-shadow: 0px 1px 3px 1px rgba(0, 0, 0, 0.15);\n",
              "      filter: drop-shadow(0px 1px 2px rgba(0, 0, 0, 0.3));\n",
              "      fill: #FFFFFF;\n",
              "    }\n",
              "  </style>\n",
              "\n",
              "      <script>\n",
              "        const buttonEl =\n",
              "          document.querySelector('#df-f2c3a297-e783-4269-b796-6d125c982970 button.colab-df-convert');\n",
              "        buttonEl.style.display =\n",
              "          google.colab.kernel.accessAllowed ? 'block' : 'none';\n",
              "\n",
              "        async function convertToInteractive(key) {\n",
              "          const element = document.querySelector('#df-f2c3a297-e783-4269-b796-6d125c982970');\n",
              "          const dataTable =\n",
              "            await google.colab.kernel.invokeFunction('convertToInteractive',\n",
              "                                                     [key], {});\n",
              "          if (!dataTable) return;\n",
              "\n",
              "          const docLinkHtml = 'Like what you see? Visit the ' +\n",
              "            '<a target=\"_blank\" href=https://colab.research.google.com/notebooks/data_table.ipynb>data table notebook</a>'\n",
              "            + ' to learn more about interactive tables.';\n",
              "          element.innerHTML = '';\n",
              "          dataTable['output_type'] = 'display_data';\n",
              "          await google.colab.output.renderOutput(dataTable, element);\n",
              "          const docLink = document.createElement('div');\n",
              "          docLink.innerHTML = docLinkHtml;\n",
              "          element.appendChild(docLink);\n",
              "        }\n",
              "      </script>\n",
              "    </div>\n",
              "  </div>\n",
              "  "
            ],
            "text/plain": [
              "                               index  Ümumi sahə  faiz\n",
              "0                  Sənaye məhsulları       27099  49.5\n",
              "1  İlkin kənd təsərrüfatı məhsulları       18938  34.6\n",
              "2  Kənd təsərrüfatı emalı məhsulları        7393  13.5\n",
              "3          Kimya sənayesi məhsulları        1314   2.4"
            ]
          },
          "metadata": {},
          "execution_count": 35
        }
      ]
    },
    {
      "cell_type": "code",
      "source": [
        "df['Miqdarı'].mean()"
      ],
      "metadata": {
        "colab": {
          "base_uri": "https://localhost:8080/"
        },
        "id": "TX7kycOx_Dsa",
        "outputId": "a817c339-7bc1-4bd6-efdb-0805c8fd2c39"
      },
      "execution_count": null,
      "outputs": [
        {
          "output_type": "execute_result",
          "data": {
            "text/plain": [
              "26691.73876212064"
            ]
          },
          "metadata": {},
          "execution_count": 36
        }
      ]
    },
    {
      "cell_type": "code",
      "source": [
        "df['Miqdarı'].quantile(0.5)"
      ],
      "metadata": {
        "colab": {
          "base_uri": "https://localhost:8080/"
        },
        "id": "KpmT6hR-_3Lo",
        "outputId": "3d7e9d04-1ec9-4745-ec2e-0f01500b8d50"
      },
      "execution_count": null,
      "outputs": [
        {
          "output_type": "execute_result",
          "data": {
            "text/plain": [
              "16800.0"
            ]
          },
          "metadata": {},
          "execution_count": 42
        }
      ]
    },
    {
      "cell_type": "code",
      "source": [
        "df['Miqdarı'].min()"
      ],
      "metadata": {
        "colab": {
          "base_uri": "https://localhost:8080/"
        },
        "id": "7Xsv-XSd_ozw",
        "outputId": "bb4d2d98-7980-4228-a755-065164a3c567"
      },
      "execution_count": null,
      "outputs": [
        {
          "output_type": "execute_result",
          "data": {
            "text/plain": [
              "0.0"
            ]
          },
          "metadata": {},
          "execution_count": 37
        }
      ]
    },
    {
      "cell_type": "code",
      "source": [
        "df['Miqdarı'].max()/1000000"
      ],
      "metadata": {
        "colab": {
          "base_uri": "https://localhost:8080/"
        },
        "id": "4qD4xVG0_tZe",
        "outputId": "b94a3605-173e-4707-ce33-cc9b952dcb62"
      },
      "execution_count": null,
      "outputs": [
        {
          "output_type": "execute_result",
          "data": {
            "text/plain": [
              "39.942335"
            ]
          },
          "metadata": {},
          "execution_count": 41
        }
      ]
    },
    {
      "cell_type": "code",
      "source": [
        "df['Miqdarı'].value_counts()"
      ],
      "metadata": {
        "colab": {
          "base_uri": "https://localhost:8080/"
        },
        "id": "JKUBmzc7ASnL",
        "outputId": "41a951a8-fb4e-44d1-a07f-ac64feb476cf"
      },
      "execution_count": null,
      "outputs": [
        {
          "output_type": "execute_result",
          "data": {
            "text/plain": [
              "1.0        3494\n",
              "2.0        1107\n",
              "18000.0     605\n",
              "24000.0     590\n",
              "22500.0     574\n",
              "           ... \n",
              "16841.0       1\n",
              "17715.0       1\n",
              "17704.0       1\n",
              "17415.0       1\n",
              "7622.0        1\n",
              "Name: Miqdarı, Length: 13623, dtype: int64"
            ]
          },
          "metadata": {},
          "execution_count": 43
        }
      ]
    },
    {
      "cell_type": "code",
      "source": [
        "plt.figure(dpi=150)\n",
        "sns.histplot(df[df['Miqdarı']<100000]['Miqdarı'])"
      ],
      "metadata": {
        "colab": {
          "base_uri": "https://localhost:8080/",
          "height": 580
        },
        "id": "B53uY12--tUn",
        "outputId": "90d35eaf-9b80-4a50-d815-3fd42c6517d8"
      },
      "execution_count": null,
      "outputs": [
        {
          "output_type": "execute_result",
          "data": {
            "text/plain": [
              "<matplotlib.axes._subplots.AxesSubplot at 0x7fdf7fd93150>"
            ]
          },
          "metadata": {},
          "execution_count": 46
        },
        {
          "output_type": "display_data",
          "data": {
            "image/png": "[encoded data removed]",
            "text/plain": [
              "<Figure size 900x600 with 1 Axes>"
            ]
          },
          "metadata": {
            "needs_background": "light"
          }
        }
      ]
    },
    {
      "cell_type": "code",
      "source": [
        "#df[df['Miqdarı']>100000]"
      ],
      "metadata": {
        "id": "ekCFTWItB8V4"
      },
      "execution_count": null,
      "outputs": []
    },
    {
      "cell_type": "code",
      "source": [
        "df['Ölçü vaxidi'].unique()"
      ],
      "metadata": {
        "colab": {
          "base_uri": "https://localhost:8080/"
        },
        "id": "vV-xRYzCCGBi",
        "outputId": "e2026dc3-f76a-4fbb-c8d5-0270d57acff7"
      },
      "execution_count": null,
      "outputs": [
        {
          "output_type": "execute_result",
          "data": {
            "text/plain": [
              "array(['kq', 'əd', 'kq N', 'l', 'l. 100% spirt', '1000 əd', 'm2', 'q',\n",
              "       'cüt', 'm3', '1000 kVt.saat', 'Kİ', 'kq 90% q/m', 'kq K2O'],\n",
              "      dtype=object)"
            ]
          },
          "metadata": {},
          "execution_count": 57
        }
      ]
    },
    {
      "cell_type": "code",
      "source": [
        "plt.figure(dpi=150, figsize=(10, 5))\n",
        "sns.boxplot(df['Ölçü vaxidi'], df['Miqdarı'])"
      ],
      "metadata": {
        "colab": {
          "base_uri": "https://localhost:8080/",
          "height": 776
        },
        "id": "agd860cQCQlX",
        "outputId": "70cb9caf-c927-488c-e49b-18ed2120d3c2"
      },
      "execution_count": null,
      "outputs": [
        {
          "output_type": "stream",
          "name": "stderr",
          "text": [
            "/usr/local/lib/python3.7/dist-packages/seaborn/_decorators.py:43: FutureWarning: Pass the following variables as keyword args: x, y. From version 0.12, the only valid positional argument will be `data`, and passing other arguments without an explicit keyword will result in an error or misinterpretation.\n",
            "  FutureWarning\n"
          ]
        },
        {
          "output_type": "execute_result",
          "data": {
            "text/plain": [
              "<matplotlib.axes._subplots.AxesSubplot at 0x7fdf8281b390>"
            ]
          },
          "metadata": {},
          "execution_count": 58
        },
        {
          "output_type": "display_data",
          "data": {
            "image/png": "[encoded data removed]",
            "text/plain": [
              "<Figure size 1500x750 with 1 Axes>"
            ]
          },
          "metadata": {
            "needs_background": "light"
          }
        }
      ]
    },
    {
      "cell_type": "code",
      "source": [
        "plt.figure(dpi=150, figsize=(10, 5))\n",
        "temp = df[df['Ölçü vaxidi'] != 'kq']\n",
        "sns.boxplot(temp['Ölçü vaxidi'], temp['Miqdarı'])"
      ],
      "metadata": {
        "colab": {
          "base_uri": "https://localhost:8080/",
          "height": 776
        },
        "id": "SvIcL4ihCkf2",
        "outputId": "4bf65345-4e35-4b01-c346-c0ca9f2cc6d8"
      },
      "execution_count": null,
      "outputs": [
        {
          "output_type": "stream",
          "name": "stderr",
          "text": [
            "/usr/local/lib/python3.7/dist-packages/seaborn/_decorators.py:43: FutureWarning: Pass the following variables as keyword args: x, y. From version 0.12, the only valid positional argument will be `data`, and passing other arguments without an explicit keyword will result in an error or misinterpretation.\n",
            "  FutureWarning\n"
          ]
        },
        {
          "output_type": "execute_result",
          "data": {
            "text/plain": [
              "<matplotlib.axes._subplots.AxesSubplot at 0x7fdf808f3850>"
            ]
          },
          "metadata": {},
          "execution_count": 59
        },
        {
          "output_type": "display_data",
          "data": {
            "image/png": "[encoded data removed]",
            "text/plain": [
              "<Figure size 1500x750 with 1 Axes>"
            ]
          },
          "metadata": {
            "needs_background": "light"
          }
        }
      ]
    },
    {
      "cell_type": "markdown",
      "source": [
        "## Analysis of missing values\n",
        "<br> We have to take into consideration that Count of product (Miqdarı), Unit price of product (Vahidin qiyməti) and Final price of transaction are parts of one expression (count_of_product * unit_price = final_price).\n",
        "<br> So we have to first of all see, if we can calculate missing values if two other values of expression are available"
      ],
      "metadata": {
        "id": "WzhBZdtxC1fp"
      }
    },
    {
      "cell_type": "code",
      "source": [
        "# df['unit_price_manat'] = df['Tam qiyməti manatla']/df['Miqdarı']\n",
        "# df['unit_price_usd'] = df['unit_price_manat'] * 1.7\n",
        "# df['miqdari1'] = df['Tam qiyməti manatla'] / df['unit_price_manat']"
      ],
      "metadata": {
        "id": "Id9i9jWPrej4"
      },
      "execution_count": null,
      "outputs": []
    },
    {
      "cell_type": "code",
      "source": [
        "na_df = df.isna().sum().reset_index() # count of missing values according to variables\n",
        "na_df.columns.values[1] = 'count_of_missing_values'\n",
        "na_df[na_df['count_of_missing_values']>0]"
      ],
      "metadata": {
        "colab": {
          "base_uri": "https://localhost:8080/",
          "height": 237
        },
        "id": "RDVoY-sswt0a",
        "outputId": "a28e6150-0ce7-49c2-fe0c-6ffeee6e1db3"
      },
      "execution_count": null,
      "outputs": [
        {
          "output_type": "execute_result",
          "data": {
            "text/html": [
              "\n",
              "  <div id=\"df-6f693d5b-ac46-4d69-af78-cd8c2195eaf3\">\n",
              "    <div class=\"colab-df-container\">\n",
              "      <div>\n",
              "<style scoped>\n",
              "    .dataframe tbody tr th:only-of-type {\n",
              "        vertical-align: middle;\n",
              "    }\n",
              "\n",
              "    .dataframe tbody tr th {\n",
              "        vertical-align: top;\n",
              "    }\n",
              "\n",
              "    .dataframe thead th {\n",
              "        text-align: right;\n",
              "    }\n",
              "</style>\n",
              "<table border=\"1\" class=\"dataframe\">\n",
              "  <thead>\n",
              "    <tr style=\"text-align: right;\">\n",
              "      <th></th>\n",
              "      <th>index</th>\n",
              "      <th>count_of_missing_values</th>\n",
              "    </tr>\n",
              "  </thead>\n",
              "  <tbody>\n",
              "    <tr>\n",
              "      <th>9</th>\n",
              "      <td>Miqdarı</td>\n",
              "      <td>86</td>\n",
              "    </tr>\n",
              "    <tr>\n",
              "      <th>11</th>\n",
              "      <td>Tam qiyməti manatla</td>\n",
              "      <td>74</td>\n",
              "    </tr>\n",
              "    <tr>\n",
              "      <th>12</th>\n",
              "      <td>ABŞ dolları ilə</td>\n",
              "      <td>74</td>\n",
              "    </tr>\n",
              "    <tr>\n",
              "      <th>13</th>\n",
              "      <td>Vahidinin qiyməti (ABŞ dolları ilə)</td>\n",
              "      <td>157</td>\n",
              "    </tr>\n",
              "    <tr>\n",
              "      <th>14</th>\n",
              "      <td>Tərəfdaş ölkə</td>\n",
              "      <td>46</td>\n",
              "    </tr>\n",
              "    <tr>\n",
              "      <th>15</th>\n",
              "      <td>İstehsalçı ölkə</td>\n",
              "      <td>58</td>\n",
              "    </tr>\n",
              "  </tbody>\n",
              "</table>\n",
              "</div>\n",
              "      <button class=\"colab-df-convert\" onclick=\"convertToInteractive('df-6f693d5b-ac46-4d69-af78-cd8c2195eaf3')\"\n",
              "              title=\"Convert this dataframe to an interactive table.\"\n",
              "              style=\"display:none;\">\n",
              "        \n",
              "  <svg xmlns=\"http://www.w3.org/2000/svg\" height=\"24px\"viewBox=\"0 0 24 24\"\n",
              "       width=\"24px\">\n",
              "    <path d=\"M0 0h24v24H0V0z\" fill=\"none\"/>\n",
              "    <path d=\"M18.56 5.44l.94 2.06.94-2.06 2.06-.94-2.06-.94-.94-2.06-.94 2.06-2.06.94zm-11 1L8.5 8.5l.94-2.06 2.06-.94-2.06-.94L8.5 2.5l-.94 2.06-2.06.94zm10 10l.94 2.06.94-2.06 2.06-.94-2.06-.94-.94-2.06-.94 2.06-2.06.94z\"/><path d=\"M17.41 7.96l-1.37-1.37c-.4-.4-.92-.59-1.43-.59-.52 0-1.04.2-1.43.59L10.3 9.45l-7.72 7.72c-.78.78-.78 2.05 0 2.83L4 21.41c.39.39.9.59 1.41.59.51 0 1.02-.2 1.41-.59l7.78-7.78 2.81-2.81c.8-.78.8-2.07 0-2.86zM5.41 20L4 18.59l7.72-7.72 1.47 1.35L5.41 20z\"/>\n",
              "  </svg>\n",
              "      </button>\n",
              "      \n",
              "  <style>\n",
              "    .colab-df-container {\n",
              "      display:flex;\n",
              "      flex-wrap:wrap;\n",
              "      gap: 12px;\n",
              "    }\n",
              "\n",
              "    .colab-df-convert {\n",
              "      background-color: #E8F0FE;\n",
              "      border: none;\n",
              "      border-radius: 50%;\n",
              "      cursor: pointer;\n",
              "      display: none;\n",
              "      fill: #1967D2;\n",
              "      height: 32px;\n",
              "      padding: 0 0 0 0;\n",
              "      width: 32px;\n",
              "    }\n",
              "\n",
              "    .colab-df-convert:hover {\n",
              "      background-color: #E2EBFA;\n",
              "      box-shadow: 0px 1px 2px rgba(60, 64, 67, 0.3), 0px 1px 3px 1px rgba(60, 64, 67, 0.15);\n",
              "      fill: #174EA6;\n",
              "    }\n",
              "\n",
              "    [theme=dark] .colab-df-convert {\n",
              "      background-color: #3B4455;\n",
              "      fill: #D2E3FC;\n",
              "    }\n",
              "\n",
              "    [theme=dark] .colab-df-convert:hover {\n",
              "      background-color: #434B5C;\n",
              "      box-shadow: 0px 1px 3px 1px rgba(0, 0, 0, 0.15);\n",
              "      filter: drop-shadow(0px 1px 2px rgba(0, 0, 0, 0.3));\n",
              "      fill: #FFFFFF;\n",
              "    }\n",
              "  </style>\n",
              "\n",
              "      <script>\n",
              "        const buttonEl =\n",
              "          document.querySelector('#df-6f693d5b-ac46-4d69-af78-cd8c2195eaf3 button.colab-df-convert');\n",
              "        buttonEl.style.display =\n",
              "          google.colab.kernel.accessAllowed ? 'block' : 'none';\n",
              "\n",
              "        async function convertToInteractive(key) {\n",
              "          const element = document.querySelector('#df-6f693d5b-ac46-4d69-af78-cd8c2195eaf3');\n",
              "          const dataTable =\n",
              "            await google.colab.kernel.invokeFunction('convertToInteractive',\n",
              "                                                     [key], {});\n",
              "          if (!dataTable) return;\n",
              "\n",
              "          const docLinkHtml = 'Like what you see? Visit the ' +\n",
              "            '<a target=\"_blank\" href=https://colab.research.google.com/notebooks/data_table.ipynb>data table notebook</a>'\n",
              "            + ' to learn more about interactive tables.';\n",
              "          element.innerHTML = '';\n",
              "          dataTable['output_type'] = 'display_data';\n",
              "          await google.colab.output.renderOutput(dataTable, element);\n",
              "          const docLink = document.createElement('div');\n",
              "          docLink.innerHTML = docLinkHtml;\n",
              "          element.appendChild(docLink);\n",
              "        }\n",
              "      </script>\n",
              "    </div>\n",
              "  </div>\n",
              "  "
            ],
            "text/plain": [
              "                                  index  count_of_missing_values\n",
              "9                               Miqdarı                       86\n",
              "11                  Tam qiyməti manatla                       74\n",
              "12                      ABŞ dolları ilə                       74\n",
              "13  Vahidinin qiyməti (ABŞ dolları ilə)                      157\n",
              "14                        Tərəfdaş ölkə                       46\n",
              "15                      İstehsalçı ölkə                       58"
            ]
          },
          "metadata": {},
          "execution_count": 60
        }
      ]
    },
    {
      "cell_type": "code",
      "source": [
        "# df[\n",
        "#    pd.notna(df['unit_price_usd']) &\n",
        "#    pd.isna(df['Vahidinin qiyməti (ABŞ dolları ilə)'])\n",
        "# ].head(3).iloc[:, 8:] # all values are infinite, because count is 0"
      ],
      "metadata": {
        "id": "Bh5KGKFe0DhH"
      },
      "execution_count": null,
      "outputs": []
    },
    {
      "cell_type": "code",
      "source": [
        "# df[df['Vahidinin qiyməti (ABŞ dolları ilə)'].isna()]['Miqdarı'].value_counts()#/174*100 \n",
        "# main reason why it is missing\n",
        "# is because count of product is zero"
      ],
      "metadata": {
        "id": "a8_lnytM1wf7"
      },
      "execution_count": null,
      "outputs": []
    },
    {
      "cell_type": "code",
      "source": [
        "# if one part of expression is missing but others not\n",
        "# everytime one should be isna\n",
        "# df[\n",
        "#    pd.notna(df['Miqdarı']) &\n",
        "#    pd.notna(df['unit_price_manat']) &\n",
        "#    pd.isna(df['Tam qiyməti manatla'])\n",
        "# ]"
      ],
      "metadata": {
        "id": "B9b0ODGxxbf3"
      },
      "execution_count": null,
      "outputs": []
    },
    {
      "cell_type": "markdown",
      "source": [
        "### We will try to impute Miqdari variable first of all\n",
        "We will find which products codes have missing values <br> Then we will group by according to those codes variables of year, month, producer, partner country and compare mean, max and min values \n",
        "<br> (we have to create variables year and month initially)\n",
        "<br> Also, We have to know that Vahidin qiyməti and Miqdarı are independent raw variables, others, such as Tam qiyməti are formed from other variables by multiplying (the same is for $ prices - currency exchange rate is 1.7)"
      ],
      "metadata": {
        "id": "dc9pRwqlNBhH"
      }
    },
    {
      "cell_type": "code",
      "source": [
        "df['Bəyannamənin tarixi'].head()"
      ],
      "metadata": {
        "colab": {
          "base_uri": "https://localhost:8080/"
        },
        "id": "zBmH-Du1NBeN",
        "outputId": "50de213e-7ad7-4350-9dbc-c8ce92fe1a9b"
      },
      "execution_count": null,
      "outputs": [
        {
          "output_type": "execute_result",
          "data": {
            "text/plain": [
              "0   2020-01-01\n",
              "1   2020-01-02\n",
              "2   2020-01-03\n",
              "3   2020-01-03\n",
              "4   2020-01-04\n",
              "Name: Bəyannamənin tarixi, dtype: datetime64[ns]"
            ]
          },
          "metadata": {},
          "execution_count": 61
        }
      ]
    },
    {
      "cell_type": "code",
      "source": [
        "df['Bəyannamənin tarixi'].apply(lambda x: x.year).head()"
      ],
      "metadata": {
        "colab": {
          "base_uri": "https://localhost:8080/"
        },
        "id": "z1As5KiQNBbP",
        "outputId": "c16d6c8e-e56d-40d5-fbfa-ad9dcad23023"
      },
      "execution_count": null,
      "outputs": [
        {
          "output_type": "execute_result",
          "data": {
            "text/plain": [
              "0    2020\n",
              "1    2020\n",
              "2    2020\n",
              "3    2020\n",
              "4    2020\n",
              "Name: Bəyannamənin tarixi, dtype: int64"
            ]
          },
          "metadata": {},
          "execution_count": 62
        }
      ]
    },
    {
      "cell_type": "code",
      "source": [
        "df['Bəyannamənin tarixi'].apply(lambda x: x.month).head()"
      ],
      "metadata": {
        "colab": {
          "base_uri": "https://localhost:8080/"
        },
        "id": "pt514YpDNBYR",
        "outputId": "95b1b0d2-eba7-4eac-8654-9ac0140ed251"
      },
      "execution_count": null,
      "outputs": [
        {
          "output_type": "execute_result",
          "data": {
            "text/plain": [
              "0    1\n",
              "1    1\n",
              "2    1\n",
              "3    1\n",
              "4    1\n",
              "Name: Bəyannamənin tarixi, dtype: int64"
            ]
          },
          "metadata": {},
          "execution_count": 63
        }
      ]
    },
    {
      "cell_type": "code",
      "source": [
        "df['year'] = df['Bəyannamənin tarixi'].apply(lambda x: x.year)\n",
        "df['month'] = df['Bəyannamənin tarixi'].apply(lambda x: x.month)"
      ],
      "metadata": {
        "id": "e9kv7CA9NBTs"
      },
      "execution_count": null,
      "outputs": []
    },
    {
      "cell_type": "code",
      "source": [
        "# math.isnan(df[df['Miqdarı'].isna()]['Miqdarı'].iloc[0]) # True for na"
      ],
      "metadata": {
        "id": "emVRPEPjnEGF"
      },
      "execution_count": null,
      "outputs": []
    },
    {
      "cell_type": "code",
      "source": [
        "# df['miqdari1'].apply(lambda x: df['Tam qiyməti manatla']/df['Miqdarı'] if math.isnan(x) else x)\n",
        "# df.drop('miqdari1', axis=1, inplace=True)\n",
        "# df['unit_prices_usd'] = df['Tam qiyməti manatla']/df['Miqdarı']\n",
        "# df.isna().sum()"
      ],
      "metadata": {
        "id": "3988yOJfmd6n"
      },
      "execution_count": null,
      "outputs": []
    },
    {
      "cell_type": "code",
      "source": [
        "df.isna().sum()"
      ],
      "metadata": {
        "colab": {
          "base_uri": "https://localhost:8080/"
        },
        "id": "E0SuLtKHsJbX",
        "outputId": "8a044df3-f8a4-425e-cf47-e5d38d5db48a"
      },
      "execution_count": null,
      "outputs": [
        {
          "output_type": "execute_result",
          "data": {
            "text/plain": [
              "Bəyannamənin tarixi                      0\n",
              "Ümumi sahə                               0\n",
              "Kod 2                                    0\n",
              "Ad 2                                     0\n",
              "Kod 4                                    0\n",
              "Ad 4                                     0\n",
              "Kod 6                                    0\n",
              "Ad 6                                     0\n",
              "Malın kodu                               0\n",
              "Miqdarı                                 86\n",
              "Ölçü vaxidi                              0\n",
              "Tam qiyməti manatla                     74\n",
              "ABŞ dolları ilə                         74\n",
              "Vahidinin qiyməti (ABŞ dolları ilə)    157\n",
              "Tərəfdaş ölkə                           46\n",
              "İstehsalçı ölkə                         58\n",
              "Nəqliyyatın tipi                         0\n",
              "year                                     0\n",
              "month                                    0\n",
              "dtype: int64"
            ]
          },
          "metadata": {},
          "execution_count": 65
        }
      ]
    },
    {
      "cell_type": "markdown",
      "source": [
        "### Based on one product we will see how to impute missing values"
      ],
      "metadata": {
        "id": "alumxK7v5hBM"
      }
    },
    {
      "cell_type": "code",
      "source": [
        "miqdari_na_products = df[pd.isna(df['Miqdarı'])]['Malın kodu'].unique()\n",
        "print(len(miqdari_na_products))"
      ],
      "metadata": {
        "colab": {
          "base_uri": "https://localhost:8080/"
        },
        "id": "PUEd3ce-J6fM",
        "outputId": "8d2d75a6-44dc-43f1-96c0-808b045d09bf"
      },
      "execution_count": null,
      "outputs": [
        {
          "output_type": "stream",
          "name": "stdout",
          "text": [
            "52\n"
          ]
        }
      ]
    },
    {
      "cell_type": "code",
      "source": [
        "df[\n",
        "   (df['Malın kodu'] == miqdari_na_products[0]) &\n",
        "   df['Miqdarı'].isna()\n",
        "].iloc[:, 7:14]"
      ],
      "metadata": {
        "colab": {
          "base_uri": "https://localhost:8080/",
          "height": 175
        },
        "id": "az6k7BEt5nGM",
        "outputId": "61da2669-db20-414d-cc80-0f5e9c4abd39"
      },
      "execution_count": null,
      "outputs": [
        {
          "output_type": "execute_result",
          "data": {
            "text/html": [
              "\n",
              "  <div id=\"df-e1571adb-a840-46ab-8e4f-d38a261d692a\">\n",
              "    <div class=\"colab-df-container\">\n",
              "      <div>\n",
              "<style scoped>\n",
              "    .dataframe tbody tr th:only-of-type {\n",
              "        vertical-align: middle;\n",
              "    }\n",
              "\n",
              "    .dataframe tbody tr th {\n",
              "        vertical-align: top;\n",
              "    }\n",
              "\n",
              "    .dataframe thead th {\n",
              "        text-align: right;\n",
              "    }\n",
              "</style>\n",
              "<table border=\"1\" class=\"dataframe\">\n",
              "  <thead>\n",
              "    <tr style=\"text-align: right;\">\n",
              "      <th></th>\n",
              "      <th>Ad 6</th>\n",
              "      <th>Malın kodu</th>\n",
              "      <th>Miqdarı</th>\n",
              "      <th>Ölçü vaxidi</th>\n",
              "      <th>Tam qiyməti manatla</th>\n",
              "      <th>ABŞ dolları ilə</th>\n",
              "      <th>Vahidinin qiyməti (ABŞ dolları ilə)</th>\n",
              "    </tr>\n",
              "  </thead>\n",
              "  <tbody>\n",
              "    <tr>\n",
              "      <th>92</th>\n",
              "      <td>Qabığı təmizlənmiş meşə fındığı</td>\n",
              "      <td>802220000</td>\n",
              "      <td>NaN</td>\n",
              "      <td>kq</td>\n",
              "      <td>NaN</td>\n",
              "      <td>NaN</td>\n",
              "      <td>NaN</td>\n",
              "    </tr>\n",
              "    <tr>\n",
              "      <th>93</th>\n",
              "      <td>Qabığı təmizlənmiş meşə fındığı</td>\n",
              "      <td>802220000</td>\n",
              "      <td>NaN</td>\n",
              "      <td>kq</td>\n",
              "      <td>NaN</td>\n",
              "      <td>NaN</td>\n",
              "      <td>NaN</td>\n",
              "    </tr>\n",
              "    <tr>\n",
              "      <th>29015</th>\n",
              "      <td>Qabığı təmizlənmiş meşə fındığı</td>\n",
              "      <td>802220000</td>\n",
              "      <td>NaN</td>\n",
              "      <td>kq</td>\n",
              "      <td>58140.0</td>\n",
              "      <td>34200.0</td>\n",
              "      <td>NaN</td>\n",
              "    </tr>\n",
              "    <tr>\n",
              "      <th>29112</th>\n",
              "      <td>Qabığı təmizlənmiş meşə fındığı</td>\n",
              "      <td>802220000</td>\n",
              "      <td>NaN</td>\n",
              "      <td>kq</td>\n",
              "      <td>NaN</td>\n",
              "      <td>NaN</td>\n",
              "      <td>NaN</td>\n",
              "    </tr>\n",
              "  </tbody>\n",
              "</table>\n",
              "</div>\n",
              "      <button class=\"colab-df-convert\" onclick=\"convertToInteractive('df-e1571adb-a840-46ab-8e4f-d38a261d692a')\"\n",
              "              title=\"Convert this dataframe to an interactive table.\"\n",
              "              style=\"display:none;\">\n",
              "        \n",
              "  <svg xmlns=\"http://www.w3.org/2000/svg\" height=\"24px\"viewBox=\"0 0 24 24\"\n",
              "       width=\"24px\">\n",
              "    <path d=\"M0 0h24v24H0V0z\" fill=\"none\"/>\n",
              "    <path d=\"M18.56 5.44l.94 2.06.94-2.06 2.06-.94-2.06-.94-.94-2.06-.94 2.06-2.06.94zm-11 1L8.5 8.5l.94-2.06 2.06-.94-2.06-.94L8.5 2.5l-.94 2.06-2.06.94zm10 10l.94 2.06.94-2.06 2.06-.94-2.06-.94-.94-2.06-.94 2.06-2.06.94z\"/><path d=\"M17.41 7.96l-1.37-1.37c-.4-.4-.92-.59-1.43-.59-.52 0-1.04.2-1.43.59L10.3 9.45l-7.72 7.72c-.78.78-.78 2.05 0 2.83L4 21.41c.39.39.9.59 1.41.59.51 0 1.02-.2 1.41-.59l7.78-7.78 2.81-2.81c.8-.78.8-2.07 0-2.86zM5.41 20L4 18.59l7.72-7.72 1.47 1.35L5.41 20z\"/>\n",
              "  </svg>\n",
              "      </button>\n",
              "      \n",
              "  <style>\n",
              "    .colab-df-container {\n",
              "      display:flex;\n",
              "      flex-wrap:wrap;\n",
              "      gap: 12px;\n",
              "    }\n",
              "\n",
              "    .colab-df-convert {\n",
              "      background-color: #E8F0FE;\n",
              "      border: none;\n",
              "      border-radius: 50%;\n",
              "      cursor: pointer;\n",
              "      display: none;\n",
              "      fill: #1967D2;\n",
              "      height: 32px;\n",
              "      padding: 0 0 0 0;\n",
              "      width: 32px;\n",
              "    }\n",
              "\n",
              "    .colab-df-convert:hover {\n",
              "      background-color: #E2EBFA;\n",
              "      box-shadow: 0px 1px 2px rgba(60, 64, 67, 0.3), 0px 1px 3px 1px rgba(60, 64, 67, 0.15);\n",
              "      fill: #174EA6;\n",
              "    }\n",
              "\n",
              "    [theme=dark] .colab-df-convert {\n",
              "      background-color: #3B4455;\n",
              "      fill: #D2E3FC;\n",
              "    }\n",
              "\n",
              "    [theme=dark] .colab-df-convert:hover {\n",
              "      background-color: #434B5C;\n",
              "      box-shadow: 0px 1px 3px 1px rgba(0, 0, 0, 0.15);\n",
              "      filter: drop-shadow(0px 1px 2px rgba(0, 0, 0, 0.3));\n",
              "      fill: #FFFFFF;\n",
              "    }\n",
              "  </style>\n",
              "\n",
              "      <script>\n",
              "        const buttonEl =\n",
              "          document.querySelector('#df-e1571adb-a840-46ab-8e4f-d38a261d692a button.colab-df-convert');\n",
              "        buttonEl.style.display =\n",
              "          google.colab.kernel.accessAllowed ? 'block' : 'none';\n",
              "\n",
              "        async function convertToInteractive(key) {\n",
              "          const element = document.querySelector('#df-e1571adb-a840-46ab-8e4f-d38a261d692a');\n",
              "          const dataTable =\n",
              "            await google.colab.kernel.invokeFunction('convertToInteractive',\n",
              "                                                     [key], {});\n",
              "          if (!dataTable) return;\n",
              "\n",
              "          const docLinkHtml = 'Like what you see? Visit the ' +\n",
              "            '<a target=\"_blank\" href=https://colab.research.google.com/notebooks/data_table.ipynb>data table notebook</a>'\n",
              "            + ' to learn more about interactive tables.';\n",
              "          element.innerHTML = '';\n",
              "          dataTable['output_type'] = 'display_data';\n",
              "          await google.colab.output.renderOutput(dataTable, element);\n",
              "          const docLink = document.createElement('div');\n",
              "          docLink.innerHTML = docLinkHtml;\n",
              "          element.appendChild(docLink);\n",
              "        }\n",
              "      </script>\n",
              "    </div>\n",
              "  </div>\n",
              "  "
            ],
            "text/plain": [
              "                                  Ad 6  ...  Vahidinin qiyməti (ABŞ dolları ilə)\n",
              "92     Qabığı təmizlənmiş meşə fındığı  ...                                  NaN\n",
              "93     Qabığı təmizlənmiş meşə fındığı  ...                                  NaN\n",
              "29015  Qabığı təmizlənmiş meşə fındığı  ...                                  NaN\n",
              "29112  Qabığı təmizlənmiş meşə fındığı  ...                                  NaN\n",
              "\n",
              "[4 rows x 7 columns]"
            ]
          },
          "metadata": {},
          "execution_count": 69
        }
      ]
    },
    {
      "cell_type": "code",
      "source": [
        "partner_countries = df[\n",
        "   (df['Malın kodu'] == miqdari_na_products[0]) &\n",
        "   df['Miqdarı'].isna()\n",
        "]['Tərəfdaş ölkə'].unique() # just for one product\n",
        "partner_countries"
      ],
      "metadata": {
        "colab": {
          "base_uri": "https://localhost:8080/"
        },
        "id": "JMQzIdMbRi-o",
        "outputId": "08ecd950-f2ea-4b37-fe5e-41c074ebf13a"
      },
      "execution_count": null,
      "outputs": [
        {
          "output_type": "execute_result",
          "data": {
            "text/plain": [
              "array(['RUSİYA', 'ALMANİYA', 'QAZAXISTAN'], dtype=object)"
            ]
          },
          "metadata": {},
          "execution_count": 70
        }
      ]
    },
    {
      "cell_type": "code",
      "source": [
        "producer_countries = df[\n",
        "   (df['Malın kodu'] == miqdari_na_products[0]) &\n",
        "   df['Miqdarı'].isna()\n",
        "]['İstehsalçı ölkə'].unique() # just for one product\n",
        "producer_countries"
      ],
      "metadata": {
        "colab": {
          "base_uri": "https://localhost:8080/"
        },
        "id": "xXO2M7NHWzDl",
        "outputId": "ebd32c4c-4e8b-4701-a0c9-2ecf9e930ac5"
      },
      "execution_count": null,
      "outputs": [
        {
          "output_type": "execute_result",
          "data": {
            "text/plain": [
              "array(['AZƏRBAYCAN'], dtype=object)"
            ]
          },
          "metadata": {},
          "execution_count": 71
        }
      ]
    },
    {
      "cell_type": "code",
      "source": [
        "year_of_transaction = df[\n",
        "   (df['Malın kodu'] == miqdari_na_products[0]) &\n",
        "   df['Miqdarı'].isna()\n",
        "]['year'].unique() # just for one product\n",
        "year_of_transaction"
      ],
      "metadata": {
        "colab": {
          "base_uri": "https://localhost:8080/"
        },
        "id": "HKx4t9VCXmgI",
        "outputId": "4b40a336-e2aa-4698-c0ca-fc0c025d9da1"
      },
      "execution_count": null,
      "outputs": [
        {
          "output_type": "execute_result",
          "data": {
            "text/plain": [
              "array([2020, 2021])"
            ]
          },
          "metadata": {},
          "execution_count": 72
        }
      ]
    },
    {
      "cell_type": "code",
      "source": [
        "month_of_transaction = df[\n",
        "   (df['Malın kodu'] == miqdari_na_products[0]) &\n",
        "   df['Miqdarı'].isna()\n",
        "]['month'].unique() # just for one product\n",
        "month_of_transaction"
      ],
      "metadata": {
        "colab": {
          "base_uri": "https://localhost:8080/"
        },
        "id": "0vklin9mXvCo",
        "outputId": "809e7670-2aac-41d7-a67a-4f74d2ac2f0e"
      },
      "execution_count": null,
      "outputs": [
        {
          "output_type": "execute_result",
          "data": {
            "text/plain": [
              "array([1, 2])"
            ]
          },
          "metadata": {},
          "execution_count": 73
        }
      ]
    },
    {
      "cell_type": "code",
      "source": [
        "temp = df[~(df['Miqdarı'].isna())]\n",
        "temp = temp[temp['Malın kodu'] == miqdari_na_products[0]]\n",
        "temp = temp[temp['Tərəfdaş ölkə'].isin(partner_countries)]\n",
        "temp = temp[temp['İstehsalçı ölkə'].isin(producer_countries)]\n",
        "temp = temp[temp['month'].isin(month_of_transaction)]"
      ],
      "metadata": {
        "id": "iOvjJc9ETxcy"
      },
      "execution_count": null,
      "outputs": []
    },
    {
      "cell_type": "code",
      "source": [
        "temp.groupby(\n",
        "    ['Malın kodu', 'year', 'month', 'Ölçü vaxidi', 'İstehsalçı ölkə', 'Tərəfdaş ölkə']\n",
        ").agg({'Miqdarı': ['mean', 'max', 'min', 'std']}).round()"
      ],
      "metadata": {
        "colab": {
          "base_uri": "https://localhost:8080/",
          "height": 488
        },
        "id": "j5VMaLOBTxZs",
        "outputId": "73134efa-27bc-4293-bd61-0d6050d3e996"
      },
      "execution_count": null,
      "outputs": [
        {
          "output_type": "execute_result",
          "data": {
            "text/html": [
              "\n",
              "  <div id=\"df-fe6ceb82-1e3d-48f4-8303-c5e6103efa93\">\n",
              "    <div class=\"colab-df-container\">\n",
              "      <div>\n",
              "<style scoped>\n",
              "    .dataframe tbody tr th:only-of-type {\n",
              "        vertical-align: middle;\n",
              "    }\n",
              "\n",
              "    .dataframe tbody tr th {\n",
              "        vertical-align: top;\n",
              "    }\n",
              "\n",
              "    .dataframe thead tr th {\n",
              "        text-align: left;\n",
              "    }\n",
              "\n",
              "    .dataframe thead tr:last-of-type th {\n",
              "        text-align: right;\n",
              "    }\n",
              "</style>\n",
              "<table border=\"1\" class=\"dataframe\">\n",
              "  <thead>\n",
              "    <tr>\n",
              "      <th></th>\n",
              "      <th></th>\n",
              "      <th></th>\n",
              "      <th></th>\n",
              "      <th></th>\n",
              "      <th></th>\n",
              "      <th colspan=\"4\" halign=\"left\">Miqdarı</th>\n",
              "    </tr>\n",
              "    <tr>\n",
              "      <th></th>\n",
              "      <th></th>\n",
              "      <th></th>\n",
              "      <th></th>\n",
              "      <th></th>\n",
              "      <th></th>\n",
              "      <th>mean</th>\n",
              "      <th>max</th>\n",
              "      <th>min</th>\n",
              "      <th>std</th>\n",
              "    </tr>\n",
              "    <tr>\n",
              "      <th>Malın kodu</th>\n",
              "      <th>year</th>\n",
              "      <th>month</th>\n",
              "      <th>Ölçü vaxidi</th>\n",
              "      <th>İstehsalçı ölkə</th>\n",
              "      <th>Tərəfdaş ölkə</th>\n",
              "      <th></th>\n",
              "      <th></th>\n",
              "      <th></th>\n",
              "      <th></th>\n",
              "    </tr>\n",
              "  </thead>\n",
              "  <tbody>\n",
              "    <tr>\n",
              "      <th rowspan=\"12\" valign=\"top\">802220000</th>\n",
              "      <th rowspan=\"6\" valign=\"top\">2020</th>\n",
              "      <th rowspan=\"3\" valign=\"top\">1</th>\n",
              "      <th rowspan=\"3\" valign=\"top\">kq</th>\n",
              "      <th rowspan=\"3\" valign=\"top\">AZƏRBAYCAN</th>\n",
              "      <th>ALMANİYA</th>\n",
              "      <td>19857.0</td>\n",
              "      <td>22000.0</td>\n",
              "      <td>10000.0</td>\n",
              "      <td>2983.0</td>\n",
              "    </tr>\n",
              "    <tr>\n",
              "      <th>QAZAXISTAN</th>\n",
              "      <td>21500.0</td>\n",
              "      <td>21500.0</td>\n",
              "      <td>21500.0</td>\n",
              "      <td>NaN</td>\n",
              "    </tr>\n",
              "    <tr>\n",
              "      <th>RUSİYA</th>\n",
              "      <td>19049.0</td>\n",
              "      <td>22000.0</td>\n",
              "      <td>2.0</td>\n",
              "      <td>5045.0</td>\n",
              "    </tr>\n",
              "    <tr>\n",
              "      <th rowspan=\"3\" valign=\"top\">2</th>\n",
              "      <th rowspan=\"3\" valign=\"top\">kq</th>\n",
              "      <th rowspan=\"3\" valign=\"top\">AZƏRBAYCAN</th>\n",
              "      <th>ALMANİYA</th>\n",
              "      <td>20000.0</td>\n",
              "      <td>20000.0</td>\n",
              "      <td>20000.0</td>\n",
              "      <td>0.0</td>\n",
              "    </tr>\n",
              "    <tr>\n",
              "      <th>QAZAXISTAN</th>\n",
              "      <td>21500.0</td>\n",
              "      <td>21500.0</td>\n",
              "      <td>21500.0</td>\n",
              "      <td>0.0</td>\n",
              "    </tr>\n",
              "    <tr>\n",
              "      <th>RUSİYA</th>\n",
              "      <td>18814.0</td>\n",
              "      <td>22000.0</td>\n",
              "      <td>4.0</td>\n",
              "      <td>5409.0</td>\n",
              "    </tr>\n",
              "    <tr>\n",
              "      <th rowspan=\"6\" valign=\"top\">2021</th>\n",
              "      <th rowspan=\"3\" valign=\"top\">1</th>\n",
              "      <th rowspan=\"3\" valign=\"top\">kq</th>\n",
              "      <th rowspan=\"3\" valign=\"top\">AZƏRBAYCAN</th>\n",
              "      <th>ALMANİYA</th>\n",
              "      <td>20364.0</td>\n",
              "      <td>22000.0</td>\n",
              "      <td>20000.0</td>\n",
              "      <td>809.0</td>\n",
              "    </tr>\n",
              "    <tr>\n",
              "      <th>QAZAXISTAN</th>\n",
              "      <td>20170.0</td>\n",
              "      <td>21510.0</td>\n",
              "      <td>19000.0</td>\n",
              "      <td>1264.0</td>\n",
              "    </tr>\n",
              "    <tr>\n",
              "      <th>RUSİYA</th>\n",
              "      <td>18754.0</td>\n",
              "      <td>22000.0</td>\n",
              "      <td>4000.0</td>\n",
              "      <td>4381.0</td>\n",
              "    </tr>\n",
              "    <tr>\n",
              "      <th rowspan=\"3\" valign=\"top\">2</th>\n",
              "      <th rowspan=\"3\" valign=\"top\">kq</th>\n",
              "      <th rowspan=\"3\" valign=\"top\">AZƏRBAYCAN</th>\n",
              "      <th>ALMANİYA</th>\n",
              "      <td>20250.0</td>\n",
              "      <td>22000.0</td>\n",
              "      <td>20000.0</td>\n",
              "      <td>683.0</td>\n",
              "    </tr>\n",
              "    <tr>\n",
              "      <th>QAZAXISTAN</th>\n",
              "      <td>18000.0</td>\n",
              "      <td>18000.0</td>\n",
              "      <td>18000.0</td>\n",
              "      <td>NaN</td>\n",
              "    </tr>\n",
              "    <tr>\n",
              "      <th>RUSİYA</th>\n",
              "      <td>18295.0</td>\n",
              "      <td>22003.0</td>\n",
              "      <td>1.0</td>\n",
              "      <td>6904.0</td>\n",
              "    </tr>\n",
              "  </tbody>\n",
              "</table>\n",
              "</div>\n",
              "      <button class=\"colab-df-convert\" onclick=\"convertToInteractive('df-fe6ceb82-1e3d-48f4-8303-c5e6103efa93')\"\n",
              "              title=\"Convert this dataframe to an interactive table.\"\n",
              "              style=\"display:none;\">\n",
              "        \n",
              "  <svg xmlns=\"http://www.w3.org/2000/svg\" height=\"24px\"viewBox=\"0 0 24 24\"\n",
              "       width=\"24px\">\n",
              "    <path d=\"M0 0h24v24H0V0z\" fill=\"none\"/>\n",
              "    <path d=\"M18.56 5.44l.94 2.06.94-2.06 2.06-.94-2.06-.94-.94-2.06-.94 2.06-2.06.94zm-11 1L8.5 8.5l.94-2.06 2.06-.94-2.06-.94L8.5 2.5l-.94 2.06-2.06.94zm10 10l.94 2.06.94-2.06 2.06-.94-2.06-.94-.94-2.06-.94 2.06-2.06.94z\"/><path d=\"M17.41 7.96l-1.37-1.37c-.4-.4-.92-.59-1.43-.59-.52 0-1.04.2-1.43.59L10.3 9.45l-7.72 7.72c-.78.78-.78 2.05 0 2.83L4 21.41c.39.39.9.59 1.41.59.51 0 1.02-.2 1.41-.59l7.78-7.78 2.81-2.81c.8-.78.8-2.07 0-2.86zM5.41 20L4 18.59l7.72-7.72 1.47 1.35L5.41 20z\"/>\n",
              "  </svg>\n",
              "      </button>\n",
              "      \n",
              "  <style>\n",
              "    .colab-df-container {\n",
              "      display:flex;\n",
              "      flex-wrap:wrap;\n",
              "      gap: 12px;\n",
              "    }\n",
              "\n",
              "    .colab-df-convert {\n",
              "      background-color: #E8F0FE;\n",
              "      border: none;\n",
              "      border-radius: 50%;\n",
              "      cursor: pointer;\n",
              "      display: none;\n",
              "      fill: #1967D2;\n",
              "      height: 32px;\n",
              "      padding: 0 0 0 0;\n",
              "      width: 32px;\n",
              "    }\n",
              "\n",
              "    .colab-df-convert:hover {\n",
              "      background-color: #E2EBFA;\n",
              "      box-shadow: 0px 1px 2px rgba(60, 64, 67, 0.3), 0px 1px 3px 1px rgba(60, 64, 67, 0.15);\n",
              "      fill: #174EA6;\n",
              "    }\n",
              "\n",
              "    [theme=dark] .colab-df-convert {\n",
              "      background-color: #3B4455;\n",
              "      fill: #D2E3FC;\n",
              "    }\n",
              "\n",
              "    [theme=dark] .colab-df-convert:hover {\n",
              "      background-color: #434B5C;\n",
              "      box-shadow: 0px 1px 3px 1px rgba(0, 0, 0, 0.15);\n",
              "      filter: drop-shadow(0px 1px 2px rgba(0, 0, 0, 0.3));\n",
              "      fill: #FFFFFF;\n",
              "    }\n",
              "  </style>\n",
              "\n",
              "      <script>\n",
              "        const buttonEl =\n",
              "          document.querySelector('#df-fe6ceb82-1e3d-48f4-8303-c5e6103efa93 button.colab-df-convert');\n",
              "        buttonEl.style.display =\n",
              "          google.colab.kernel.accessAllowed ? 'block' : 'none';\n",
              "\n",
              "        async function convertToInteractive(key) {\n",
              "          const element = document.querySelector('#df-fe6ceb82-1e3d-48f4-8303-c5e6103efa93');\n",
              "          const dataTable =\n",
              "            await google.colab.kernel.invokeFunction('convertToInteractive',\n",
              "                                                     [key], {});\n",
              "          if (!dataTable) return;\n",
              "\n",
              "          const docLinkHtml = 'Like what you see? Visit the ' +\n",
              "            '<a target=\"_blank\" href=https://colab.research.google.com/notebooks/data_table.ipynb>data table notebook</a>'\n",
              "            + ' to learn more about interactive tables.';\n",
              "          element.innerHTML = '';\n",
              "          dataTable['output_type'] = 'display_data';\n",
              "          await google.colab.output.renderOutput(dataTable, element);\n",
              "          const docLink = document.createElement('div');\n",
              "          docLink.innerHTML = docLinkHtml;\n",
              "          element.appendChild(docLink);\n",
              "        }\n",
              "      </script>\n",
              "    </div>\n",
              "  </div>\n",
              "  "
            ],
            "text/plain": [
              "                                                                 Miqdarı  ...        \n",
              "                                                                    mean  ...     std\n",
              "Malın kodu year month Ölçü vaxidi İstehsalçı ölkə Tərəfdaş ölkə           ...        \n",
              "802220000  2020 1     kq          AZƏRBAYCAN      ALMANİYA       19857.0  ...  2983.0\n",
              "                                                  QAZAXISTAN     21500.0  ...     NaN\n",
              "                                                  RUSİYA         19049.0  ...  5045.0\n",
              "                2     kq          AZƏRBAYCAN      ALMANİYA       20000.0  ...     0.0\n",
              "                                                  QAZAXISTAN     21500.0  ...     0.0\n",
              "                                                  RUSİYA         18814.0  ...  5409.0\n",
              "           2021 1     kq          AZƏRBAYCAN      ALMANİYA       20364.0  ...   809.0\n",
              "                                                  QAZAXISTAN     20170.0  ...  1264.0\n",
              "                                                  RUSİYA         18754.0  ...  4381.0\n",
              "                2     kq          AZƏRBAYCAN      ALMANİYA       20250.0  ...   683.0\n",
              "                                                  QAZAXISTAN     18000.0  ...     NaN\n",
              "                                                  RUSİYA         18295.0  ...  6904.0\n",
              "\n",
              "[12 rows x 4 columns]"
            ]
          },
          "metadata": {},
          "execution_count": 75
        }
      ]
    },
    {
      "cell_type": "code",
      "source": [
        "indexes_for_checking = df.index[\n",
        "   (df['Malın kodu'] == miqdari_na_products[0]) &\n",
        "   df['Miqdarı'].isna()\n",
        "].tolist()\n",
        "indexes_for_checking"
      ],
      "metadata": {
        "colab": {
          "base_uri": "https://localhost:8080/"
        },
        "id": "cVEkAUlIv9UW",
        "outputId": "fb6c10de-194b-4d0c-9c0d-397f079056c8"
      },
      "execution_count": null,
      "outputs": [
        {
          "output_type": "execute_result",
          "data": {
            "text/plain": [
              "[92, 93, 29015, 29112]"
            ]
          },
          "metadata": {},
          "execution_count": 87
        }
      ]
    },
    {
      "cell_type": "code",
      "source": [
        "df.isna().sum()"
      ],
      "metadata": {
        "colab": {
          "base_uri": "https://localhost:8080/"
        },
        "id": "JXkrg1dNkPSD",
        "outputId": "3d9b7f08-11aa-47f2-f6ab-d38922377141"
      },
      "execution_count": null,
      "outputs": [
        {
          "output_type": "execute_result",
          "data": {
            "text/plain": [
              "Bəyannamənin tarixi                      0\n",
              "Ümumi sahə                               0\n",
              "Kod 2                                    0\n",
              "Ad 2                                     0\n",
              "Kod 4                                    0\n",
              "Ad 4                                     0\n",
              "Kod 6                                    0\n",
              "Ad 6                                     0\n",
              "Malın kodu                               0\n",
              "Miqdarı                                 86\n",
              "Ölçü vaxidi                              0\n",
              "Tam qiyməti manatla                     74\n",
              "ABŞ dolları ilə                         74\n",
              "Vahidinin qiyməti (ABŞ dolları ilə)    157\n",
              "Tərəfdaş ölkə                           46\n",
              "İstehsalçı ölkə                         58\n",
              "Nəqliyyatın tipi                         0\n",
              "dtype: int64"
            ]
          },
          "metadata": {},
          "execution_count": 88
        }
      ]
    },
    {
      "cell_type": "code",
      "source": [
        "df['count'] = df['Miqdarı'].fillna(\n",
        "    df.groupby(\n",
        "    ['Malın kodu', 'year', 'month', 'Ölçü vaxidi', 'İstehsalçı ölkə', 'Tərəfdaş ölkə']\n",
        "  )['Miqdarı'].transform('mean').round()\n",
        ")"
      ],
      "metadata": {
        "id": "EeuBCNEwTxS7"
      },
      "execution_count": null,
      "outputs": []
    },
    {
      "cell_type": "code",
      "source": [
        "df.iloc[indexes_for_checking, 9:]"
      ],
      "metadata": {
        "colab": {
          "base_uri": "https://localhost:8080/",
          "height": 175
        },
        "id": "9IAhCfUP4UPQ",
        "outputId": "16eb6220-8949-4324-b86a-527a293837d8"
      },
      "execution_count": null,
      "outputs": [
        {
          "output_type": "execute_result",
          "data": {
            "text/html": [
              "\n",
              "  <div id=\"df-19f5f8bd-cf3d-4449-b6f3-a67f2a1193ed\">\n",
              "    <div class=\"colab-df-container\">\n",
              "      <div>\n",
              "<style scoped>\n",
              "    .dataframe tbody tr th:only-of-type {\n",
              "        vertical-align: middle;\n",
              "    }\n",
              "\n",
              "    .dataframe tbody tr th {\n",
              "        vertical-align: top;\n",
              "    }\n",
              "\n",
              "    .dataframe thead th {\n",
              "        text-align: right;\n",
              "    }\n",
              "</style>\n",
              "<table border=\"1\" class=\"dataframe\">\n",
              "  <thead>\n",
              "    <tr style=\"text-align: right;\">\n",
              "      <th></th>\n",
              "      <th>Miqdarı</th>\n",
              "      <th>Ölçü vaxidi</th>\n",
              "      <th>Tam qiyməti manatla</th>\n",
              "      <th>ABŞ dolları ilə</th>\n",
              "      <th>Vahidinin qiyməti (ABŞ dolları ilə)</th>\n",
              "      <th>Tərəfdaş ölkə</th>\n",
              "      <th>İstehsalçı ölkə</th>\n",
              "      <th>Nəqliyyatın tipi</th>\n",
              "      <th>year</th>\n",
              "      <th>month</th>\n",
              "      <th>count</th>\n",
              "    </tr>\n",
              "  </thead>\n",
              "  <tbody>\n",
              "    <tr>\n",
              "      <th>92</th>\n",
              "      <td>NaN</td>\n",
              "      <td>kq</td>\n",
              "      <td>NaN</td>\n",
              "      <td>NaN</td>\n",
              "      <td>NaN</td>\n",
              "      <td>RUSİYA</td>\n",
              "      <td>AZƏRBAYCAN</td>\n",
              "      <td>Avtomobil nəqliyyatı vasitələri</td>\n",
              "      <td>2020</td>\n",
              "      <td>1</td>\n",
              "      <td>19049.0</td>\n",
              "    </tr>\n",
              "    <tr>\n",
              "      <th>93</th>\n",
              "      <td>NaN</td>\n",
              "      <td>kq</td>\n",
              "      <td>NaN</td>\n",
              "      <td>NaN</td>\n",
              "      <td>NaN</td>\n",
              "      <td>ALMANİYA</td>\n",
              "      <td>AZƏRBAYCAN</td>\n",
              "      <td>Avtomobil nəqliyyatı vasitələri</td>\n",
              "      <td>2020</td>\n",
              "      <td>1</td>\n",
              "      <td>19857.0</td>\n",
              "    </tr>\n",
              "    <tr>\n",
              "      <th>29015</th>\n",
              "      <td>NaN</td>\n",
              "      <td>kq</td>\n",
              "      <td>58140.0</td>\n",
              "      <td>34200.0</td>\n",
              "      <td>NaN</td>\n",
              "      <td>QAZAXISTAN</td>\n",
              "      <td>AZƏRBAYCAN</td>\n",
              "      <td>Avtomobil nəqliyyatı vasitələri</td>\n",
              "      <td>2021</td>\n",
              "      <td>2</td>\n",
              "      <td>18000.0</td>\n",
              "    </tr>\n",
              "    <tr>\n",
              "      <th>29112</th>\n",
              "      <td>NaN</td>\n",
              "      <td>kq</td>\n",
              "      <td>NaN</td>\n",
              "      <td>NaN</td>\n",
              "      <td>NaN</td>\n",
              "      <td>ALMANİYA</td>\n",
              "      <td>AZƏRBAYCAN</td>\n",
              "      <td>Avtomobil nəqliyyatı vasitələri</td>\n",
              "      <td>2021</td>\n",
              "      <td>2</td>\n",
              "      <td>20250.0</td>\n",
              "    </tr>\n",
              "  </tbody>\n",
              "</table>\n",
              "</div>\n",
              "      <button class=\"colab-df-convert\" onclick=\"convertToInteractive('df-19f5f8bd-cf3d-4449-b6f3-a67f2a1193ed')\"\n",
              "              title=\"Convert this dataframe to an interactive table.\"\n",
              "              style=\"display:none;\">\n",
              "        \n",
              "  <svg xmlns=\"http://www.w3.org/2000/svg\" height=\"24px\"viewBox=\"0 0 24 24\"\n",
              "       width=\"24px\">\n",
              "    <path d=\"M0 0h24v24H0V0z\" fill=\"none\"/>\n",
              "    <path d=\"M18.56 5.44l.94 2.06.94-2.06 2.06-.94-2.06-.94-.94-2.06-.94 2.06-2.06.94zm-11 1L8.5 8.5l.94-2.06 2.06-.94-2.06-.94L8.5 2.5l-.94 2.06-2.06.94zm10 10l.94 2.06.94-2.06 2.06-.94-2.06-.94-.94-2.06-.94 2.06-2.06.94z\"/><path d=\"M17.41 7.96l-1.37-1.37c-.4-.4-.92-.59-1.43-.59-.52 0-1.04.2-1.43.59L10.3 9.45l-7.72 7.72c-.78.78-.78 2.05 0 2.83L4 21.41c.39.39.9.59 1.41.59.51 0 1.02-.2 1.41-.59l7.78-7.78 2.81-2.81c.8-.78.8-2.07 0-2.86zM5.41 20L4 18.59l7.72-7.72 1.47 1.35L5.41 20z\"/>\n",
              "  </svg>\n",
              "      </button>\n",
              "      \n",
              "  <style>\n",
              "    .colab-df-container {\n",
              "      display:flex;\n",
              "      flex-wrap:wrap;\n",
              "      gap: 12px;\n",
              "    }\n",
              "\n",
              "    .colab-df-convert {\n",
              "      background-color: #E8F0FE;\n",
              "      border: none;\n",
              "      border-radius: 50%;\n",
              "      cursor: pointer;\n",
              "      display: none;\n",
              "      fill: #1967D2;\n",
              "      height: 32px;\n",
              "      padding: 0 0 0 0;\n",
              "      width: 32px;\n",
              "    }\n",
              "\n",
              "    .colab-df-convert:hover {\n",
              "      background-color: #E2EBFA;\n",
              "      box-shadow: 0px 1px 2px rgba(60, 64, 67, 0.3), 0px 1px 3px 1px rgba(60, 64, 67, 0.15);\n",
              "      fill: #174EA6;\n",
              "    }\n",
              "\n",
              "    [theme=dark] .colab-df-convert {\n",
              "      background-color: #3B4455;\n",
              "      fill: #D2E3FC;\n",
              "    }\n",
              "\n",
              "    [theme=dark] .colab-df-convert:hover {\n",
              "      background-color: #434B5C;\n",
              "      box-shadow: 0px 1px 3px 1px rgba(0, 0, 0, 0.15);\n",
              "      filter: drop-shadow(0px 1px 2px rgba(0, 0, 0, 0.3));\n",
              "      fill: #FFFFFF;\n",
              "    }\n",
              "  </style>\n",
              "\n",
              "      <script>\n",
              "        const buttonEl =\n",
              "          document.querySelector('#df-19f5f8bd-cf3d-4449-b6f3-a67f2a1193ed button.colab-df-convert');\n",
              "        buttonEl.style.display =\n",
              "          google.colab.kernel.accessAllowed ? 'block' : 'none';\n",
              "\n",
              "        async function convertToInteractive(key) {\n",
              "          const element = document.querySelector('#df-19f5f8bd-cf3d-4449-b6f3-a67f2a1193ed');\n",
              "          const dataTable =\n",
              "            await google.colab.kernel.invokeFunction('convertToInteractive',\n",
              "                                                     [key], {});\n",
              "          if (!dataTable) return;\n",
              "\n",
              "          const docLinkHtml = 'Like what you see? Visit the ' +\n",
              "            '<a target=\"_blank\" href=https://colab.research.google.com/notebooks/data_table.ipynb>data table notebook</a>'\n",
              "            + ' to learn more about interactive tables.';\n",
              "          element.innerHTML = '';\n",
              "          dataTable['output_type'] = 'display_data';\n",
              "          await google.colab.output.renderOutput(dataTable, element);\n",
              "          const docLink = document.createElement('div');\n",
              "          docLink.innerHTML = docLinkHtml;\n",
              "          element.appendChild(docLink);\n",
              "        }\n",
              "      </script>\n",
              "    </div>\n",
              "  </div>\n",
              "  "
            ],
            "text/plain": [
              "       Miqdarı Ölçü vaxidi  Tam qiyməti manatla  ...  year  month    count\n",
              "92         NaN          kq                  NaN  ...  2020      1  19049.0\n",
              "93         NaN          kq                  NaN  ...  2020      1  19857.0\n",
              "29015      NaN          kq              58140.0  ...  2021      2  18000.0\n",
              "29112      NaN          kq                  NaN  ...  2021      2  20250.0\n",
              "\n",
              "[4 rows x 11 columns]"
            ]
          },
          "metadata": {},
          "execution_count": 95
        }
      ]
    },
    {
      "cell_type": "code",
      "source": [
        "df.isna().sum()"
      ],
      "metadata": {
        "colab": {
          "base_uri": "https://localhost:8080/"
        },
        "id": "S-leR2S8k2r7",
        "outputId": "f5eaf27a-a32c-41ef-afec-d840a97c456f"
      },
      "execution_count": null,
      "outputs": [
        {
          "output_type": "execute_result",
          "data": {
            "text/plain": [
              "Bəyannamənin tarixi                      0\n",
              "Ümumi sahə                               0\n",
              "Kod 2                                    0\n",
              "Ad 2                                     0\n",
              "Kod 4                                    0\n",
              "Ad 4                                     0\n",
              "Kod 6                                    0\n",
              "Ad 6                                     0\n",
              "Malın kodu                               0\n",
              "Miqdarı                                 86\n",
              "Ölçü vaxidi                              0\n",
              "Tam qiyməti manatla                     74\n",
              "ABŞ dolları ilə                         74\n",
              "Vahidinin qiyməti (ABŞ dolları ilə)    157\n",
              "Tərəfdaş ölkə                           46\n",
              "İstehsalçı ölkə                         58\n",
              "Nəqliyyatın tipi                         0\n",
              "year                                     0\n",
              "month                                    0\n",
              "count                                   21\n",
              "dtype: int64"
            ]
          },
          "metadata": {},
          "execution_count": 96
        }
      ]
    },
    {
      "cell_type": "code",
      "source": [
        "df['count'] = df['Miqdarı'].fillna(\n",
        "    df.groupby(\n",
        "    ['Malın kodu', 'year', 'month', 'Ölçü vaxidi', 'İstehsalçı ölkə', 'Tərəfdaş ölkə']\n",
        "  )['Miqdarı'].transform('mean').round()\n",
        ")"
      ],
      "metadata": {
        "id": "3eXVOBg47tMr"
      },
      "execution_count": null,
      "outputs": []
    },
    {
      "cell_type": "code",
      "source": [
        "df['count2'] = df['Miqdarı'].fillna(\n",
        "    df.groupby(\n",
        "    'Malın kodu'\n",
        "  )['Miqdarı'].transform('mean').round()\n",
        ")"
      ],
      "metadata": {
        "id": "nimLxD2E78Pz"
      },
      "execution_count": null,
      "outputs": []
    },
    {
      "cell_type": "code",
      "source": [
        "df.isna().sum()"
      ],
      "metadata": {
        "colab": {
          "base_uri": "https://localhost:8080/"
        },
        "id": "XNEuDX7g78Wu",
        "outputId": "a005d079-2058-4ce4-9d27-d5cf65686080"
      },
      "execution_count": null,
      "outputs": [
        {
          "output_type": "execute_result",
          "data": {
            "text/plain": [
              "Bəyannamənin tarixi                      0\n",
              "Ümumi sahə                               0\n",
              "Kod 2                                    0\n",
              "Ad 2                                     0\n",
              "Kod 4                                    0\n",
              "Ad 4                                     0\n",
              "Kod 6                                    0\n",
              "Ad 6                                     0\n",
              "Malın kodu                               0\n",
              "Miqdarı                                 86\n",
              "Ölçü vaxidi                              0\n",
              "Tam qiyməti manatla                     74\n",
              "ABŞ dolları ilə                         74\n",
              "Vahidinin qiyməti (ABŞ dolları ilə)    157\n",
              "Tərəfdaş ölkə                           46\n",
              "İstehsalçı ölkə                         58\n",
              "Nəqliyyatın tipi                         0\n",
              "year                                     0\n",
              "month                                    0\n",
              "count                                   21\n",
              "count2                                   3\n",
              "dtype: int64"
            ]
          },
          "metadata": {},
          "execution_count": 99
        }
      ]
    },
    {
      "cell_type": "code",
      "source": [
        "df[df['count'].isna() & pd.notna(df['count2'])].iloc[:, 9:].head()"
      ],
      "metadata": {
        "colab": {
          "base_uri": "https://localhost:8080/",
          "height": 206
        },
        "id": "iSkWGRE078aG",
        "outputId": "9e270a54-77e1-4e34-87d5-79daf9aeeae2"
      },
      "execution_count": null,
      "outputs": [
        {
          "output_type": "execute_result",
          "data": {
            "text/html": [
              "\n",
              "  <div id=\"df-ab8ca29f-39d4-4e44-a37a-69f1ea74c0a4\">\n",
              "    <div class=\"colab-df-container\">\n",
              "      <div>\n",
              "<style scoped>\n",
              "    .dataframe tbody tr th:only-of-type {\n",
              "        vertical-align: middle;\n",
              "    }\n",
              "\n",
              "    .dataframe tbody tr th {\n",
              "        vertical-align: top;\n",
              "    }\n",
              "\n",
              "    .dataframe thead th {\n",
              "        text-align: right;\n",
              "    }\n",
              "</style>\n",
              "<table border=\"1\" class=\"dataframe\">\n",
              "  <thead>\n",
              "    <tr style=\"text-align: right;\">\n",
              "      <th></th>\n",
              "      <th>Miqdarı</th>\n",
              "      <th>Ölçü vaxidi</th>\n",
              "      <th>Tam qiyməti manatla</th>\n",
              "      <th>ABŞ dolları ilə</th>\n",
              "      <th>Vahidinin qiyməti (ABŞ dolları ilə)</th>\n",
              "      <th>Tərəfdaş ölkə</th>\n",
              "      <th>İstehsalçı ölkə</th>\n",
              "      <th>Nəqliyyatın tipi</th>\n",
              "      <th>year</th>\n",
              "      <th>month</th>\n",
              "      <th>count</th>\n",
              "      <th>count2</th>\n",
              "    </tr>\n",
              "  </thead>\n",
              "  <tbody>\n",
              "    <tr>\n",
              "      <th>32862</th>\n",
              "      <td>NaN</td>\n",
              "      <td>əd</td>\n",
              "      <td>1190.0</td>\n",
              "      <td>700.0</td>\n",
              "      <td>NaN</td>\n",
              "      <td>SYANQAN (HONKONQ)</td>\n",
              "      <td>ABŞ</td>\n",
              "      <td>Hava nəqliyyatı vasitələri</td>\n",
              "      <td>2021</td>\n",
              "      <td>3</td>\n",
              "      <td>NaN</td>\n",
              "      <td>1.0</td>\n",
              "    </tr>\n",
              "    <tr>\n",
              "      <th>32864</th>\n",
              "      <td>NaN</td>\n",
              "      <td>kq</td>\n",
              "      <td>1241.0</td>\n",
              "      <td>730.0</td>\n",
              "      <td>NaN</td>\n",
              "      <td>SYANQAN (HONKONQ)</td>\n",
              "      <td>FRANSA</td>\n",
              "      <td>Hava nəqliyyatı vasitələri</td>\n",
              "      <td>2021</td>\n",
              "      <td>3</td>\n",
              "      <td>NaN</td>\n",
              "      <td>96.0</td>\n",
              "    </tr>\n",
              "    <tr>\n",
              "      <th>32865</th>\n",
              "      <td>NaN</td>\n",
              "      <td>kq</td>\n",
              "      <td>4760.0</td>\n",
              "      <td>2800.0</td>\n",
              "      <td>NaN</td>\n",
              "      <td>SYANQAN (HONKONQ)</td>\n",
              "      <td>ABŞ</td>\n",
              "      <td>Hava nəqliyyatı vasitələri</td>\n",
              "      <td>2021</td>\n",
              "      <td>3</td>\n",
              "      <td>NaN</td>\n",
              "      <td>0.0</td>\n",
              "    </tr>\n",
              "    <tr>\n",
              "      <th>32866</th>\n",
              "      <td>NaN</td>\n",
              "      <td>əd</td>\n",
              "      <td>10200.0</td>\n",
              "      <td>6000.0</td>\n",
              "      <td>NaN</td>\n",
              "      <td>ÖZBƏKİSTAN</td>\n",
              "      <td>TÜRKİYƏ</td>\n",
              "      <td>Avtomobil nəqliyyatı vasitələri</td>\n",
              "      <td>2020</td>\n",
              "      <td>3</td>\n",
              "      <td>NaN</td>\n",
              "      <td>2.0</td>\n",
              "    </tr>\n",
              "    <tr>\n",
              "      <th>53325</th>\n",
              "      <td>NaN</td>\n",
              "      <td>əd</td>\n",
              "      <td>NaN</td>\n",
              "      <td>NaN</td>\n",
              "      <td>NaN</td>\n",
              "      <td>İTALİYA</td>\n",
              "      <td>ALMANİYA</td>\n",
              "      <td>Hava nəqliyyatı vasitələri</td>\n",
              "      <td>2020</td>\n",
              "      <td>4</td>\n",
              "      <td>NaN</td>\n",
              "      <td>5.0</td>\n",
              "    </tr>\n",
              "  </tbody>\n",
              "</table>\n",
              "</div>\n",
              "      <button class=\"colab-df-convert\" onclick=\"convertToInteractive('df-ab8ca29f-39d4-4e44-a37a-69f1ea74c0a4')\"\n",
              "              title=\"Convert this dataframe to an interactive table.\"\n",
              "              style=\"display:none;\">\n",
              "        \n",
              "  <svg xmlns=\"http://www.w3.org/2000/svg\" height=\"24px\"viewBox=\"0 0 24 24\"\n",
              "       width=\"24px\">\n",
              "    <path d=\"M0 0h24v24H0V0z\" fill=\"none\"/>\n",
              "    <path d=\"M18.56 5.44l.94 2.06.94-2.06 2.06-.94-2.06-.94-.94-2.06-.94 2.06-2.06.94zm-11 1L8.5 8.5l.94-2.06 2.06-.94-2.06-.94L8.5 2.5l-.94 2.06-2.06.94zm10 10l.94 2.06.94-2.06 2.06-.94-2.06-.94-.94-2.06-.94 2.06-2.06.94z\"/><path d=\"M17.41 7.96l-1.37-1.37c-.4-.4-.92-.59-1.43-.59-.52 0-1.04.2-1.43.59L10.3 9.45l-7.72 7.72c-.78.78-.78 2.05 0 2.83L4 21.41c.39.39.9.59 1.41.59.51 0 1.02-.2 1.41-.59l7.78-7.78 2.81-2.81c.8-.78.8-2.07 0-2.86zM5.41 20L4 18.59l7.72-7.72 1.47 1.35L5.41 20z\"/>\n",
              "  </svg>\n",
              "      </button>\n",
              "      \n",
              "  <style>\n",
              "    .colab-df-container {\n",
              "      display:flex;\n",
              "      flex-wrap:wrap;\n",
              "      gap: 12px;\n",
              "    }\n",
              "\n",
              "    .colab-df-convert {\n",
              "      background-color: #E8F0FE;\n",
              "      border: none;\n",
              "      border-radius: 50%;\n",
              "      cursor: pointer;\n",
              "      display: none;\n",
              "      fill: #1967D2;\n",
              "      height: 32px;\n",
              "      padding: 0 0 0 0;\n",
              "      width: 32px;\n",
              "    }\n",
              "\n",
              "    .colab-df-convert:hover {\n",
              "      background-color: #E2EBFA;\n",
              "      box-shadow: 0px 1px 2px rgba(60, 64, 67, 0.3), 0px 1px 3px 1px rgba(60, 64, 67, 0.15);\n",
              "      fill: #174EA6;\n",
              "    }\n",
              "\n",
              "    [theme=dark] .colab-df-convert {\n",
              "      background-color: #3B4455;\n",
              "      fill: #D2E3FC;\n",
              "    }\n",
              "\n",
              "    [theme=dark] .colab-df-convert:hover {\n",
              "      background-color: #434B5C;\n",
              "      box-shadow: 0px 1px 3px 1px rgba(0, 0, 0, 0.15);\n",
              "      filter: drop-shadow(0px 1px 2px rgba(0, 0, 0, 0.3));\n",
              "      fill: #FFFFFF;\n",
              "    }\n",
              "  </style>\n",
              "\n",
              "      <script>\n",
              "        const buttonEl =\n",
              "          document.querySelector('#df-ab8ca29f-39d4-4e44-a37a-69f1ea74c0a4 button.colab-df-convert');\n",
              "        buttonEl.style.display =\n",
              "          google.colab.kernel.accessAllowed ? 'block' : 'none';\n",
              "\n",
              "        async function convertToInteractive(key) {\n",
              "          const element = document.querySelector('#df-ab8ca29f-39d4-4e44-a37a-69f1ea74c0a4');\n",
              "          const dataTable =\n",
              "            await google.colab.kernel.invokeFunction('convertToInteractive',\n",
              "                                                     [key], {});\n",
              "          if (!dataTable) return;\n",
              "\n",
              "          const docLinkHtml = 'Like what you see? Visit the ' +\n",
              "            '<a target=\"_blank\" href=https://colab.research.google.com/notebooks/data_table.ipynb>data table notebook</a>'\n",
              "            + ' to learn more about interactive tables.';\n",
              "          element.innerHTML = '';\n",
              "          dataTable['output_type'] = 'display_data';\n",
              "          await google.colab.output.renderOutput(dataTable, element);\n",
              "          const docLink = document.createElement('div');\n",
              "          docLink.innerHTML = docLinkHtml;\n",
              "          element.appendChild(docLink);\n",
              "        }\n",
              "      </script>\n",
              "    </div>\n",
              "  </div>\n",
              "  "
            ],
            "text/plain": [
              "       Miqdarı Ölçü vaxidi  Tam qiyməti manatla  ...  month  count count2\n",
              "32862      NaN          əd               1190.0  ...      3    NaN    1.0\n",
              "32864      NaN          kq               1241.0  ...      3    NaN   96.0\n",
              "32865      NaN          kq               4760.0  ...      3    NaN    0.0\n",
              "32866      NaN          əd              10200.0  ...      3    NaN    2.0\n",
              "53325      NaN          əd                  NaN  ...      4    NaN    5.0\n",
              "\n",
              "[5 rows x 12 columns]"
            ]
          },
          "metadata": {},
          "execution_count": 101
        }
      ]
    },
    {
      "cell_type": "code",
      "source": [
        "df['count3'] = df['Miqdarı'].fillna(\n",
        "    df.groupby(\n",
        "    'Kod 6'\n",
        "  )['Miqdarı'].transform('mean').round()\n",
        ")"
      ],
      "metadata": {
        "id": "uGKGHXUN78dW"
      },
      "execution_count": null,
      "outputs": []
    },
    {
      "cell_type": "code",
      "source": [
        "df.isna().sum()"
      ],
      "metadata": {
        "colab": {
          "base_uri": "https://localhost:8080/"
        },
        "id": "rJVK14xh78gW",
        "outputId": "b111add1-545a-4f6c-b88e-a7685bdefdc4"
      },
      "execution_count": null,
      "outputs": [
        {
          "output_type": "execute_result",
          "data": {
            "text/plain": [
              "Bəyannamənin tarixi                      0\n",
              "Ümumi sahə                               0\n",
              "Kod 2                                    0\n",
              "Ad 2                                     0\n",
              "Kod 4                                    0\n",
              "Ad 4                                     0\n",
              "Kod 6                                    0\n",
              "Ad 6                                     0\n",
              "Malın kodu                               0\n",
              "Miqdarı                                 86\n",
              "Ölçü vaxidi                              0\n",
              "Tam qiyməti manatla                     74\n",
              "ABŞ dolları ilə                         74\n",
              "Vahidinin qiyməti (ABŞ dolları ilə)    157\n",
              "Tərəfdaş ölkə                           46\n",
              "İstehsalçı ölkə                         58\n",
              "Nəqliyyatın tipi                         0\n",
              "year                                     0\n",
              "month                                    0\n",
              "count                                   21\n",
              "count2                                   3\n",
              "count3                                   1\n",
              "dtype: int64"
            ]
          },
          "metadata": {},
          "execution_count": 103
        }
      ]
    },
    {
      "cell_type": "code",
      "source": [
        "df['count4'] = df['Miqdarı'].fillna(\n",
        "    df.groupby(\n",
        "    'Kod 4'\n",
        "  )['Miqdarı'].transform('mean').round()\n",
        ")\n",
        "df.isna().sum() # so we imputed count variable"
      ],
      "metadata": {
        "colab": {
          "base_uri": "https://localhost:8080/"
        },
        "id": "wF18U8mS9MK9",
        "outputId": "ff06b469-fc8c-4792-9d81-1385b12ee443"
      },
      "execution_count": null,
      "outputs": [
        {
          "output_type": "execute_result",
          "data": {
            "text/plain": [
              "Bəyannamənin tarixi                      0\n",
              "Ümumi sahə                               0\n",
              "Kod 2                                    0\n",
              "Ad 2                                     0\n",
              "Kod 4                                    0\n",
              "Ad 4                                     0\n",
              "Kod 6                                    0\n",
              "Ad 6                                     0\n",
              "Malın kodu                               0\n",
              "Miqdarı                                 86\n",
              "Ölçü vaxidi                              0\n",
              "Tam qiyməti manatla                     74\n",
              "ABŞ dolları ilə                         74\n",
              "Vahidinin qiyməti (ABŞ dolları ilə)    157\n",
              "Tərəfdaş ölkə                           46\n",
              "İstehsalçı ölkə                         58\n",
              "Nəqliyyatın tipi                         0\n",
              "year                                     0\n",
              "month                                    0\n",
              "count                                   21\n",
              "count2                                   3\n",
              "count3                                   1\n",
              "count4                                   0\n",
              "dtype: int64"
            ]
          },
          "metadata": {},
          "execution_count": 104
        }
      ]
    },
    {
      "cell_type": "code",
      "source": [
        "# df[\n",
        "#    pd.notna(df['count4']) &\n",
        "#    pd.notna(df['unit_price_manat']) &\n",
        "#    pd.isna(df['Tam qiyməti manatla'])\n",
        "# ]"
      ],
      "metadata": {
        "id": "w1OUvvEq9U8s"
      },
      "execution_count": null,
      "outputs": []
    },
    {
      "cell_type": "code",
      "source": [
        "# For computational reasons we have to change 0 count to 1\n",
        "df['count5'] = df['count4'].apply(lambda x: x+1 if x == 0 else x)"
      ],
      "metadata": {
        "id": "er3UTF399U_w"
      },
      "execution_count": null,
      "outputs": []
    },
    {
      "cell_type": "code",
      "source": [
        "df['unit_price_azn'] = df['Tam qiyməti manatla']/df['count5']"
      ],
      "metadata": {
        "id": "ed9UGQ069VCn"
      },
      "execution_count": null,
      "outputs": []
    },
    {
      "cell_type": "code",
      "source": [
        "# df.drop('final_price', axis=1, inplace = True)\n",
        "checkpoint_1 = df.copy()"
      ],
      "metadata": {
        "id": "-q2-G4bh9VFr"
      },
      "execution_count": null,
      "outputs": []
    },
    {
      "cell_type": "code",
      "source": [
        "df.isna().sum()"
      ],
      "metadata": {
        "colab": {
          "base_uri": "https://localhost:8080/"
        },
        "id": "qQyFGE2e9VIV",
        "outputId": "5380fc56-9816-4000-97ad-2dd248c96c42"
      },
      "execution_count": null,
      "outputs": [
        {
          "output_type": "execute_result",
          "data": {
            "text/plain": [
              "Bəyannamənin tarixi                      0\n",
              "Ümumi sahə                               0\n",
              "Kod 2                                    0\n",
              "Ad 2                                     0\n",
              "Kod 4                                    0\n",
              "Ad 4                                     0\n",
              "Kod 6                                    0\n",
              "Ad 6                                     0\n",
              "Malın kodu                               0\n",
              "Miqdarı                                 86\n",
              "Ölçü vaxidi                              0\n",
              "Tam qiyməti manatla                     74\n",
              "ABŞ dolları ilə                         74\n",
              "Vahidinin qiyməti (ABŞ dolları ilə)    157\n",
              "Tərəfdaş ölkə                           46\n",
              "İstehsalçı ölkə                         58\n",
              "Nəqliyyatın tipi                         0\n",
              "year                                     0\n",
              "month                                    0\n",
              "count                                   21\n",
              "count2                                   3\n",
              "count3                                   1\n",
              "count4                                   0\n",
              "count5                                   0\n",
              "unit_price_azn                          74\n",
              "dtype: int64"
            ]
          },
          "metadata": {},
          "execution_count": 108
        }
      ]
    },
    {
      "cell_type": "code",
      "source": [
        "unit_price_na_product_codes = df[df['unit_price_azn'].isna()][\"Malın kodu\"].unique()"
      ],
      "metadata": {
        "id": "4AqRze3h9VLL"
      },
      "execution_count": null,
      "outputs": []
    },
    {
      "cell_type": "code",
      "source": [
        "df['unit_price_azn2'] = df['unit_price_azn'].fillna(\n",
        "    df.groupby(\n",
        "    ['Malın kodu', 'year', 'month', 'Ölçü vaxidi', 'İstehsalçı ölkə', 'Tərəfdaş ölkə']\n",
        "  )['unit_price_azn'].transform('mean').round(2)\n",
        ")"
      ],
      "metadata": {
        "id": "07ZC4dr49VOC"
      },
      "execution_count": null,
      "outputs": []
    },
    {
      "cell_type": "code",
      "source": [
        "df.isna().sum()"
      ],
      "metadata": {
        "colab": {
          "base_uri": "https://localhost:8080/"
        },
        "id": "Km16LwVn9VQ1",
        "outputId": "bef783c1-26e5-4535-e746-568299942850"
      },
      "execution_count": null,
      "outputs": [
        {
          "output_type": "execute_result",
          "data": {
            "text/plain": [
              "Bəyannamənin tarixi                      0\n",
              "Ümumi sahə                               0\n",
              "Kod 2                                    0\n",
              "Ad 2                                     0\n",
              "Kod 4                                    0\n",
              "Ad 4                                     0\n",
              "Kod 6                                    0\n",
              "Ad 6                                     0\n",
              "Malın kodu                               0\n",
              "Miqdarı                                 86\n",
              "Ölçü vaxidi                              0\n",
              "Tam qiyməti manatla                     74\n",
              "ABŞ dolları ilə                         74\n",
              "Vahidinin qiyməti (ABŞ dolları ilə)    157\n",
              "Tərəfdaş ölkə                           46\n",
              "İstehsalçı ölkə                         58\n",
              "Nəqliyyatın tipi                         0\n",
              "year                                     0\n",
              "month                                    0\n",
              "count                                   21\n",
              "count2                                   3\n",
              "count3                                   1\n",
              "count4                                   0\n",
              "count5                                   0\n",
              "unit_price_azn                          74\n",
              "unit_price_azn2                         25\n",
              "dtype: int64"
            ]
          },
          "metadata": {},
          "execution_count": 111
        }
      ]
    },
    {
      "cell_type": "code",
      "source": [
        "df['unit_price_azn3'] = df['unit_price_azn2'].fillna(\n",
        "    df.groupby(\n",
        "    ['Malın kodu', 'year', 'month', 'Ölçü vaxidi', 'İstehsalçı ölkə']\n",
        "  )['unit_price_azn'].transform('mean').round(2)\n",
        ")\n",
        "df.isna().sum()"
      ],
      "metadata": {
        "colab": {
          "base_uri": "https://localhost:8080/"
        },
        "id": "oQrbufq39VTc",
        "outputId": "12170b99-dffc-4711-96c0-98c576aac354"
      },
      "execution_count": null,
      "outputs": [
        {
          "output_type": "execute_result",
          "data": {
            "text/plain": [
              "Bəyannamənin tarixi                      0\n",
              "Ümumi sahə                               0\n",
              "Kod 2                                    0\n",
              "Ad 2                                     0\n",
              "Kod 4                                    0\n",
              "Ad 4                                     0\n",
              "Kod 6                                    0\n",
              "Ad 6                                     0\n",
              "Malın kodu                               0\n",
              "Miqdarı                                 86\n",
              "Ölçü vaxidi                              0\n",
              "Tam qiyməti manatla                     74\n",
              "ABŞ dolları ilə                         74\n",
              "Vahidinin qiyməti (ABŞ dolları ilə)    157\n",
              "Tərəfdaş ölkə                           46\n",
              "İstehsalçı ölkə                         58\n",
              "Nəqliyyatın tipi                         0\n",
              "year                                     0\n",
              "month                                    0\n",
              "count                                   21\n",
              "count2                                   3\n",
              "count3                                   1\n",
              "count4                                   0\n",
              "count5                                   0\n",
              "unit_price_azn                          74\n",
              "unit_price_azn2                         25\n",
              "unit_price_azn3                         17\n",
              "dtype: int64"
            ]
          },
          "metadata": {},
          "execution_count": 112
        }
      ]
    },
    {
      "cell_type": "code",
      "source": [
        "df['unit_price_azn4'] = df['unit_price_azn3'].fillna(\n",
        "    df.groupby(\n",
        "    ['Malın kodu', 'year', 'İstehsalçı ölkə']\n",
        "  )['unit_price_azn'].transform('mean').round(2)\n",
        ")\n",
        "df.isna().sum()"
      ],
      "metadata": {
        "colab": {
          "base_uri": "https://localhost:8080/"
        },
        "id": "CmuDBOoG9VV6",
        "outputId": "7f3839cd-17ac-473b-d196-abc6bc1fe919"
      },
      "execution_count": null,
      "outputs": [
        {
          "output_type": "execute_result",
          "data": {
            "text/plain": [
              "Bəyannamənin tarixi                      0\n",
              "Ümumi sahə                               0\n",
              "Kod 2                                    0\n",
              "Ad 2                                     0\n",
              "Kod 4                                    0\n",
              "Ad 4                                     0\n",
              "Kod 6                                    0\n",
              "Ad 6                                     0\n",
              "Malın kodu                               0\n",
              "Miqdarı                                 86\n",
              "Ölçü vaxidi                              0\n",
              "Tam qiyməti manatla                     74\n",
              "ABŞ dolları ilə                         74\n",
              "Vahidinin qiyməti (ABŞ dolları ilə)    157\n",
              "Tərəfdaş ölkə                           46\n",
              "İstehsalçı ölkə                         58\n",
              "Nəqliyyatın tipi                         0\n",
              "year                                     0\n",
              "month                                    0\n",
              "count                                   21\n",
              "count2                                   3\n",
              "count3                                   1\n",
              "count4                                   0\n",
              "count5                                   0\n",
              "unit_price_azn                          74\n",
              "unit_price_azn2                         25\n",
              "unit_price_azn3                         17\n",
              "unit_price_azn4                         11\n",
              "dtype: int64"
            ]
          },
          "metadata": {},
          "execution_count": 113
        }
      ]
    },
    {
      "cell_type": "code",
      "source": [
        "df['unit_price_azn5'] = df['unit_price_azn4'].fillna(\n",
        "    df.groupby(\n",
        "    ['Malın kodu', 'İstehsalçı ölkə']\n",
        "  )['unit_price_azn'].transform('mean').round(2)\n",
        ")\n",
        "df.isna().sum()"
      ],
      "metadata": {
        "colab": {
          "base_uri": "https://localhost:8080/"
        },
        "id": "V-N11R4R9VYy",
        "outputId": "23b3ba9d-c176-41a4-a230-ab96ebd8f11b"
      },
      "execution_count": null,
      "outputs": [
        {
          "output_type": "execute_result",
          "data": {
            "text/plain": [
              "Bəyannamənin tarixi                      0\n",
              "Ümumi sahə                               0\n",
              "Kod 2                                    0\n",
              "Ad 2                                     0\n",
              "Kod 4                                    0\n",
              "Ad 4                                     0\n",
              "Kod 6                                    0\n",
              "Ad 6                                     0\n",
              "Malın kodu                               0\n",
              "Miqdarı                                 86\n",
              "Ölçü vaxidi                              0\n",
              "Tam qiyməti manatla                     74\n",
              "ABŞ dolları ilə                         74\n",
              "Vahidinin qiyməti (ABŞ dolları ilə)    157\n",
              "Tərəfdaş ölkə                           46\n",
              "İstehsalçı ölkə                         58\n",
              "Nəqliyyatın tipi                         0\n",
              "year                                     0\n",
              "month                                    0\n",
              "count                                   21\n",
              "count2                                   3\n",
              "count3                                   1\n",
              "count4                                   0\n",
              "count5                                   0\n",
              "unit_price_azn                          74\n",
              "unit_price_azn2                         25\n",
              "unit_price_azn3                         17\n",
              "unit_price_azn4                         11\n",
              "unit_price_azn5                          9\n",
              "dtype: int64"
            ]
          },
          "metadata": {},
          "execution_count": 114
        }
      ]
    },
    {
      "cell_type": "code",
      "source": [
        "df['unit_price_azn6'] = df['unit_price_azn5'].fillna(\n",
        "    df.groupby(\n",
        "    ['Kod 4', 'İstehsalçı ölkə']\n",
        "  )['unit_price_azn'].transform('mean').round(2)\n",
        ")\n",
        "df.isna().sum()"
      ],
      "metadata": {
        "colab": {
          "base_uri": "https://localhost:8080/"
        },
        "id": "Aif08OZd9VbY",
        "outputId": "d1c9f80b-be4a-4e6c-8f9d-e138e37f1deb"
      },
      "execution_count": null,
      "outputs": [
        {
          "output_type": "execute_result",
          "data": {
            "text/plain": [
              "Bəyannamənin tarixi                      0\n",
              "Ümumi sahə                               0\n",
              "Kod 2                                    0\n",
              "Ad 2                                     0\n",
              "Kod 4                                    0\n",
              "Ad 4                                     0\n",
              "Kod 6                                    0\n",
              "Ad 6                                     0\n",
              "Malın kodu                               0\n",
              "Miqdarı                                 86\n",
              "Ölçü vaxidi                              0\n",
              "Tam qiyməti manatla                     74\n",
              "ABŞ dolları ilə                         74\n",
              "Vahidinin qiyməti (ABŞ dolları ilə)    157\n",
              "Tərəfdaş ölkə                           46\n",
              "İstehsalçı ölkə                         58\n",
              "Nəqliyyatın tipi                         0\n",
              "year                                     0\n",
              "month                                    0\n",
              "count                                   21\n",
              "count2                                   3\n",
              "count3                                   1\n",
              "count4                                   0\n",
              "count5                                   0\n",
              "unit_price_azn                          74\n",
              "unit_price_azn2                         25\n",
              "unit_price_azn3                         17\n",
              "unit_price_azn4                         11\n",
              "unit_price_azn5                          9\n",
              "unit_price_azn6                          4\n",
              "dtype: int64"
            ]
          },
          "metadata": {},
          "execution_count": 115
        }
      ]
    },
    {
      "cell_type": "code",
      "source": [
        "df['unit_price_azn7'] = df['unit_price_azn6'].fillna(\n",
        "    df.groupby(\n",
        "    ['Kod 2', 'İstehsalçı ölkə']\n",
        "  )['unit_price_azn'].transform('mean').round(2)\n",
        ")\n",
        "df.isna().sum()"
      ],
      "metadata": {
        "colab": {
          "base_uri": "https://localhost:8080/"
        },
        "id": "Cmh0rHz19VeO",
        "outputId": "d7bf5c3b-47e5-4899-af13-be9acc0fce4d"
      },
      "execution_count": null,
      "outputs": [
        {
          "output_type": "execute_result",
          "data": {
            "text/plain": [
              "Bəyannamənin tarixi                      0\n",
              "Ümumi sahə                               0\n",
              "Kod 2                                    0\n",
              "Ad 2                                     0\n",
              "Kod 4                                    0\n",
              "Ad 4                                     0\n",
              "Kod 6                                    0\n",
              "Ad 6                                     0\n",
              "Malın kodu                               0\n",
              "Miqdarı                                 86\n",
              "Ölçü vaxidi                              0\n",
              "Tam qiyməti manatla                     74\n",
              "ABŞ dolları ilə                         74\n",
              "Vahidinin qiyməti (ABŞ dolları ilə)    157\n",
              "Tərəfdaş ölkə                           46\n",
              "İstehsalçı ölkə                         58\n",
              "Nəqliyyatın tipi                         0\n",
              "year                                     0\n",
              "month                                    0\n",
              "count                                   21\n",
              "count2                                   3\n",
              "count3                                   1\n",
              "count4                                   0\n",
              "count5                                   0\n",
              "unit_price_azn                          74\n",
              "unit_price_azn2                         25\n",
              "unit_price_azn3                         17\n",
              "unit_price_azn4                         11\n",
              "unit_price_azn5                          9\n",
              "unit_price_azn6                          4\n",
              "unit_price_azn7                          0\n",
              "dtype: int64"
            ]
          },
          "metadata": {},
          "execution_count": 116
        }
      ]
    },
    {
      "cell_type": "code",
      "source": [
        "df['final_price_azn'] = round(df['count5'] * df['unit_price_azn7'])\n",
        "df['final_price_usd'] = round(df['final_price_azn'] / 1.7, 2)\n",
        "df['unit_price_usd'] = round(df['unit_price_azn7'] / 1.7, 2)"
      ],
      "metadata": {
        "id": "di4vNrp49VhF"
      },
      "execution_count": null,
      "outputs": []
    },
    {
      "cell_type": "code",
      "source": [
        "checkpoint_2 = df.copy()"
      ],
      "metadata": {
        "id": "TWQDmQLED-Wr"
      },
      "execution_count": null,
      "outputs": []
    },
    {
      "cell_type": "code",
      "source": [
        "df = checkpoint_2.copy()"
      ],
      "metadata": {
        "id": "lokCWvjr0CyX"
      },
      "execution_count": null,
      "outputs": []
    },
    {
      "cell_type": "code",
      "source": [
        "df.columns.values"
      ],
      "metadata": {
        "colab": {
          "base_uri": "https://localhost:8080/"
        },
        "id": "HKWei-6cD-Z9",
        "outputId": "adec0468-17d4-44b9-c79a-d9b6d36be9b5"
      },
      "execution_count": null,
      "outputs": [
        {
          "output_type": "execute_result",
          "data": {
            "text/plain": [
              "array(['Bəyannamənin tarixi', 'Ümumi sahə', 'Kod 2', 'Ad 2', 'Kod 4',\n",
              "       'Ad 4', 'Kod 6', 'Ad 6', 'Malın kodu', 'Miqdarı', 'Ölçü vaxidi',\n",
              "       'Tam qiyməti manatla', 'ABŞ dolları ilə',\n",
              "       'Vahidinin qiyməti (ABŞ dolları ilə)', 'Tərəfdaş ölkə',\n",
              "       'İstehsalçı ölkə', 'Nəqliyyatın tipi', 'year', 'month', 'count',\n",
              "       'count2', 'count3', 'count4', 'count5', 'unit_price_azn',\n",
              "       'unit_price_azn2', 'unit_price_azn3', 'unit_price_azn4',\n",
              "       'unit_price_azn5', 'unit_price_azn6', 'unit_price_azn7',\n",
              "       'final_price_azn', 'final_price_usd', 'unit_price_usd'],\n",
              "      dtype=object)"
            ]
          },
          "metadata": {},
          "execution_count": 127
        }
      ]
    },
    {
      "cell_type": "code",
      "source": [
        "df = df[\n",
        "   ['Bəyannamənin tarixi', 'Ümumi sahə', 'Kod 2', 'Ad 2',\n",
        "       'Kod 4', 'Ad 4', 'Kod 6', 'Ad 6', 'Malın kodu',\n",
        "       'Ölçü vaxidi', 'Tərəfdaş ölkə',\n",
        "       'İstehsalçı ölkə', 'Nəqliyyatın tipi', 'year', 'month', 'count4', 'count5',\n",
        "       'unit_price_azn7','final_price_azn', 'final_price_usd', 'unit_price_usd']]"
      ],
      "metadata": {
        "id": "W5-Pjk0AD-dp"
      },
      "execution_count": null,
      "outputs": []
    },
    {
      "cell_type": "code",
      "source": [
        "df.head()"
      ],
      "metadata": {
        "colab": {
          "base_uri": "https://localhost:8080/",
          "height": 895
        },
        "id": "KapBt4McD-gT",
        "outputId": "5b7beb42-6a2d-430a-894e-a26085feedfb"
      },
      "execution_count": null,
      "outputs": [
        {
          "output_type": "execute_result",
          "data": {
            "text/html": [
              "\n",
              "  <div id=\"df-2d3b323b-a377-4307-8378-2249c2e8df43\">\n",
              "    <div class=\"colab-df-container\">\n",
              "      <div>\n",
              "<style scoped>\n",
              "    .dataframe tbody tr th:only-of-type {\n",
              "        vertical-align: middle;\n",
              "    }\n",
              "\n",
              "    .dataframe tbody tr th {\n",
              "        vertical-align: top;\n",
              "    }\n",
              "\n",
              "    .dataframe thead th {\n",
              "        text-align: right;\n",
              "    }\n",
              "</style>\n",
              "<table border=\"1\" class=\"dataframe\">\n",
              "  <thead>\n",
              "    <tr style=\"text-align: right;\">\n",
              "      <th></th>\n",
              "      <th>Bəyannamənin tarixi</th>\n",
              "      <th>Ümumi sahə</th>\n",
              "      <th>Kod 2</th>\n",
              "      <th>Ad 2</th>\n",
              "      <th>Kod 4</th>\n",
              "      <th>Ad 4</th>\n",
              "      <th>Kod 6</th>\n",
              "      <th>Ad 6</th>\n",
              "      <th>Malın kodu</th>\n",
              "      <th>Ölçü vaxidi</th>\n",
              "      <th>Tərəfdaş ölkə</th>\n",
              "      <th>İstehsalçı ölkə</th>\n",
              "      <th>Nəqliyyatın tipi</th>\n",
              "      <th>year</th>\n",
              "      <th>month</th>\n",
              "      <th>count4</th>\n",
              "      <th>count5</th>\n",
              "      <th>unit_price_azn7</th>\n",
              "      <th>final_price_azn</th>\n",
              "      <th>final_price_usd</th>\n",
              "      <th>unit_price_usd</th>\n",
              "    </tr>\n",
              "  </thead>\n",
              "  <tbody>\n",
              "    <tr>\n",
              "      <th>0</th>\n",
              "      <td>2020-01-01</td>\n",
              "      <td>Sənaye məhsulları</td>\n",
              "      <td>39</td>\n",
              "      <td>Plastmassa və onlardan hazırlanan məmulatlar</td>\n",
              "      <td>3901</td>\n",
              "      <td>Etilen polimerləri, ilkin formalarda</td>\n",
              "      <td>390110</td>\n",
              "      <td>Xüsusi kütləsi 0,94-dən az olan ilkin formalı ...</td>\n",
              "      <td>3901109000</td>\n",
              "      <td>kq</td>\n",
              "      <td>ÇİN</td>\n",
              "      <td>AZƏRBAYCAN</td>\n",
              "      <td>Avtomobil nəqliyyatı vasitələri</td>\n",
              "      <td>2020</td>\n",
              "      <td>1</td>\n",
              "      <td>22500.0</td>\n",
              "      <td>22500.0</td>\n",
              "      <td>1.162800</td>\n",
              "      <td>26163.0</td>\n",
              "      <td>15390.00</td>\n",
              "      <td>0.68</td>\n",
              "    </tr>\n",
              "    <tr>\n",
              "      <th>1</th>\n",
              "      <td>2020-01-02</td>\n",
              "      <td>Sənaye məhsulları</td>\n",
              "      <td>39</td>\n",
              "      <td>Plastmassa və onlardan hazırlanan məmulatlar</td>\n",
              "      <td>3901</td>\n",
              "      <td>Etilen polimerləri, ilkin formalarda</td>\n",
              "      <td>390110</td>\n",
              "      <td>Xüsusi kütləsi 0,94-dən az olan ilkin formalı ...</td>\n",
              "      <td>3901109000</td>\n",
              "      <td>kq</td>\n",
              "      <td>ÇİN</td>\n",
              "      <td>AZƏRBAYCAN</td>\n",
              "      <td>Avtomobil nəqliyyatı vasitələri</td>\n",
              "      <td>2020</td>\n",
              "      <td>1</td>\n",
              "      <td>22500.0</td>\n",
              "      <td>22500.0</td>\n",
              "      <td>1.162800</td>\n",
              "      <td>26163.0</td>\n",
              "      <td>15390.00</td>\n",
              "      <td>0.68</td>\n",
              "    </tr>\n",
              "    <tr>\n",
              "      <th>2</th>\n",
              "      <td>2020-01-03</td>\n",
              "      <td>Sənaye məhsulları</td>\n",
              "      <td>39</td>\n",
              "      <td>Plastmassa və onlardan hazırlanan məmulatlar</td>\n",
              "      <td>3901</td>\n",
              "      <td>Etilen polimerləri, ilkin formalarda</td>\n",
              "      <td>390110</td>\n",
              "      <td>Xüsusi kütləsi 0,94-dən az olan ilkin formalı ...</td>\n",
              "      <td>3901109000</td>\n",
              "      <td>kq</td>\n",
              "      <td>ÇİN</td>\n",
              "      <td>AZƏRBAYCAN</td>\n",
              "      <td>Avtomobil nəqliyyatı vasitələri</td>\n",
              "      <td>2020</td>\n",
              "      <td>1</td>\n",
              "      <td>22500.0</td>\n",
              "      <td>22500.0</td>\n",
              "      <td>1.162800</td>\n",
              "      <td>26163.0</td>\n",
              "      <td>15390.00</td>\n",
              "      <td>0.68</td>\n",
              "    </tr>\n",
              "    <tr>\n",
              "      <th>3</th>\n",
              "      <td>2020-01-03</td>\n",
              "      <td>Sənaye məhsulları</td>\n",
              "      <td>39</td>\n",
              "      <td>Plastmassa və onlardan hazırlanan məmulatlar</td>\n",
              "      <td>3901</td>\n",
              "      <td>Etilen polimerləri, ilkin formalarda</td>\n",
              "      <td>390110</td>\n",
              "      <td>Xüsusi kütləsi 0,94-dən az olan ilkin formalı ...</td>\n",
              "      <td>3901109000</td>\n",
              "      <td>kq</td>\n",
              "      <td>TÜRKİYƏ</td>\n",
              "      <td>AZƏRBAYCAN</td>\n",
              "      <td>Avtomobil nəqliyyatı vasitələri</td>\n",
              "      <td>2020</td>\n",
              "      <td>1</td>\n",
              "      <td>22500.0</td>\n",
              "      <td>22500.0</td>\n",
              "      <td>1.215416</td>\n",
              "      <td>27347.0</td>\n",
              "      <td>16086.47</td>\n",
              "      <td>0.71</td>\n",
              "    </tr>\n",
              "    <tr>\n",
              "      <th>4</th>\n",
              "      <td>2020-01-04</td>\n",
              "      <td>Sənaye məhsulları</td>\n",
              "      <td>39</td>\n",
              "      <td>Plastmassa və onlardan hazırlanan məmulatlar</td>\n",
              "      <td>3901</td>\n",
              "      <td>Etilen polimerləri, ilkin formalarda</td>\n",
              "      <td>390110</td>\n",
              "      <td>Xüsusi kütləsi 0,94-dən az olan ilkin formalı ...</td>\n",
              "      <td>3901109000</td>\n",
              "      <td>kq</td>\n",
              "      <td>ÇİN</td>\n",
              "      <td>AZƏRBAYCAN</td>\n",
              "      <td>Avtomobil nəqliyyatı vasitələri</td>\n",
              "      <td>2020</td>\n",
              "      <td>1</td>\n",
              "      <td>22500.0</td>\n",
              "      <td>22500.0</td>\n",
              "      <td>1.162800</td>\n",
              "      <td>26163.0</td>\n",
              "      <td>15390.00</td>\n",
              "      <td>0.68</td>\n",
              "    </tr>\n",
              "  </tbody>\n",
              "</table>\n",
              "</div>\n",
              "      <button class=\"colab-df-convert\" onclick=\"convertToInteractive('df-2d3b323b-a377-4307-8378-2249c2e8df43')\"\n",
              "              title=\"Convert this dataframe to an interactive table.\"\n",
              "              style=\"display:none;\">\n",
              "        \n",
              "  <svg xmlns=\"http://www.w3.org/2000/svg\" height=\"24px\"viewBox=\"0 0 24 24\"\n",
              "       width=\"24px\">\n",
              "    <path d=\"M0 0h24v24H0V0z\" fill=\"none\"/>\n",
              "    <path d=\"M18.56 5.44l.94 2.06.94-2.06 2.06-.94-2.06-.94-.94-2.06-.94 2.06-2.06.94zm-11 1L8.5 8.5l.94-2.06 2.06-.94-2.06-.94L8.5 2.5l-.94 2.06-2.06.94zm10 10l.94 2.06.94-2.06 2.06-.94-2.06-.94-.94-2.06-.94 2.06-2.06.94z\"/><path d=\"M17.41 7.96l-1.37-1.37c-.4-.4-.92-.59-1.43-.59-.52 0-1.04.2-1.43.59L10.3 9.45l-7.72 7.72c-.78.78-.78 2.05 0 2.83L4 21.41c.39.39.9.59 1.41.59.51 0 1.02-.2 1.41-.59l7.78-7.78 2.81-2.81c.8-.78.8-2.07 0-2.86zM5.41 20L4 18.59l7.72-7.72 1.47 1.35L5.41 20z\"/>\n",
              "  </svg>\n",
              "      </button>\n",
              "      \n",
              "  <style>\n",
              "    .colab-df-container {\n",
              "      display:flex;\n",
              "      flex-wrap:wrap;\n",
              "      gap: 12px;\n",
              "    }\n",
              "\n",
              "    .colab-df-convert {\n",
              "      background-color: #E8F0FE;\n",
              "      border: none;\n",
              "      border-radius: 50%;\n",
              "      cursor: pointer;\n",
              "      display: none;\n",
              "      fill: #1967D2;\n",
              "      height: 32px;\n",
              "      padding: 0 0 0 0;\n",
              "      width: 32px;\n",
              "    }\n",
              "\n",
              "    .colab-df-convert:hover {\n",
              "      background-color: #E2EBFA;\n",
              "      box-shadow: 0px 1px 2px rgba(60, 64, 67, 0.3), 0px 1px 3px 1px rgba(60, 64, 67, 0.15);\n",
              "      fill: #174EA6;\n",
              "    }\n",
              "\n",
              "    [theme=dark] .colab-df-convert {\n",
              "      background-color: #3B4455;\n",
              "      fill: #D2E3FC;\n",
              "    }\n",
              "\n",
              "    [theme=dark] .colab-df-convert:hover {\n",
              "      background-color: #434B5C;\n",
              "      box-shadow: 0px 1px 3px 1px rgba(0, 0, 0, 0.15);\n",
              "      filter: drop-shadow(0px 1px 2px rgba(0, 0, 0, 0.3));\n",
              "      fill: #FFFFFF;\n",
              "    }\n",
              "  </style>\n",
              "\n",
              "      <script>\n",
              "        const buttonEl =\n",
              "          document.querySelector('#df-2d3b323b-a377-4307-8378-2249c2e8df43 button.colab-df-convert');\n",
              "        buttonEl.style.display =\n",
              "          google.colab.kernel.accessAllowed ? 'block' : 'none';\n",
              "\n",
              "        async function convertToInteractive(key) {\n",
              "          const element = document.querySelector('#df-2d3b323b-a377-4307-8378-2249c2e8df43');\n",
              "          const dataTable =\n",
              "            await google.colab.kernel.invokeFunction('convertToInteractive',\n",
              "                                                     [key], {});\n",
              "          if (!dataTable) return;\n",
              "\n",
              "          const docLinkHtml = 'Like what you see? Visit the ' +\n",
              "            '<a target=\"_blank\" href=https://colab.research.google.com/notebooks/data_table.ipynb>data table notebook</a>'\n",
              "            + ' to learn more about interactive tables.';\n",
              "          element.innerHTML = '';\n",
              "          dataTable['output_type'] = 'display_data';\n",
              "          await google.colab.output.renderOutput(dataTable, element);\n",
              "          const docLink = document.createElement('div');\n",
              "          docLink.innerHTML = docLinkHtml;\n",
              "          element.appendChild(docLink);\n",
              "        }\n",
              "      </script>\n",
              "    </div>\n",
              "  </div>\n",
              "  "
            ],
            "text/plain": [
              "  Bəyannamənin tarixi         Ümumi sahə  ...  final_price_usd unit_price_usd\n",
              "0          2020-01-01  Sənaye məhsulları  ...         15390.00           0.68\n",
              "1          2020-01-02  Sənaye məhsulları  ...         15390.00           0.68\n",
              "2          2020-01-03  Sənaye məhsulları  ...         15390.00           0.68\n",
              "3          2020-01-03  Sənaye məhsulları  ...         16086.47           0.71\n",
              "4          2020-01-04  Sənaye məhsulları  ...         15390.00           0.68\n",
              "\n",
              "[5 rows x 21 columns]"
            ]
          },
          "metadata": {},
          "execution_count": 121
        }
      ]
    },
    {
      "cell_type": "code",
      "source": [
        "df.isna().sum() # for imputing these variables I need more time and data exploration"
      ],
      "metadata": {
        "colab": {
          "base_uri": "https://localhost:8080/"
        },
        "id": "C8OXCgE_Hby1",
        "outputId": "1b9a3ec8-f3e6-446c-f25d-e0efdb63700a"
      },
      "execution_count": null,
      "outputs": [
        {
          "output_type": "execute_result",
          "data": {
            "text/plain": [
              "Bəyannamənin tarixi     0\n",
              "Ümumi sahə              0\n",
              "Kod 2                   0\n",
              "Ad 2                    0\n",
              "Kod 4                   0\n",
              "Ad 4                    0\n",
              "Kod 6                   0\n",
              "Ad 6                    0\n",
              "Malın kodu              0\n",
              "Ölçü vaxidi             0\n",
              "Tərəfdaş ölkə          46\n",
              "İstehsalçı ölkə        58\n",
              "Nəqliyyatın tipi        0\n",
              "year                    0\n",
              "month                   0\n",
              "count4                  0\n",
              "count5                  0\n",
              "unit_price_azn7         0\n",
              "final_price_azn         0\n",
              "final_price_usd         0\n",
              "unit_price_usd          0\n",
              "dtype: int64"
            ]
          },
          "metadata": {},
          "execution_count": 129
        }
      ]
    },
    {
      "cell_type": "code",
      "source": [
        "df = df.dropna()"
      ],
      "metadata": {
        "id": "JeC6EyRuHbwF"
      },
      "execution_count": null,
      "outputs": []
    },
    {
      "cell_type": "code",
      "source": [
        "product_codes =  df[df['İstehsalçı ölkə'].isna()]['Malın kodu'].unique()"
      ],
      "metadata": {
        "id": "I8lSnOHqzgoW"
      },
      "execution_count": null,
      "outputs": []
    },
    {
      "cell_type": "code",
      "source": [
        "df[df['Malın kodu']==product_codes[0]].iloc[:, 7:]"
      ],
      "metadata": {
        "colab": {
          "base_uri": "https://localhost:8080/",
          "height": 500
        },
        "id": "OocSucOF1M9n",
        "outputId": "d3fa2866-5680-490a-a3e4-85288f17812f"
      },
      "execution_count": null,
      "outputs": [
        {
          "output_type": "execute_result",
          "data": {
            "text/html": [
              "\n",
              "  <div id=\"df-310244f9-0829-45eb-8234-af71426bc379\">\n",
              "    <div class=\"colab-df-container\">\n",
              "      <div>\n",
              "<style scoped>\n",
              "    .dataframe tbody tr th:only-of-type {\n",
              "        vertical-align: middle;\n",
              "    }\n",
              "\n",
              "    .dataframe tbody tr th {\n",
              "        vertical-align: top;\n",
              "    }\n",
              "\n",
              "    .dataframe thead th {\n",
              "        text-align: right;\n",
              "    }\n",
              "</style>\n",
              "<table border=\"1\" class=\"dataframe\">\n",
              "  <thead>\n",
              "    <tr style=\"text-align: right;\">\n",
              "      <th></th>\n",
              "      <th>Ad 6</th>\n",
              "      <th>Malın kodu</th>\n",
              "      <th>Ölçü vaxidi</th>\n",
              "      <th>Tərəfdaş ölkə</th>\n",
              "      <th>İstehsalçı ölkə</th>\n",
              "      <th>Nəqliyyatın tipi</th>\n",
              "      <th>year</th>\n",
              "      <th>month</th>\n",
              "      <th>count4</th>\n",
              "      <th>count5</th>\n",
              "      <th>unit_price_azn7</th>\n",
              "      <th>final_price_azn</th>\n",
              "      <th>final_price_usd</th>\n",
              "      <th>unit_price_usd</th>\n",
              "    </tr>\n",
              "  </thead>\n",
              "  <tbody>\n",
              "    <tr>\n",
              "      <th>7468</th>\n",
              "      <td>Vulkanlaşdırılmış rezindən digər ötürücü qayışlar</td>\n",
              "      <td>4010390000</td>\n",
              "      <td>kq</td>\n",
              "      <td>GÜRCÜSTAN</td>\n",
              "      <td>ARGENTİNA</td>\n",
              "      <td>Avtomobil nəqliyyatı vasitələri</td>\n",
              "      <td>2020</td>\n",
              "      <td>2</td>\n",
              "      <td>0.30</td>\n",
              "      <td>0.30</td>\n",
              "      <td>63.200000</td>\n",
              "      <td>19.0</td>\n",
              "      <td>11.18</td>\n",
              "      <td>37.18</td>\n",
              "    </tr>\n",
              "    <tr>\n",
              "      <th>7469</th>\n",
              "      <td>Vulkanlaşdırılmış rezindən digər ötürücü qayışlar</td>\n",
              "      <td>4010390000</td>\n",
              "      <td>kq</td>\n",
              "      <td>GÜRCÜSTAN</td>\n",
              "      <td>ALMANİYA</td>\n",
              "      <td>Avtomobil nəqliyyatı vasitələri</td>\n",
              "      <td>2020</td>\n",
              "      <td>2</td>\n",
              "      <td>2.70</td>\n",
              "      <td>2.70</td>\n",
              "      <td>55.759259</td>\n",
              "      <td>151.0</td>\n",
              "      <td>88.82</td>\n",
              "      <td>32.80</td>\n",
              "    </tr>\n",
              "    <tr>\n",
              "      <th>7470</th>\n",
              "      <td>Vulkanlaşdırılmış rezindən digər ötürücü qayışlar</td>\n",
              "      <td>4010390000</td>\n",
              "      <td>kq</td>\n",
              "      <td>GÜRCÜSTAN</td>\n",
              "      <td>İTALİYA</td>\n",
              "      <td>Avtomobil nəqliyyatı vasitələri</td>\n",
              "      <td>2020</td>\n",
              "      <td>2</td>\n",
              "      <td>3.20</td>\n",
              "      <td>3.20</td>\n",
              "      <td>77.828125</td>\n",
              "      <td>249.0</td>\n",
              "      <td>146.47</td>\n",
              "      <td>45.78</td>\n",
              "    </tr>\n",
              "    <tr>\n",
              "      <th>7471</th>\n",
              "      <td>Vulkanlaşdırılmış rezindən digər ötürücü qayışlar</td>\n",
              "      <td>4010390000</td>\n",
              "      <td>kq</td>\n",
              "      <td>GÜRCÜSTAN</td>\n",
              "      <td>NaN</td>\n",
              "      <td>Avtomobil nəqliyyatı vasitələri</td>\n",
              "      <td>2020</td>\n",
              "      <td>2</td>\n",
              "      <td>0.90</td>\n",
              "      <td>0.90</td>\n",
              "      <td>17.722222</td>\n",
              "      <td>16.0</td>\n",
              "      <td>9.41</td>\n",
              "      <td>10.42</td>\n",
              "    </tr>\n",
              "    <tr>\n",
              "      <th>40689</th>\n",
              "      <td>Vulkanlaşdırılmış rezindən digər ötürücü qayışlar</td>\n",
              "      <td>4010390000</td>\n",
              "      <td>kq</td>\n",
              "      <td>TÜRKMƏNİSTAN</td>\n",
              "      <td>ABŞ</td>\n",
              "      <td>Dəniz nəqliyyatı vasitələri</td>\n",
              "      <td>2021</td>\n",
              "      <td>4</td>\n",
              "      <td>0.34</td>\n",
              "      <td>0.34</td>\n",
              "      <td>489.647059</td>\n",
              "      <td>166.0</td>\n",
              "      <td>97.65</td>\n",
              "      <td>288.03</td>\n",
              "    </tr>\n",
              "    <tr>\n",
              "      <th>48759</th>\n",
              "      <td>Vulkanlaşdırılmış rezindən digər ötürücü qayışlar</td>\n",
              "      <td>4010390000</td>\n",
              "      <td>kq</td>\n",
              "      <td>BÖYÜK BRİTANİYA</td>\n",
              "      <td>BÖYÜK BRİTANİYA</td>\n",
              "      <td>Hava nəqliyyatı vasitələri</td>\n",
              "      <td>2021</td>\n",
              "      <td>3</td>\n",
              "      <td>3.22</td>\n",
              "      <td>3.22</td>\n",
              "      <td>88.695652</td>\n",
              "      <td>286.0</td>\n",
              "      <td>168.24</td>\n",
              "      <td>52.17</td>\n",
              "    </tr>\n",
              "    <tr>\n",
              "      <th>51197</th>\n",
              "      <td>Vulkanlaşdırılmış rezindən digər ötürücü qayışlar</td>\n",
              "      <td>4010390000</td>\n",
              "      <td>kq</td>\n",
              "      <td>BİRLƏŞMİŞ ƏRƏB ƏM</td>\n",
              "      <td>NORVEÇ</td>\n",
              "      <td>Avtomobil nəqliyyatı vasitələri</td>\n",
              "      <td>2021</td>\n",
              "      <td>3</td>\n",
              "      <td>2.00</td>\n",
              "      <td>2.00</td>\n",
              "      <td>299.465000</td>\n",
              "      <td>599.0</td>\n",
              "      <td>352.35</td>\n",
              "      <td>176.16</td>\n",
              "    </tr>\n",
              "    <tr>\n",
              "      <th>52808</th>\n",
              "      <td>Vulkanlaşdırılmış rezindən digər ötürücü qayışlar</td>\n",
              "      <td>4010390000</td>\n",
              "      <td>kq</td>\n",
              "      <td>BÖYÜK BRİTANİYA</td>\n",
              "      <td>ALMANİYA</td>\n",
              "      <td>Avtomobil nəqliyyatı vasitələri</td>\n",
              "      <td>2020</td>\n",
              "      <td>1</td>\n",
              "      <td>3.17</td>\n",
              "      <td>3.17</td>\n",
              "      <td>103.470032</td>\n",
              "      <td>328.0</td>\n",
              "      <td>192.94</td>\n",
              "      <td>60.86</td>\n",
              "    </tr>\n",
              "  </tbody>\n",
              "</table>\n",
              "</div>\n",
              "      <button class=\"colab-df-convert\" onclick=\"convertToInteractive('df-310244f9-0829-45eb-8234-af71426bc379')\"\n",
              "              title=\"Convert this dataframe to an interactive table.\"\n",
              "              style=\"display:none;\">\n",
              "        \n",
              "  <svg xmlns=\"http://www.w3.org/2000/svg\" height=\"24px\"viewBox=\"0 0 24 24\"\n",
              "       width=\"24px\">\n",
              "    <path d=\"M0 0h24v24H0V0z\" fill=\"none\"/>\n",
              "    <path d=\"M18.56 5.44l.94 2.06.94-2.06 2.06-.94-2.06-.94-.94-2.06-.94 2.06-2.06.94zm-11 1L8.5 8.5l.94-2.06 2.06-.94-2.06-.94L8.5 2.5l-.94 2.06-2.06.94zm10 10l.94 2.06.94-2.06 2.06-.94-2.06-.94-.94-2.06-.94 2.06-2.06.94z\"/><path d=\"M17.41 7.96l-1.37-1.37c-.4-.4-.92-.59-1.43-.59-.52 0-1.04.2-1.43.59L10.3 9.45l-7.72 7.72c-.78.78-.78 2.05 0 2.83L4 21.41c.39.39.9.59 1.41.59.51 0 1.02-.2 1.41-.59l7.78-7.78 2.81-2.81c.8-.78.8-2.07 0-2.86zM5.41 20L4 18.59l7.72-7.72 1.47 1.35L5.41 20z\"/>\n",
              "  </svg>\n",
              "      </button>\n",
              "      \n",
              "  <style>\n",
              "    .colab-df-container {\n",
              "      display:flex;\n",
              "      flex-wrap:wrap;\n",
              "      gap: 12px;\n",
              "    }\n",
              "\n",
              "    .colab-df-convert {\n",
              "      background-color: #E8F0FE;\n",
              "      border: none;\n",
              "      border-radius: 50%;\n",
              "      cursor: pointer;\n",
              "      display: none;\n",
              "      fill: #1967D2;\n",
              "      height: 32px;\n",
              "      padding: 0 0 0 0;\n",
              "      width: 32px;\n",
              "    }\n",
              "\n",
              "    .colab-df-convert:hover {\n",
              "      background-color: #E2EBFA;\n",
              "      box-shadow: 0px 1px 2px rgba(60, 64, 67, 0.3), 0px 1px 3px 1px rgba(60, 64, 67, 0.15);\n",
              "      fill: #174EA6;\n",
              "    }\n",
              "\n",
              "    [theme=dark] .colab-df-convert {\n",
              "      background-color: #3B4455;\n",
              "      fill: #D2E3FC;\n",
              "    }\n",
              "\n",
              "    [theme=dark] .colab-df-convert:hover {\n",
              "      background-color: #434B5C;\n",
              "      box-shadow: 0px 1px 3px 1px rgba(0, 0, 0, 0.15);\n",
              "      filter: drop-shadow(0px 1px 2px rgba(0, 0, 0, 0.3));\n",
              "      fill: #FFFFFF;\n",
              "    }\n",
              "  </style>\n",
              "\n",
              "      <script>\n",
              "        const buttonEl =\n",
              "          document.querySelector('#df-310244f9-0829-45eb-8234-af71426bc379 button.colab-df-convert');\n",
              "        buttonEl.style.display =\n",
              "          google.colab.kernel.accessAllowed ? 'block' : 'none';\n",
              "\n",
              "        async function convertToInteractive(key) {\n",
              "          const element = document.querySelector('#df-310244f9-0829-45eb-8234-af71426bc379');\n",
              "          const dataTable =\n",
              "            await google.colab.kernel.invokeFunction('convertToInteractive',\n",
              "                                                     [key], {});\n",
              "          if (!dataTable) return;\n",
              "\n",
              "          const docLinkHtml = 'Like what you see? Visit the ' +\n",
              "            '<a target=\"_blank\" href=https://colab.research.google.com/notebooks/data_table.ipynb>data table notebook</a>'\n",
              "            + ' to learn more about interactive tables.';\n",
              "          element.innerHTML = '';\n",
              "          dataTable['output_type'] = 'display_data';\n",
              "          await google.colab.output.renderOutput(dataTable, element);\n",
              "          const docLink = document.createElement('div');\n",
              "          docLink.innerHTML = docLinkHtml;\n",
              "          element.appendChild(docLink);\n",
              "        }\n",
              "      </script>\n",
              "    </div>\n",
              "  </div>\n",
              "  "
            ],
            "text/plain": [
              "                                                    Ad 6  ...  unit_price_usd\n",
              "7468   Vulkanlaşdırılmış rezindən digər ötürücü qayışlar  ...           37.18\n",
              "7469   Vulkanlaşdırılmış rezindən digər ötürücü qayışlar  ...           32.80\n",
              "7470   Vulkanlaşdırılmış rezindən digər ötürücü qayışlar  ...           45.78\n",
              "7471   Vulkanlaşdırılmış rezindən digər ötürücü qayışlar  ...           10.42\n",
              "40689  Vulkanlaşdırılmış rezindən digər ötürücü qayışlar  ...          288.03\n",
              "48759  Vulkanlaşdırılmış rezindən digər ötürücü qayışlar  ...           52.17\n",
              "51197  Vulkanlaşdırılmış rezindən digər ötürücü qayışlar  ...          176.16\n",
              "52808  Vulkanlaşdırılmış rezindən digər ötürücü qayışlar  ...           60.86\n",
              "\n",
              "[8 rows x 14 columns]"
            ]
          },
          "metadata": {},
          "execution_count": 143
        }
      ]
    },
    {
      "cell_type": "code",
      "source": [
        "df[\n",
        "   (df['Malın kodu'] == product_codes[0]) &\n",
        "\n",
        "]['İstehsalçı ölkə'].unique()"
      ],
      "metadata": {
        "colab": {
          "base_uri": "https://localhost:8080/"
        },
        "id": "SY3ijPyQ0mSL",
        "outputId": "f55da4f1-45c3-4d70-da36-f573142fa915"
      },
      "execution_count": null,
      "outputs": [
        {
          "output_type": "execute_result",
          "data": {
            "text/plain": [
              "array(['ÇİN', nan, 'TAYVAN', 'ABŞ', 'ALMANİYA', 'NİDERLAND', 'RUSİYA'],\n",
              "      dtype=object)"
            ]
          },
          "metadata": {},
          "execution_count": 137
        }
      ]
    },
    {
      "cell_type": "code",
      "source": [
        "df = df.reset_index(drop = True)"
      ],
      "metadata": {
        "id": "Xk7k-Uc0Hbst"
      },
      "execution_count": null,
      "outputs": []
    },
    {
      "cell_type": "code",
      "source": [
        ""
      ],
      "metadata": {
        "id": "S8WdKYLz0mLW"
      },
      "execution_count": null,
      "outputs": []
    },
    {
      "cell_type": "code",
      "source": [
        ""
      ],
      "metadata": {
        "id": "1eIAeUDg0l4W"
      },
      "execution_count": null,
      "outputs": []
    },
    {
      "cell_type": "markdown",
      "source": [
        "## Some visualisations"
      ],
      "metadata": {
        "id": "yvjMK61gD-jm"
      }
    },
    {
      "cell_type": "code",
      "source": [
        "producer_countries = df['İstehsalçı ölkə'].unique()"
      ],
      "metadata": {
        "id": "8kMlPHwnHEC7"
      },
      "execution_count": null,
      "outputs": []
    },
    {
      "cell_type": "code",
      "source": [
        "len(producer_countries)"
      ],
      "metadata": {
        "colab": {
          "base_uri": "https://localhost:8080/"
        },
        "id": "OeY_HQ7KI7rZ",
        "outputId": "bb85b7bf-6980-4240-8cff-76182f64bd96"
      },
      "execution_count": null,
      "outputs": [
        {
          "output_type": "execute_result",
          "data": {
            "text/plain": [
              "88"
            ]
          },
          "metadata": {},
          "execution_count": 72
        }
      ]
    },
    {
      "cell_type": "code",
      "source": [
        "(df.groupby('İstehsalçı ölkə').sum()/1000)['final_price_azn'].round().reset_index().sort_values(\n",
        "    'final_price_azn', ascending=False)"
      ],
      "metadata": {
        "colab": {
          "base_uri": "https://localhost:8080/",
          "height": 423
        },
        "id": "62DF-aF4JPlL",
        "outputId": "eecbc9d3-22d9-496e-9613-1740d7c1bf97"
      },
      "execution_count": null,
      "outputs": [
        {
          "output_type": "execute_result",
          "data": {
            "text/html": [
              "\n",
              "  <div id=\"df-76d6c857-40dc-4be1-82e7-256d07db4f9c\">\n",
              "    <div class=\"colab-df-container\">\n",
              "      <div>\n",
              "<style scoped>\n",
              "    .dataframe tbody tr th:only-of-type {\n",
              "        vertical-align: middle;\n",
              "    }\n",
              "\n",
              "    .dataframe tbody tr th {\n",
              "        vertical-align: top;\n",
              "    }\n",
              "\n",
              "    .dataframe thead th {\n",
              "        text-align: right;\n",
              "    }\n",
              "</style>\n",
              "<table border=\"1\" class=\"dataframe\">\n",
              "  <thead>\n",
              "    <tr style=\"text-align: right;\">\n",
              "      <th></th>\n",
              "      <th>İstehsalçı ölkə</th>\n",
              "      <th>final_price_azn</th>\n",
              "    </tr>\n",
              "  </thead>\n",
              "  <tbody>\n",
              "    <tr>\n",
              "      <th>5</th>\n",
              "      <td>AZƏRBAYCAN</td>\n",
              "      <td>2044762.0</td>\n",
              "    </tr>\n",
              "    <tr>\n",
              "      <th>0</th>\n",
              "      <td>ABŞ</td>\n",
              "      <td>359469.0</td>\n",
              "    </tr>\n",
              "    <tr>\n",
              "      <th>75</th>\n",
              "      <td>ÇİN</td>\n",
              "      <td>108705.0</td>\n",
              "    </tr>\n",
              "    <tr>\n",
              "      <th>1</th>\n",
              "      <td>ALMANİYA</td>\n",
              "      <td>86718.0</td>\n",
              "    </tr>\n",
              "    <tr>\n",
              "      <th>11</th>\n",
              "      <td>BÖYÜK BRİTANİYA</td>\n",
              "      <td>77304.0</td>\n",
              "    </tr>\n",
              "    <tr>\n",
              "      <th>...</th>\n",
              "      <td>...</td>\n",
              "      <td>...</td>\n",
              "    </tr>\n",
              "    <tr>\n",
              "      <th>17</th>\n",
              "      <td>FRANSA GIVIMEYASI</td>\n",
              "      <td>0.0</td>\n",
              "    </tr>\n",
              "    <tr>\n",
              "      <th>22</th>\n",
              "      <td>KAMBOCA</td>\n",
              "      <td>0.0</td>\n",
              "    </tr>\n",
              "    <tr>\n",
              "      <th>52</th>\n",
              "      <td>QUAM</td>\n",
              "      <td>0.0</td>\n",
              "    </tr>\n",
              "    <tr>\n",
              "      <th>45</th>\n",
              "      <td>OMAN</td>\n",
              "      <td>0.0</td>\n",
              "    </tr>\n",
              "    <tr>\n",
              "      <th>30</th>\n",
              "      <td>LAOS</td>\n",
              "      <td>0.0</td>\n",
              "    </tr>\n",
              "  </tbody>\n",
              "</table>\n",
              "<p>88 rows × 2 columns</p>\n",
              "</div>\n",
              "      <button class=\"colab-df-convert\" onclick=\"convertToInteractive('df-76d6c857-40dc-4be1-82e7-256d07db4f9c')\"\n",
              "              title=\"Convert this dataframe to an interactive table.\"\n",
              "              style=\"display:none;\">\n",
              "        \n",
              "  <svg xmlns=\"http://www.w3.org/2000/svg\" height=\"24px\"viewBox=\"0 0 24 24\"\n",
              "       width=\"24px\">\n",
              "    <path d=\"M0 0h24v24H0V0z\" fill=\"none\"/>\n",
              "    <path d=\"M18.56 5.44l.94 2.06.94-2.06 2.06-.94-2.06-.94-.94-2.06-.94 2.06-2.06.94zm-11 1L8.5 8.5l.94-2.06 2.06-.94-2.06-.94L8.5 2.5l-.94 2.06-2.06.94zm10 10l.94 2.06.94-2.06 2.06-.94-2.06-.94-.94-2.06-.94 2.06-2.06.94z\"/><path d=\"M17.41 7.96l-1.37-1.37c-.4-.4-.92-.59-1.43-.59-.52 0-1.04.2-1.43.59L10.3 9.45l-7.72 7.72c-.78.78-.78 2.05 0 2.83L4 21.41c.39.39.9.59 1.41.59.51 0 1.02-.2 1.41-.59l7.78-7.78 2.81-2.81c.8-.78.8-2.07 0-2.86zM5.41 20L4 18.59l7.72-7.72 1.47 1.35L5.41 20z\"/>\n",
              "  </svg>\n",
              "      </button>\n",
              "      \n",
              "  <style>\n",
              "    .colab-df-container {\n",
              "      display:flex;\n",
              "      flex-wrap:wrap;\n",
              "      gap: 12px;\n",
              "    }\n",
              "\n",
              "    .colab-df-convert {\n",
              "      background-color: #E8F0FE;\n",
              "      border: none;\n",
              "      border-radius: 50%;\n",
              "      cursor: pointer;\n",
              "      display: none;\n",
              "      fill: #1967D2;\n",
              "      height: 32px;\n",
              "      padding: 0 0 0 0;\n",
              "      width: 32px;\n",
              "    }\n",
              "\n",
              "    .colab-df-convert:hover {\n",
              "      background-color: #E2EBFA;\n",
              "      box-shadow: 0px 1px 2px rgba(60, 64, 67, 0.3), 0px 1px 3px 1px rgba(60, 64, 67, 0.15);\n",
              "      fill: #174EA6;\n",
              "    }\n",
              "\n",
              "    [theme=dark] .colab-df-convert {\n",
              "      background-color: #3B4455;\n",
              "      fill: #D2E3FC;\n",
              "    }\n",
              "\n",
              "    [theme=dark] .colab-df-convert:hover {\n",
              "      background-color: #434B5C;\n",
              "      box-shadow: 0px 1px 3px 1px rgba(0, 0, 0, 0.15);\n",
              "      filter: drop-shadow(0px 1px 2px rgba(0, 0, 0, 0.3));\n",
              "      fill: #FFFFFF;\n",
              "    }\n",
              "  </style>\n",
              "\n",
              "      <script>\n",
              "        const buttonEl =\n",
              "          document.querySelector('#df-76d6c857-40dc-4be1-82e7-256d07db4f9c button.colab-df-convert');\n",
              "        buttonEl.style.display =\n",
              "          google.colab.kernel.accessAllowed ? 'block' : 'none';\n",
              "\n",
              "        async function convertToInteractive(key) {\n",
              "          const element = document.querySelector('#df-76d6c857-40dc-4be1-82e7-256d07db4f9c');\n",
              "          const dataTable =\n",
              "            await google.colab.kernel.invokeFunction('convertToInteractive',\n",
              "                                                     [key], {});\n",
              "          if (!dataTable) return;\n",
              "\n",
              "          const docLinkHtml = 'Like what you see? Visit the ' +\n",
              "            '<a target=\"_blank\" href=https://colab.research.google.com/notebooks/data_table.ipynb>data table notebook</a>'\n",
              "            + ' to learn more about interactive tables.';\n",
              "          element.innerHTML = '';\n",
              "          dataTable['output_type'] = 'display_data';\n",
              "          await google.colab.output.renderOutput(dataTable, element);\n",
              "          const docLink = document.createElement('div');\n",
              "          docLink.innerHTML = docLinkHtml;\n",
              "          element.appendChild(docLink);\n",
              "        }\n",
              "      </script>\n",
              "    </div>\n",
              "  </div>\n",
              "  "
            ],
            "text/plain": [
              "      İstehsalçı ölkə  final_price_azn\n",
              "5          AZƏRBAYCAN        2044762.0\n",
              "0                 ABŞ         359469.0\n",
              "75                ÇİN         108705.0\n",
              "1            ALMANİYA          86718.0\n",
              "11    BÖYÜK BRİTANİYA          77304.0\n",
              "..                ...              ...\n",
              "17  FRANSA GIVIMEYASI              0.0\n",
              "22            KAMBOCA              0.0\n",
              "52               QUAM              0.0\n",
              "45               OMAN              0.0\n",
              "30               LAOS              0.0\n",
              "\n",
              "[88 rows x 2 columns]"
            ]
          },
          "metadata": {},
          "execution_count": 82
        }
      ]
    },
    {
      "cell_type": "code",
      "source": [
        "a = 0\n",
        "temp = df[df['İstehsalçı ölkə'] == producer_countries[a]]\n",
        "temp = temp.groupby('Bəyannamənin tarixi').sum().reset_index()\n",
        "# temp = temp.groupby(['Bəyannamənin tarixi', 'year', 'month']).sum().reset_index()"
      ],
      "metadata": {
        "id": "d42WBRk9KihG"
      },
      "execution_count": null,
      "outputs": []
    },
    {
      "cell_type": "code",
      "source": [
        "plt.figure(dpi=150, figsize=(8, 4))\n",
        "plt.title(producer_countries[a])\n",
        "plt.xticks(rotation=90)\n",
        "plt.ticklabel_format(style='plain')\n",
        "sns.lineplot(temp['Bəyannamənin tarixi'], temp['final_price_azn'])"
      ],
      "metadata": {
        "colab": {
          "base_uri": "https://localhost:8080/",
          "height": 733
        },
        "id": "Zq_E3aehItsY",
        "outputId": "e392d7d4-c4e7-4ce8-8ed8-799cafd8cc9a"
      },
      "execution_count": null,
      "outputs": [
        {
          "output_type": "stream",
          "name": "stderr",
          "text": [
            "/usr/local/lib/python3.7/dist-packages/seaborn/_decorators.py:43: FutureWarning: Pass the following variables as keyword args: x, y. From version 0.12, the only valid positional argument will be `data`, and passing other arguments without an explicit keyword will result in an error or misinterpretation.\n",
            "  FutureWarning\n"
          ]
        },
        {
          "output_type": "execute_result",
          "data": {
            "text/plain": [
              "<matplotlib.axes._subplots.AxesSubplot at 0x7f2cb5958290>"
            ]
          },
          "metadata": {},
          "execution_count": 119
        },
        {
          "output_type": "display_data",
          "data": {
            "image/png": "[encoded data removed]",
            "text/plain": [
              "<Figure size 1200x600 with 1 Axes>"
            ]
          },
          "metadata": {
            "needs_background": "light"
          }
        }
      ]
    },
    {
      "cell_type": "code",
      "source": [
        "list(producer_countries).index(\"AZƏRBAYCAN\")"
      ],
      "metadata": {
        "colab": {
          "base_uri": "https://localhost:8080/"
        },
        "id": "in1U6_naK3FF",
        "outputId": "4cd1d85d-c17f-4cfb-9283-0d420623e4de"
      },
      "execution_count": null,
      "outputs": [
        {
          "output_type": "execute_result",
          "data": {
            "text/plain": [
              "0"
            ]
          },
          "metadata": {},
          "execution_count": 117
        }
      ]
    },
    {
      "cell_type": "code",
      "source": [
        "df['unit_price_azn7'] = round(df['unit_price_azn7'], 2)"
      ],
      "metadata": {
        "id": "IvtHgR6OOLkE"
      },
      "execution_count": null,
      "outputs": []
    },
    {
      "cell_type": "code",
      "source": [
        "df.to_excel(\"/content/drive/MyDrive/AzPromo/Preprocessed_data.xlsx\")"
      ],
      "metadata": {
        "id": "SXpDGQXPSVqL"
      },
      "execution_count": null,
      "outputs": []
    },
    {
      "cell_type": "code",
      "source": [
        "df_aze = df[df['İstehsalçı ölkə'] == 'AZƏRBAYCAN'].sort_values('Bəyannamənin tarixi').reset_index(drop=True)"
      ],
      "metadata": {
        "id": "UFvUA64YSx11"
      },
      "execution_count": null,
      "outputs": []
    },
    {
      "cell_type": "code",
      "source": [
        "df_aze_forecasting_data = df_aze.groupby('Bəyannamənin tarixi').sum()['final_price_usd'].reset_index()\n",
        "df_aze_forecasting_data"
      ],
      "metadata": {
        "colab": {
          "base_uri": "https://localhost:8080/",
          "height": 423
        },
        "id": "iDoGWQWZUsh1",
        "outputId": "c2eaa112-788a-419a-9257-2f06ad432d9a"
      },
      "execution_count": null,
      "outputs": [
        {
          "output_type": "execute_result",
          "data": {
            "text/html": [
              "\n",
              "  <div id=\"df-7d4b3c63-e663-44e0-8dcc-c1d45caf0fbd\">\n",
              "    <div class=\"colab-df-container\">\n",
              "      <div>\n",
              "<style scoped>\n",
              "    .dataframe tbody tr th:only-of-type {\n",
              "        vertical-align: middle;\n",
              "    }\n",
              "\n",
              "    .dataframe tbody tr th {\n",
              "        vertical-align: top;\n",
              "    }\n",
              "\n",
              "    .dataframe thead th {\n",
              "        text-align: right;\n",
              "    }\n",
              "</style>\n",
              "<table border=\"1\" class=\"dataframe\">\n",
              "  <thead>\n",
              "    <tr style=\"text-align: right;\">\n",
              "      <th></th>\n",
              "      <th>Bəyannamənin tarixi</th>\n",
              "      <th>final_price_usd</th>\n",
              "    </tr>\n",
              "  </thead>\n",
              "  <tbody>\n",
              "    <tr>\n",
              "      <th>0</th>\n",
              "      <td>2020-01-01</td>\n",
              "      <td>1796177.04</td>\n",
              "    </tr>\n",
              "    <tr>\n",
              "      <th>1</th>\n",
              "      <td>2020-01-02</td>\n",
              "      <td>351530.56</td>\n",
              "    </tr>\n",
              "    <tr>\n",
              "      <th>2</th>\n",
              "      <td>2020-01-03</td>\n",
              "      <td>1791654.20</td>\n",
              "    </tr>\n",
              "    <tr>\n",
              "      <th>3</th>\n",
              "      <td>2020-01-04</td>\n",
              "      <td>926612.98</td>\n",
              "    </tr>\n",
              "    <tr>\n",
              "      <th>4</th>\n",
              "      <td>2020-01-05</td>\n",
              "      <td>849528.84</td>\n",
              "    </tr>\n",
              "    <tr>\n",
              "      <th>...</th>\n",
              "      <td>...</td>\n",
              "      <td>...</td>\n",
              "    </tr>\n",
              "    <tr>\n",
              "      <th>236</th>\n",
              "      <td>2021-04-26</td>\n",
              "      <td>1613395.31</td>\n",
              "    </tr>\n",
              "    <tr>\n",
              "      <th>237</th>\n",
              "      <td>2021-04-27</td>\n",
              "      <td>2373002.95</td>\n",
              "    </tr>\n",
              "    <tr>\n",
              "      <th>238</th>\n",
              "      <td>2021-04-28</td>\n",
              "      <td>6002306.57</td>\n",
              "    </tr>\n",
              "    <tr>\n",
              "      <th>239</th>\n",
              "      <td>2021-04-29</td>\n",
              "      <td>7510963.55</td>\n",
              "    </tr>\n",
              "    <tr>\n",
              "      <th>240</th>\n",
              "      <td>2021-04-30</td>\n",
              "      <td>6680226.46</td>\n",
              "    </tr>\n",
              "  </tbody>\n",
              "</table>\n",
              "<p>241 rows × 2 columns</p>\n",
              "</div>\n",
              "      <button class=\"colab-df-convert\" onclick=\"convertToInteractive('df-7d4b3c63-e663-44e0-8dcc-c1d45caf0fbd')\"\n",
              "              title=\"Convert this dataframe to an interactive table.\"\n",
              "              style=\"display:none;\">\n",
              "        \n",
              "  <svg xmlns=\"http://www.w3.org/2000/svg\" height=\"24px\"viewBox=\"0 0 24 24\"\n",
              "       width=\"24px\">\n",
              "    <path d=\"M0 0h24v24H0V0z\" fill=\"none\"/>\n",
              "    <path d=\"M18.56 5.44l.94 2.06.94-2.06 2.06-.94-2.06-.94-.94-2.06-.94 2.06-2.06.94zm-11 1L8.5 8.5l.94-2.06 2.06-.94-2.06-.94L8.5 2.5l-.94 2.06-2.06.94zm10 10l.94 2.06.94-2.06 2.06-.94-2.06-.94-.94-2.06-.94 2.06-2.06.94z\"/><path d=\"M17.41 7.96l-1.37-1.37c-.4-.4-.92-.59-1.43-.59-.52 0-1.04.2-1.43.59L10.3 9.45l-7.72 7.72c-.78.78-.78 2.05 0 2.83L4 21.41c.39.39.9.59 1.41.59.51 0 1.02-.2 1.41-.59l7.78-7.78 2.81-2.81c.8-.78.8-2.07 0-2.86zM5.41 20L4 18.59l7.72-7.72 1.47 1.35L5.41 20z\"/>\n",
              "  </svg>\n",
              "      </button>\n",
              "      \n",
              "  <style>\n",
              "    .colab-df-container {\n",
              "      display:flex;\n",
              "      flex-wrap:wrap;\n",
              "      gap: 12px;\n",
              "    }\n",
              "\n",
              "    .colab-df-convert {\n",
              "      background-color: #E8F0FE;\n",
              "      border: none;\n",
              "      border-radius: 50%;\n",
              "      cursor: pointer;\n",
              "      display: none;\n",
              "      fill: #1967D2;\n",
              "      height: 32px;\n",
              "      padding: 0 0 0 0;\n",
              "      width: 32px;\n",
              "    }\n",
              "\n",
              "    .colab-df-convert:hover {\n",
              "      background-color: #E2EBFA;\n",
              "      box-shadow: 0px 1px 2px rgba(60, 64, 67, 0.3), 0px 1px 3px 1px rgba(60, 64, 67, 0.15);\n",
              "      fill: #174EA6;\n",
              "    }\n",
              "\n",
              "    [theme=dark] .colab-df-convert {\n",
              "      background-color: #3B4455;\n",
              "      fill: #D2E3FC;\n",
              "    }\n",
              "\n",
              "    [theme=dark] .colab-df-convert:hover {\n",
              "      background-color: #434B5C;\n",
              "      box-shadow: 0px 1px 3px 1px rgba(0, 0, 0, 0.15);\n",
              "      filter: drop-shadow(0px 1px 2px rgba(0, 0, 0, 0.3));\n",
              "      fill: #FFFFFF;\n",
              "    }\n",
              "  </style>\n",
              "\n",
              "      <script>\n",
              "        const buttonEl =\n",
              "          document.querySelector('#df-7d4b3c63-e663-44e0-8dcc-c1d45caf0fbd button.colab-df-convert');\n",
              "        buttonEl.style.display =\n",
              "          google.colab.kernel.accessAllowed ? 'block' : 'none';\n",
              "\n",
              "        async function convertToInteractive(key) {\n",
              "          const element = document.querySelector('#df-7d4b3c63-e663-44e0-8dcc-c1d45caf0fbd');\n",
              "          const dataTable =\n",
              "            await google.colab.kernel.invokeFunction('convertToInteractive',\n",
              "                                                     [key], {});\n",
              "          if (!dataTable) return;\n",
              "\n",
              "          const docLinkHtml = 'Like what you see? Visit the ' +\n",
              "            '<a target=\"_blank\" href=https://colab.research.google.com/notebooks/data_table.ipynb>data table notebook</a>'\n",
              "            + ' to learn more about interactive tables.';\n",
              "          element.innerHTML = '';\n",
              "          dataTable['output_type'] = 'display_data';\n",
              "          await google.colab.output.renderOutput(dataTable, element);\n",
              "          const docLink = document.createElement('div');\n",
              "          docLink.innerHTML = docLinkHtml;\n",
              "          element.appendChild(docLink);\n",
              "        }\n",
              "      </script>\n",
              "    </div>\n",
              "  </div>\n",
              "  "
            ],
            "text/plain": [
              "    Bəyannamənin tarixi  final_price_usd\n",
              "0            2020-01-01       1796177.04\n",
              "1            2020-01-02        351530.56\n",
              "2            2020-01-03       1791654.20\n",
              "3            2020-01-04        926612.98\n",
              "4            2020-01-05        849528.84\n",
              "..                  ...              ...\n",
              "236          2021-04-26       1613395.31\n",
              "237          2021-04-27       2373002.95\n",
              "238          2021-04-28       6002306.57\n",
              "239          2021-04-29       7510963.55\n",
              "240          2021-04-30       6680226.46\n",
              "\n",
              "[241 rows x 2 columns]"
            ]
          },
          "metadata": {},
          "execution_count": 132
        }
      ]
    },
    {
      "cell_type": "code",
      "source": [
        "df_aze_forecasting_data.to_excel('/content/drive/MyDrive/AzPromo/forecasting_data_aze.xlsx')"
      ],
      "metadata": {
        "id": "QJz6BCg0Vgyb"
      },
      "execution_count": null,
      "outputs": []
    },
    {
      "cell_type": "code",
      "source": [
        ""
      ],
      "metadata": {
        "id": "AaZGT9IaWXcC"
      },
      "execution_count": null,
      "outputs": []
    }
  ]
}