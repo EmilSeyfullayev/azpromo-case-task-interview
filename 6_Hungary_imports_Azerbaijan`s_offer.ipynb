{
  "nbformat": 4,
  "nbformat_minor": 0,
  "metadata": {
    "colab": {
      "name": "6 - Hungary imports - Azerbaijan`s offer.ipynb",
      "provenance": [],
      "collapsed_sections": [],
      "mount_file_id": "1Ka8JxLoG0mDO4bn3X3CNX0_ppP_TGrC5",
      "authorship_tag": "ABX9TyN9G99PBeAlPi6R827v9pxw",
      "include_colab_link": true
    },
    "kernelspec": {
      "name": "python3",
      "display_name": "Python 3"
    },
    "language_info": {
      "name": "python"
    }
  },
  "cells": [
    {
      "cell_type": "markdown",
      "metadata": {
        "id": "view-in-github",
        "colab_type": "text"
      },
      "source": [
        "<a href=\"https://colab.research.google.com/github/EmilSeyfullayev/azpromo-case-task-interview/blob/main/6_Hungary_imports_Azerbaijan%60s_offer.ipynb\" target=\"_parent\"><img src=\"https://colab.research.google.com/assets/colab-badge.svg\" alt=\"Open In Colab\"/></a>"
      ]
    },
    {
      "cell_type": "code",
      "execution_count": null,
      "metadata": {
        "id": "JDjS7vbjoo9G"
      },
      "outputs": [],
      "source": [
        "import pandas as pd\n",
        "import numpy as np\n",
        "import matplotlib.pyplot as plt\n",
        "import seaborn as sns\n",
        "import math\n",
        "sns.set_style('whitegrid')"
      ]
    },
    {
      "cell_type": "code",
      "source": [
        "data = pd.read_excel(\"/content/drive/MyDrive/AzPromo/Hungary.xlsx\")"
      ],
      "metadata": {
        "id": "RAU4oGpRo0mt"
      },
      "execution_count": null,
      "outputs": []
    },
    {
      "cell_type": "code",
      "source": [
        "data.head(2)"
      ],
      "metadata": {
        "colab": {
          "base_uri": "https://localhost:8080/",
          "height": 262
        },
        "id": "_tqqEZ39qh_z",
        "outputId": "afc65127-28e6-4b79-9d05-2c63900f1481"
      },
      "execution_count": null,
      "outputs": [
        {
          "output_type": "execute_result",
          "data": {
            "text/html": [
              "\n",
              "  <div id=\"df-b519c080-33b0-430a-b374-a9a94d843b86\">\n",
              "    <div class=\"colab-df-container\">\n",
              "      <div>\n",
              "<style scoped>\n",
              "    .dataframe tbody tr th:only-of-type {\n",
              "        vertical-align: middle;\n",
              "    }\n",
              "\n",
              "    .dataframe tbody tr th {\n",
              "        vertical-align: top;\n",
              "    }\n",
              "\n",
              "    .dataframe thead th {\n",
              "        text-align: right;\n",
              "    }\n",
              "</style>\n",
              "<table border=\"1\" class=\"dataframe\">\n",
              "  <thead>\n",
              "    <tr style=\"text-align: right;\">\n",
              "      <th></th>\n",
              "      <th>Reporter Name</th>\n",
              "      <th>Partner Name</th>\n",
              "      <th>Trade Flow</th>\n",
              "      <th>Product Group</th>\n",
              "      <th>Indicator</th>\n",
              "      <th>1992</th>\n",
              "      <th>1993</th>\n",
              "      <th>1994</th>\n",
              "      <th>1995</th>\n",
              "      <th>1996</th>\n",
              "      <th>1997</th>\n",
              "      <th>1998</th>\n",
              "      <th>1999</th>\n",
              "      <th>2000</th>\n",
              "      <th>2001</th>\n",
              "      <th>2002</th>\n",
              "      <th>2003</th>\n",
              "      <th>2004</th>\n",
              "      <th>2005</th>\n",
              "      <th>2006</th>\n",
              "      <th>2007</th>\n",
              "      <th>2008</th>\n",
              "      <th>2009</th>\n",
              "      <th>2010</th>\n",
              "      <th>2011</th>\n",
              "      <th>2012</th>\n",
              "      <th>2013</th>\n",
              "      <th>2014</th>\n",
              "      <th>2015</th>\n",
              "      <th>2016</th>\n",
              "      <th>2017</th>\n",
              "      <th>2018</th>\n",
              "      <th>2019</th>\n",
              "    </tr>\n",
              "  </thead>\n",
              "  <tbody>\n",
              "    <tr>\n",
              "      <th>0</th>\n",
              "      <td>Hungary</td>\n",
              "      <td>World</td>\n",
              "      <td>Import</td>\n",
              "      <td>All Products</td>\n",
              "      <td>Import (US$ Thousand)</td>\n",
              "      <td>1.087358e+07</td>\n",
              "      <td>1.137608e+07</td>\n",
              "      <td>14553612.0</td>\n",
              "      <td>1.518556e+07</td>\n",
              "      <td>1.604264e+07</td>\n",
              "      <td>2.123401e+07</td>\n",
              "      <td>2.570639e+07</td>\n",
              "      <td>28008226</td>\n",
              "      <td>32080002</td>\n",
              "      <td>33681734</td>\n",
              "      <td>37611572</td>\n",
              "      <td>47674542</td>\n",
              "      <td>60248602</td>\n",
              "      <td>65919579</td>\n",
              "      <td>76978511</td>\n",
              "      <td>94659727</td>\n",
              "      <td>108784724</td>\n",
              "      <td>77272443</td>\n",
              "      <td>87432095</td>\n",
              "      <td>101369997</td>\n",
              "      <td>9.430066e+07</td>\n",
              "      <td>9.929590e+07</td>\n",
              "      <td>1.041784e+08</td>\n",
              "      <td>9.076085e+07</td>\n",
              "      <td>9.220967e+07</td>\n",
              "      <td>1.042838e+08</td>\n",
              "      <td>1.173816e+08</td>\n",
              "      <td>1.173240e+08</td>\n",
              "    </tr>\n",
              "    <tr>\n",
              "      <th>1</th>\n",
              "      <td>Hungary</td>\n",
              "      <td>World</td>\n",
              "      <td>Import</td>\n",
              "      <td>Capital goods</td>\n",
              "      <td>Import (US$ Thousand)</td>\n",
              "      <td>2.843241e+06</td>\n",
              "      <td>3.119474e+06</td>\n",
              "      <td>3913535.0</td>\n",
              "      <td>4.036301e+06</td>\n",
              "      <td>4.245112e+06</td>\n",
              "      <td>8.014915e+06</td>\n",
              "      <td>1.080520e+07</td>\n",
              "      <td>12610410</td>\n",
              "      <td>14973417</td>\n",
              "      <td>16023134</td>\n",
              "      <td>17717901</td>\n",
              "      <td>22334904</td>\n",
              "      <td>28741336</td>\n",
              "      <td>28877846</td>\n",
              "      <td>32376225</td>\n",
              "      <td>40854119</td>\n",
              "      <td>43835373</td>\n",
              "      <td>31599751</td>\n",
              "      <td>35995299</td>\n",
              "      <td>39336144</td>\n",
              "      <td>3.627157e+07</td>\n",
              "      <td>3.869761e+07</td>\n",
              "      <td>4.074712e+07</td>\n",
              "      <td>3.797118e+07</td>\n",
              "      <td>3.939868e+07</td>\n",
              "      <td>4.195432e+07</td>\n",
              "      <td>4.552407e+07</td>\n",
              "      <td>4.815616e+07</td>\n",
              "    </tr>\n",
              "  </tbody>\n",
              "</table>\n",
              "</div>\n",
              "      <button class=\"colab-df-convert\" onclick=\"convertToInteractive('df-b519c080-33b0-430a-b374-a9a94d843b86')\"\n",
              "              title=\"Convert this dataframe to an interactive table.\"\n",
              "              style=\"display:none;\">\n",
              "        \n",
              "  <svg xmlns=\"http://www.w3.org/2000/svg\" height=\"24px\"viewBox=\"0 0 24 24\"\n",
              "       width=\"24px\">\n",
              "    <path d=\"M0 0h24v24H0V0z\" fill=\"none\"/>\n",
              "    <path d=\"M18.56 5.44l.94 2.06.94-2.06 2.06-.94-2.06-.94-.94-2.06-.94 2.06-2.06.94zm-11 1L8.5 8.5l.94-2.06 2.06-.94-2.06-.94L8.5 2.5l-.94 2.06-2.06.94zm10 10l.94 2.06.94-2.06 2.06-.94-2.06-.94-.94-2.06-.94 2.06-2.06.94z\"/><path d=\"M17.41 7.96l-1.37-1.37c-.4-.4-.92-.59-1.43-.59-.52 0-1.04.2-1.43.59L10.3 9.45l-7.72 7.72c-.78.78-.78 2.05 0 2.83L4 21.41c.39.39.9.59 1.41.59.51 0 1.02-.2 1.41-.59l7.78-7.78 2.81-2.81c.8-.78.8-2.07 0-2.86zM5.41 20L4 18.59l7.72-7.72 1.47 1.35L5.41 20z\"/>\n",
              "  </svg>\n",
              "      </button>\n",
              "      \n",
              "  <style>\n",
              "    .colab-df-container {\n",
              "      display:flex;\n",
              "      flex-wrap:wrap;\n",
              "      gap: 12px;\n",
              "    }\n",
              "\n",
              "    .colab-df-convert {\n",
              "      background-color: #E8F0FE;\n",
              "      border: none;\n",
              "      border-radius: 50%;\n",
              "      cursor: pointer;\n",
              "      display: none;\n",
              "      fill: #1967D2;\n",
              "      height: 32px;\n",
              "      padding: 0 0 0 0;\n",
              "      width: 32px;\n",
              "    }\n",
              "\n",
              "    .colab-df-convert:hover {\n",
              "      background-color: #E2EBFA;\n",
              "      box-shadow: 0px 1px 2px rgba(60, 64, 67, 0.3), 0px 1px 3px 1px rgba(60, 64, 67, 0.15);\n",
              "      fill: #174EA6;\n",
              "    }\n",
              "\n",
              "    [theme=dark] .colab-df-convert {\n",
              "      background-color: #3B4455;\n",
              "      fill: #D2E3FC;\n",
              "    }\n",
              "\n",
              "    [theme=dark] .colab-df-convert:hover {\n",
              "      background-color: #434B5C;\n",
              "      box-shadow: 0px 1px 3px 1px rgba(0, 0, 0, 0.15);\n",
              "      filter: drop-shadow(0px 1px 2px rgba(0, 0, 0, 0.3));\n",
              "      fill: #FFFFFF;\n",
              "    }\n",
              "  </style>\n",
              "\n",
              "      <script>\n",
              "        const buttonEl =\n",
              "          document.querySelector('#df-b519c080-33b0-430a-b374-a9a94d843b86 button.colab-df-convert');\n",
              "        buttonEl.style.display =\n",
              "          google.colab.kernel.accessAllowed ? 'block' : 'none';\n",
              "\n",
              "        async function convertToInteractive(key) {\n",
              "          const element = document.querySelector('#df-b519c080-33b0-430a-b374-a9a94d843b86');\n",
              "          const dataTable =\n",
              "            await google.colab.kernel.invokeFunction('convertToInteractive',\n",
              "                                                     [key], {});\n",
              "          if (!dataTable) return;\n",
              "\n",
              "          const docLinkHtml = 'Like what you see? Visit the ' +\n",
              "            '<a target=\"_blank\" href=https://colab.research.google.com/notebooks/data_table.ipynb>data table notebook</a>'\n",
              "            + ' to learn more about interactive tables.';\n",
              "          element.innerHTML = '';\n",
              "          dataTable['output_type'] = 'display_data';\n",
              "          await google.colab.output.renderOutput(dataTable, element);\n",
              "          const docLink = document.createElement('div');\n",
              "          docLink.innerHTML = docLinkHtml;\n",
              "          element.appendChild(docLink);\n",
              "        }\n",
              "      </script>\n",
              "    </div>\n",
              "  </div>\n",
              "  "
            ],
            "text/plain": [
              "  Reporter Name Partner Name  ...          2018          2019\n",
              "0       Hungary        World  ...  1.173816e+08  1.173240e+08\n",
              "1       Hungary        World  ...  4.552407e+07  4.815616e+07\n",
              "\n",
              "[2 rows x 33 columns]"
            ]
          },
          "metadata": {},
          "execution_count": 10
        }
      ]
    },
    {
      "cell_type": "code",
      "source": [
        "data = data.drop(index=range(5)).reset_index(drop=True)\n",
        "data = data.iloc[:, 3:].drop(\"Indicator\", axis=1)\n",
        "data = pd.melt(\n",
        "    data,\n",
        "    id_vars = ['Product Group'],\n",
        "    value_vars = data.columns.values[1:]\n",
        ")\n",
        "\n",
        "data['variable'] = pd.to_numeric(data['variable'])\\\n",
        "df = data[data['variable']>2013]\n",
        "temp = df.groupby('Product Group').sum().reset_index().drop('variable', axis=1)\n",
        "temp = temp.sort_values('value', ascending=False).reset_index(drop=True)\n",
        "plt.figure(dpi=150, figsize=(8, 4))\n",
        "plt.xticks(rotation=90)\n",
        "plt.ticklabel_format(style='plain')\n",
        "sns.barplot(temp['Product Group'], temp['value'])"
      ],
      "metadata": {
        "id": "giMv2rkDpYdj"
      },
      "execution_count": null,
      "outputs": []
    },
    {
      "cell_type": "code",
      "source": [
        "data = data.iloc[:, 3:].drop(\"Indicator\", axis=1)"
      ],
      "metadata": {
        "id": "5YpHC80ypZM0"
      },
      "execution_count": null,
      "outputs": []
    },
    {
      "cell_type": "code",
      "source": [
        "data = pd.melt(\n",
        "    data,\n",
        "    id_vars = ['Product Group'],\n",
        "    value_vars = data.columns.values[1:]\n",
        ")\n",
        "data\n"
      ],
      "metadata": {
        "colab": {
          "base_uri": "https://localhost:8080/",
          "height": 423
        },
        "id": "o4KBkgowr_yx",
        "outputId": "a47c4673-c8b2-4a6e-ba69-90e16a5a4077"
      },
      "execution_count": null,
      "outputs": [
        {
          "output_type": "execute_result",
          "data": {
            "text/html": [
              "\n",
              "  <div id=\"df-8850b55a-8e0b-4d8a-a603-68ea76687b48\">\n",
              "    <div class=\"colab-df-container\">\n",
              "      <div>\n",
              "<style scoped>\n",
              "    .dataframe tbody tr th:only-of-type {\n",
              "        vertical-align: middle;\n",
              "    }\n",
              "\n",
              "    .dataframe tbody tr th {\n",
              "        vertical-align: top;\n",
              "    }\n",
              "\n",
              "    .dataframe thead th {\n",
              "        text-align: right;\n",
              "    }\n",
              "</style>\n",
              "<table border=\"1\" class=\"dataframe\">\n",
              "  <thead>\n",
              "    <tr style=\"text-align: right;\">\n",
              "      <th></th>\n",
              "      <th>Product Group</th>\n",
              "      <th>variable</th>\n",
              "      <th>value</th>\n",
              "    </tr>\n",
              "  </thead>\n",
              "  <tbody>\n",
              "    <tr>\n",
              "      <th>0</th>\n",
              "      <td>Animal</td>\n",
              "      <td>1992</td>\n",
              "      <td>8.192500e+04</td>\n",
              "    </tr>\n",
              "    <tr>\n",
              "      <th>1</th>\n",
              "      <td>Chemicals</td>\n",
              "      <td>1992</td>\n",
              "      <td>1.216883e+06</td>\n",
              "    </tr>\n",
              "    <tr>\n",
              "      <th>2</th>\n",
              "      <td>Food Products</td>\n",
              "      <td>1992</td>\n",
              "      <td>3.714250e+05</td>\n",
              "    </tr>\n",
              "    <tr>\n",
              "      <th>3</th>\n",
              "      <td>Footwear</td>\n",
              "      <td>1992</td>\n",
              "      <td>1.426420e+05</td>\n",
              "    </tr>\n",
              "    <tr>\n",
              "      <th>4</th>\n",
              "      <td>Fuels</td>\n",
              "      <td>1992</td>\n",
              "      <td>1.662572e+06</td>\n",
              "    </tr>\n",
              "    <tr>\n",
              "      <th>...</th>\n",
              "      <td>...</td>\n",
              "      <td>...</td>\n",
              "      <td>...</td>\n",
              "    </tr>\n",
              "    <tr>\n",
              "      <th>443</th>\n",
              "      <td>Stone and Glass</td>\n",
              "      <td>2019</td>\n",
              "      <td>1.528405e+06</td>\n",
              "    </tr>\n",
              "    <tr>\n",
              "      <th>444</th>\n",
              "      <td>Textiles and Clothing</td>\n",
              "      <td>2019</td>\n",
              "      <td>3.041722e+06</td>\n",
              "    </tr>\n",
              "    <tr>\n",
              "      <th>445</th>\n",
              "      <td>Transportation</td>\n",
              "      <td>2019</td>\n",
              "      <td>1.303457e+07</td>\n",
              "    </tr>\n",
              "    <tr>\n",
              "      <th>446</th>\n",
              "      <td>Vegetable</td>\n",
              "      <td>2019</td>\n",
              "      <td>1.888026e+06</td>\n",
              "    </tr>\n",
              "    <tr>\n",
              "      <th>447</th>\n",
              "      <td>Wood</td>\n",
              "      <td>2019</td>\n",
              "      <td>2.716092e+06</td>\n",
              "    </tr>\n",
              "  </tbody>\n",
              "</table>\n",
              "<p>448 rows × 3 columns</p>\n",
              "</div>\n",
              "      <button class=\"colab-df-convert\" onclick=\"convertToInteractive('df-8850b55a-8e0b-4d8a-a603-68ea76687b48')\"\n",
              "              title=\"Convert this dataframe to an interactive table.\"\n",
              "              style=\"display:none;\">\n",
              "        \n",
              "  <svg xmlns=\"http://www.w3.org/2000/svg\" height=\"24px\"viewBox=\"0 0 24 24\"\n",
              "       width=\"24px\">\n",
              "    <path d=\"M0 0h24v24H0V0z\" fill=\"none\"/>\n",
              "    <path d=\"M18.56 5.44l.94 2.06.94-2.06 2.06-.94-2.06-.94-.94-2.06-.94 2.06-2.06.94zm-11 1L8.5 8.5l.94-2.06 2.06-.94-2.06-.94L8.5 2.5l-.94 2.06-2.06.94zm10 10l.94 2.06.94-2.06 2.06-.94-2.06-.94-.94-2.06-.94 2.06-2.06.94z\"/><path d=\"M17.41 7.96l-1.37-1.37c-.4-.4-.92-.59-1.43-.59-.52 0-1.04.2-1.43.59L10.3 9.45l-7.72 7.72c-.78.78-.78 2.05 0 2.83L4 21.41c.39.39.9.59 1.41.59.51 0 1.02-.2 1.41-.59l7.78-7.78 2.81-2.81c.8-.78.8-2.07 0-2.86zM5.41 20L4 18.59l7.72-7.72 1.47 1.35L5.41 20z\"/>\n",
              "  </svg>\n",
              "      </button>\n",
              "      \n",
              "  <style>\n",
              "    .colab-df-container {\n",
              "      display:flex;\n",
              "      flex-wrap:wrap;\n",
              "      gap: 12px;\n",
              "    }\n",
              "\n",
              "    .colab-df-convert {\n",
              "      background-color: #E8F0FE;\n",
              "      border: none;\n",
              "      border-radius: 50%;\n",
              "      cursor: pointer;\n",
              "      display: none;\n",
              "      fill: #1967D2;\n",
              "      height: 32px;\n",
              "      padding: 0 0 0 0;\n",
              "      width: 32px;\n",
              "    }\n",
              "\n",
              "    .colab-df-convert:hover {\n",
              "      background-color: #E2EBFA;\n",
              "      box-shadow: 0px 1px 2px rgba(60, 64, 67, 0.3), 0px 1px 3px 1px rgba(60, 64, 67, 0.15);\n",
              "      fill: #174EA6;\n",
              "    }\n",
              "\n",
              "    [theme=dark] .colab-df-convert {\n",
              "      background-color: #3B4455;\n",
              "      fill: #D2E3FC;\n",
              "    }\n",
              "\n",
              "    [theme=dark] .colab-df-convert:hover {\n",
              "      background-color: #434B5C;\n",
              "      box-shadow: 0px 1px 3px 1px rgba(0, 0, 0, 0.15);\n",
              "      filter: drop-shadow(0px 1px 2px rgba(0, 0, 0, 0.3));\n",
              "      fill: #FFFFFF;\n",
              "    }\n",
              "  </style>\n",
              "\n",
              "      <script>\n",
              "        const buttonEl =\n",
              "          document.querySelector('#df-8850b55a-8e0b-4d8a-a603-68ea76687b48 button.colab-df-convert');\n",
              "        buttonEl.style.display =\n",
              "          google.colab.kernel.accessAllowed ? 'block' : 'none';\n",
              "\n",
              "        async function convertToInteractive(key) {\n",
              "          const element = document.querySelector('#df-8850b55a-8e0b-4d8a-a603-68ea76687b48');\n",
              "          const dataTable =\n",
              "            await google.colab.kernel.invokeFunction('convertToInteractive',\n",
              "                                                     [key], {});\n",
              "          if (!dataTable) return;\n",
              "\n",
              "          const docLinkHtml = 'Like what you see? Visit the ' +\n",
              "            '<a target=\"_blank\" href=https://colab.research.google.com/notebooks/data_table.ipynb>data table notebook</a>'\n",
              "            + ' to learn more about interactive tables.';\n",
              "          element.innerHTML = '';\n",
              "          dataTable['output_type'] = 'display_data';\n",
              "          await google.colab.output.renderOutput(dataTable, element);\n",
              "          const docLink = document.createElement('div');\n",
              "          docLink.innerHTML = docLinkHtml;\n",
              "          element.appendChild(docLink);\n",
              "        }\n",
              "      </script>\n",
              "    </div>\n",
              "  </div>\n",
              "  "
            ],
            "text/plain": [
              "             Product Group variable         value\n",
              "0                   Animal     1992  8.192500e+04\n",
              "1                Chemicals     1992  1.216883e+06\n",
              "2            Food Products     1992  3.714250e+05\n",
              "3                 Footwear     1992  1.426420e+05\n",
              "4                    Fuels     1992  1.662572e+06\n",
              "..                     ...      ...           ...\n",
              "443        Stone and Glass     2019  1.528405e+06\n",
              "444  Textiles and Clothing     2019  3.041722e+06\n",
              "445         Transportation     2019  1.303457e+07\n",
              "446              Vegetable     2019  1.888026e+06\n",
              "447                   Wood     2019  2.716092e+06\n",
              "\n",
              "[448 rows x 3 columns]"
            ]
          },
          "metadata": {},
          "execution_count": 32
        }
      ]
    },
    {
      "cell_type": "markdown",
      "source": [
        "### Top Imported good in the last 5 years"
      ],
      "metadata": {
        "id": "AiFkegQtsm7T"
      }
    },
    {
      "cell_type": "code",
      "source": [
        "data['variable'] = pd.to_numeric(data['variable'])"
      ],
      "metadata": {
        "id": "vlGTZW30u1DQ"
      },
      "execution_count": null,
      "outputs": []
    },
    {
      "cell_type": "code",
      "source": [
        "df = data[data['variable']>2013]"
      ],
      "metadata": {
        "id": "xeN8qVTQufDj"
      },
      "execution_count": null,
      "outputs": []
    },
    {
      "cell_type": "code",
      "source": [
        "temp = df.groupby('Product Group').sum().reset_index().drop('variable', axis=1)"
      ],
      "metadata": {
        "id": "wbAY2_bquyiG"
      },
      "execution_count": null,
      "outputs": []
    },
    {
      "cell_type": "code",
      "source": [
        "temp = temp.sort_values('value', ascending=False).reset_index(drop=True)"
      ],
      "metadata": {
        "id": "THVfb4-VwJqj"
      },
      "execution_count": null,
      "outputs": []
    },
    {
      "cell_type": "code",
      "source": [
        "plt.figure(dpi=150, figsize=(8, 4))\n",
        "plt.xticks(rotation=90)\n",
        "plt.ticklabel_format(style='plain')\n",
        "sns.barplot(temp['Product Group'], temp['value'])"
      ],
      "metadata": {
        "colab": {
          "base_uri": "https://localhost:8080/",
          "height": 831
        },
        "id": "pruXRYAyvDxu",
        "outputId": "35c5e252-f485-4218-8a15-37a0348f26f4"
      },
      "execution_count": null,
      "outputs": [
        {
          "output_type": "stream",
          "name": "stderr",
          "text": [
            "/usr/local/lib/python3.7/dist-packages/seaborn/_decorators.py:43: FutureWarning: Pass the following variables as keyword args: x, y. From version 0.12, the only valid positional argument will be `data`, and passing other arguments without an explicit keyword will result in an error or misinterpretation.\n",
            "  FutureWarning\n"
          ]
        },
        {
          "output_type": "execute_result",
          "data": {
            "text/plain": [
              "<matplotlib.axes._subplots.AxesSubplot at 0x7ff0ada349d0>"
            ]
          },
          "metadata": {},
          "execution_count": 62
        },
        {
          "output_type": "display_data",
          "data": {
            "image/png": "[encoded data removed]",
            "text/plain": [
              "<Figure size 1200x600 with 1 Axes>"
            ]
          },
          "metadata": {
            "needs_background": "light"
          }
        }
      ]
    },
    {
      "cell_type": "code",
      "source": [
        "data = pd.read_excel(\"/content/drive/MyDrive/AzPromo/Azerbaijan Hungary.xlsx\")"
      ],
      "metadata": {
        "id": "n1OQeeQZv07r"
      },
      "execution_count": null,
      "outputs": []
    },
    {
      "cell_type": "code",
      "source": [
        "data.head(2)"
      ],
      "metadata": {
        "colab": {
          "base_uri": "https://localhost:8080/",
          "height": 112
        },
        "id": "b65F0TGRxW54",
        "outputId": "22d2894d-c4d2-4416-84d6-543ee48f0307"
      },
      "execution_count": null,
      "outputs": [
        {
          "output_type": "execute_result",
          "data": {
            "text/html": [
              "\n",
              "  <div id=\"df-b7ad125a-0261-47ef-9772-905bb2b8c9fc\">\n",
              "    <div class=\"colab-df-container\">\n",
              "      <div>\n",
              "<style scoped>\n",
              "    .dataframe tbody tr th:only-of-type {\n",
              "        vertical-align: middle;\n",
              "    }\n",
              "\n",
              "    .dataframe tbody tr th {\n",
              "        vertical-align: top;\n",
              "    }\n",
              "\n",
              "    .dataframe thead th {\n",
              "        text-align: right;\n",
              "    }\n",
              "</style>\n",
              "<table border=\"1\" class=\"dataframe\">\n",
              "  <thead>\n",
              "    <tr style=\"text-align: right;\">\n",
              "      <th></th>\n",
              "      <th>Reporter Name</th>\n",
              "      <th>Partner Name</th>\n",
              "      <th>Trade Flow</th>\n",
              "      <th>Product Group</th>\n",
              "      <th>Indicator</th>\n",
              "      <th>1992</th>\n",
              "      <th>1993</th>\n",
              "      <th>1994</th>\n",
              "      <th>1995</th>\n",
              "      <th>1996</th>\n",
              "      <th>1997</th>\n",
              "      <th>1998</th>\n",
              "      <th>1999</th>\n",
              "      <th>2000</th>\n",
              "      <th>2001</th>\n",
              "      <th>2002</th>\n",
              "      <th>2003</th>\n",
              "      <th>2004</th>\n",
              "      <th>2005</th>\n",
              "      <th>2006</th>\n",
              "      <th>2007</th>\n",
              "      <th>2008</th>\n",
              "      <th>2009</th>\n",
              "      <th>2010</th>\n",
              "      <th>2011</th>\n",
              "      <th>2012</th>\n",
              "      <th>2013</th>\n",
              "      <th>2014</th>\n",
              "      <th>2015</th>\n",
              "      <th>2016</th>\n",
              "      <th>2017</th>\n",
              "      <th>2018</th>\n",
              "      <th>2019</th>\n",
              "    </tr>\n",
              "  </thead>\n",
              "  <tbody>\n",
              "    <tr>\n",
              "      <th>0</th>\n",
              "      <td>Hungary</td>\n",
              "      <td>Azerbaijan</td>\n",
              "      <td>Import</td>\n",
              "      <td>All Products</td>\n",
              "      <td>Import (US$ Thousand)</td>\n",
              "      <td>NaN</td>\n",
              "      <td>235.0</td>\n",
              "      <td>301.0</td>\n",
              "      <td>91.0</td>\n",
              "      <td>42.0</td>\n",
              "      <td>273.0</td>\n",
              "      <td>170.0</td>\n",
              "      <td>136.0</td>\n",
              "      <td>580.0</td>\n",
              "      <td>167.0</td>\n",
              "      <td>49.0</td>\n",
              "      <td>38.0</td>\n",
              "      <td>131.0</td>\n",
              "      <td>117.0</td>\n",
              "      <td>8.0</td>\n",
              "      <td>156.0</td>\n",
              "      <td>35.0</td>\n",
              "      <td>1.0</td>\n",
              "      <td>370.0</td>\n",
              "      <td>99.0</td>\n",
              "      <td>803.50</td>\n",
              "      <td>60.295</td>\n",
              "      <td>253.06</td>\n",
              "      <td>78.663</td>\n",
              "      <td>16109.625</td>\n",
              "      <td>1252.290</td>\n",
              "      <td>397.999</td>\n",
              "      <td>10232.348</td>\n",
              "    </tr>\n",
              "    <tr>\n",
              "      <th>1</th>\n",
              "      <td>Hungary</td>\n",
              "      <td>Azerbaijan</td>\n",
              "      <td>Import</td>\n",
              "      <td>Capital goods</td>\n",
              "      <td>Import (US$ Thousand)</td>\n",
              "      <td>NaN</td>\n",
              "      <td>123.0</td>\n",
              "      <td>110.0</td>\n",
              "      <td>21.0</td>\n",
              "      <td>14.0</td>\n",
              "      <td>101.0</td>\n",
              "      <td>159.0</td>\n",
              "      <td>NaN</td>\n",
              "      <td>NaN</td>\n",
              "      <td>NaN</td>\n",
              "      <td>6.0</td>\n",
              "      <td>18.0</td>\n",
              "      <td>14.0</td>\n",
              "      <td>6.0</td>\n",
              "      <td>NaN</td>\n",
              "      <td>3.0</td>\n",
              "      <td>27.0</td>\n",
              "      <td>NaN</td>\n",
              "      <td>267.0</td>\n",
              "      <td>NaN</td>\n",
              "      <td>22.79</td>\n",
              "      <td>5.987</td>\n",
              "      <td>21.03</td>\n",
              "      <td>30.724</td>\n",
              "      <td>17.456</td>\n",
              "      <td>1115.279</td>\n",
              "      <td>330.611</td>\n",
              "      <td>184.424</td>\n",
              "    </tr>\n",
              "  </tbody>\n",
              "</table>\n",
              "</div>\n",
              "      <button class=\"colab-df-convert\" onclick=\"convertToInteractive('df-b7ad125a-0261-47ef-9772-905bb2b8c9fc')\"\n",
              "              title=\"Convert this dataframe to an interactive table.\"\n",
              "              style=\"display:none;\">\n",
              "        \n",
              "  <svg xmlns=\"http://www.w3.org/2000/svg\" height=\"24px\"viewBox=\"0 0 24 24\"\n",
              "       width=\"24px\">\n",
              "    <path d=\"M0 0h24v24H0V0z\" fill=\"none\"/>\n",
              "    <path d=\"M18.56 5.44l.94 2.06.94-2.06 2.06-.94-2.06-.94-.94-2.06-.94 2.06-2.06.94zm-11 1L8.5 8.5l.94-2.06 2.06-.94-2.06-.94L8.5 2.5l-.94 2.06-2.06.94zm10 10l.94 2.06.94-2.06 2.06-.94-2.06-.94-.94-2.06-.94 2.06-2.06.94z\"/><path d=\"M17.41 7.96l-1.37-1.37c-.4-.4-.92-.59-1.43-.59-.52 0-1.04.2-1.43.59L10.3 9.45l-7.72 7.72c-.78.78-.78 2.05 0 2.83L4 21.41c.39.39.9.59 1.41.59.51 0 1.02-.2 1.41-.59l7.78-7.78 2.81-2.81c.8-.78.8-2.07 0-2.86zM5.41 20L4 18.59l7.72-7.72 1.47 1.35L5.41 20z\"/>\n",
              "  </svg>\n",
              "      </button>\n",
              "      \n",
              "  <style>\n",
              "    .colab-df-container {\n",
              "      display:flex;\n",
              "      flex-wrap:wrap;\n",
              "      gap: 12px;\n",
              "    }\n",
              "\n",
              "    .colab-df-convert {\n",
              "      background-color: #E8F0FE;\n",
              "      border: none;\n",
              "      border-radius: 50%;\n",
              "      cursor: pointer;\n",
              "      display: none;\n",
              "      fill: #1967D2;\n",
              "      height: 32px;\n",
              "      padding: 0 0 0 0;\n",
              "      width: 32px;\n",
              "    }\n",
              "\n",
              "    .colab-df-convert:hover {\n",
              "      background-color: #E2EBFA;\n",
              "      box-shadow: 0px 1px 2px rgba(60, 64, 67, 0.3), 0px 1px 3px 1px rgba(60, 64, 67, 0.15);\n",
              "      fill: #174EA6;\n",
              "    }\n",
              "\n",
              "    [theme=dark] .colab-df-convert {\n",
              "      background-color: #3B4455;\n",
              "      fill: #D2E3FC;\n",
              "    }\n",
              "\n",
              "    [theme=dark] .colab-df-convert:hover {\n",
              "      background-color: #434B5C;\n",
              "      box-shadow: 0px 1px 3px 1px rgba(0, 0, 0, 0.15);\n",
              "      filter: drop-shadow(0px 1px 2px rgba(0, 0, 0, 0.3));\n",
              "      fill: #FFFFFF;\n",
              "    }\n",
              "  </style>\n",
              "\n",
              "      <script>\n",
              "        const buttonEl =\n",
              "          document.querySelector('#df-b7ad125a-0261-47ef-9772-905bb2b8c9fc button.colab-df-convert');\n",
              "        buttonEl.style.display =\n",
              "          google.colab.kernel.accessAllowed ? 'block' : 'none';\n",
              "\n",
              "        async function convertToInteractive(key) {\n",
              "          const element = document.querySelector('#df-b7ad125a-0261-47ef-9772-905bb2b8c9fc');\n",
              "          const dataTable =\n",
              "            await google.colab.kernel.invokeFunction('convertToInteractive',\n",
              "                                                     [key], {});\n",
              "          if (!dataTable) return;\n",
              "\n",
              "          const docLinkHtml = 'Like what you see? Visit the ' +\n",
              "            '<a target=\"_blank\" href=https://colab.research.google.com/notebooks/data_table.ipynb>data table notebook</a>'\n",
              "            + ' to learn more about interactive tables.';\n",
              "          element.innerHTML = '';\n",
              "          dataTable['output_type'] = 'display_data';\n",
              "          await google.colab.output.renderOutput(dataTable, element);\n",
              "          const docLink = document.createElement('div');\n",
              "          docLink.innerHTML = docLinkHtml;\n",
              "          element.appendChild(docLink);\n",
              "        }\n",
              "      </script>\n",
              "    </div>\n",
              "  </div>\n",
              "  "
            ],
            "text/plain": [
              "  Reporter Name Partner Name Trade Flow  ...      2017     2018       2019\n",
              "0       Hungary   Azerbaijan     Import  ...  1252.290  397.999  10232.348\n",
              "1       Hungary   Azerbaijan     Import  ...  1115.279  330.611    184.424\n",
              "\n",
              "[2 rows x 33 columns]"
            ]
          },
          "metadata": {},
          "execution_count": 69
        }
      ]
    },
    {
      "cell_type": "code",
      "source": [
        "data = data.drop(index=range(5)).reset_index(drop=True)\n",
        "data = data.iloc[:, 3:].drop(\"Indicator\", axis=1)\n",
        "data = pd.melt(\n",
        "    data,\n",
        "    id_vars = ['Product Group'],\n",
        "    value_vars = data.columns.values[1:]\n",
        ")"
      ],
      "metadata": {
        "id": "EN2nawjH0NaR"
      },
      "execution_count": null,
      "outputs": []
    },
    {
      "cell_type": "code",
      "source": [
        "\n",
        "data['variable'] = pd.to_numeric(data['variable'])\n",
        "df = data[data['variable']>2013]\n",
        "temp = df.groupby('Product Group').sum().reset_index().drop('variable', axis=1)\n",
        "temp = temp.sort_values('value', ascending=False).reset_index(drop=True)"
      ],
      "metadata": {
        "id": "WPZvwMIYz4nw"
      },
      "execution_count": null,
      "outputs": []
    },
    {
      "cell_type": "code",
      "source": [
        "plt.figure(dpi=150, figsize=(8, 4))\n",
        "plt.xticks(rotation=90)\n",
        "plt.ticklabel_format(style='plain')\n",
        "# temp = temp.drop(index=0).reset_index(drop=True) # fuel is a lot, so I dropped it\n",
        "sns.barplot(temp['Product Group'], temp['value'])"
      ],
      "metadata": {
        "colab": {
          "base_uri": "https://localhost:8080/",
          "height": 831
        },
        "id": "c1vxeaWwxaMd",
        "outputId": "3827a3c1-2650-4365-9e37-8c77ddf41b7b"
      },
      "execution_count": null,
      "outputs": [
        {
          "output_type": "stream",
          "name": "stderr",
          "text": [
            "/usr/local/lib/python3.7/dist-packages/seaborn/_decorators.py:43: FutureWarning: Pass the following variables as keyword args: x, y. From version 0.12, the only valid positional argument will be `data`, and passing other arguments without an explicit keyword will result in an error or misinterpretation.\n",
            "  FutureWarning\n"
          ]
        },
        {
          "output_type": "execute_result",
          "data": {
            "text/plain": [
              "<matplotlib.axes._subplots.AxesSubplot at 0x7ff0ad5797d0>"
            ]
          },
          "metadata": {},
          "execution_count": 83
        },
        {
          "output_type": "display_data",
          "data": {
            "image/png": "[encoded data removed]",
            "text/plain": [
              "<Figure size 1200x600 with 1 Axes>"
            ]
          },
          "metadata": {
            "needs_background": "light"
          }
        }
      ]
    },
    {
      "cell_type": "code",
      "source": [
        "# Result: products for export I think is suitable\n",
        "# Machinery and electronics, Chemicals, Plastic or rubber, Metals, Food products, Textiles and clothing (pambiq), Vegetables"
      ],
      "metadata": {
        "id": "suIu1fZVyVq9"
      },
      "execution_count": null,
      "outputs": []
    }
  ]
}