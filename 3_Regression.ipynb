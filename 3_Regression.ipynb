{
  "cells": [
    {
      "cell_type": "markdown",
      "metadata": {
        "id": "view-in-github",
        "colab_type": "text"
      },
      "source": [
        "<a href=\"https://colab.research.google.com/github/EmilSeyfullayev/azpromo-case-task-interview/blob/main/3_Regression.ipynb\" target=\"_parent\"><img src=\"https://colab.research.google.com/assets/colab-badge.svg\" alt=\"Open In Colab\"/></a>"
      ]
    },
    {
      "cell_type": "code",
      "execution_count": null,
      "metadata": {
        "id": "lzdee7ct3Btt"
      },
      "outputs": [],
      "source": [
        "import pandas as pd\n",
        "import numpy as np\n",
        "import matplotlib.pyplot as plt\n",
        "import seaborn as sns\n",
        "import math\n",
        "sns.set_style('whitegrid')"
      ]
    },
    {
      "cell_type": "code",
      "execution_count": null,
      "metadata": {
        "id": "LeeG6X9q3LVq"
      },
      "outputs": [],
      "source": [
        "df = pd.read_excel(\"/content/drive/MyDrive/AzPromo/Preprocessed_data.xlsx\")"
      ]
    },
    {
      "cell_type": "code",
      "execution_count": null,
      "metadata": {
        "id": "KgROJGU23ZqH"
      },
      "outputs": [],
      "source": [
        "df.drop('Unnamed: 0', axis=1, inplace=True)"
      ]
    },
    {
      "cell_type": "code",
      "execution_count": null,
      "metadata": {
        "colab": {
          "base_uri": "https://localhost:8080/"
        },
        "id": "W78n54Sg3a7C",
        "outputId": "473ca7f1-0109-4e71-b7fe-2e31a7d238eb"
      },
      "outputs": [
        {
          "output_type": "execute_result",
          "data": {
            "text/plain": [
              "array(['Bəyannamənin tarixi', 'Ümumi sahə', 'Kod 2', 'Ad 2', 'Kod 4',\n",
              "       'Ad 4', 'Kod 6', 'Ad 6', 'Malın kodu', 'Ölçü vaxidi',\n",
              "       'Tərəfdaş ölkə', 'İstehsalçı ölkə', 'Nəqliyyatın tipi', 'year',\n",
              "       'month', 'count5', 'unit_price_azn7', 'final_price_azn',\n",
              "       'final_price_usd', 'unit_price_usd'], dtype=object)"
            ]
          },
          "metadata": {},
          "execution_count": 4
        }
      ],
      "source": [
        "df.columns.values"
      ]
    },
    {
      "cell_type": "code",
      "execution_count": null,
      "metadata": {
        "id": "UyomQImk4RlL"
      },
      "outputs": [],
      "source": [
        "data = df[['Ümumi sahə',  'Ad 2', \n",
        "'Ad 4', 'Ad 6', 'Ölçü vaxidi',\n",
        "'Tərəfdaş ölkə', 'İstehsalçı ölkə', 'Nəqliyyatın tipi', 'year',\n",
        "'month', 'count5', 'final_price_usd']]"
      ]
    },
    {
      "cell_type": "code",
      "execution_count": null,
      "metadata": {
        "id": "sxmvUv4R5rpQ"
      },
      "outputs": [],
      "source": [
        "df['Malın kodu'] = df['Malın kodu'].apply(lambda x: str(x))"
      ]
    },
    {
      "cell_type": "code",
      "execution_count": null,
      "metadata": {
        "id": "1e3nQHna5A9u"
      },
      "outputs": [],
      "source": [
        "data = pd.get_dummies(data)"
      ]
    },
    {
      "cell_type": "code",
      "execution_count": null,
      "metadata": {
        "id": "8aSxqbzJ5fnf"
      },
      "outputs": [],
      "source": [
        "from sklearn.linear_model import LinearRegression\n",
        "from sklearn.model_selection import train_test_split"
      ]
    },
    {
      "cell_type": "code",
      "execution_count": null,
      "metadata": {
        "colab": {
          "base_uri": "https://localhost:8080/"
        },
        "id": "lv_PgwyV6WgT",
        "outputId": "1e4c189a-bd1b-4ffe-ef96-dcee374788ae"
      },
      "outputs": [
        {
          "output_type": "execute_result",
          "data": {
            "text/plain": [
              "LinearRegression()"
            ]
          },
          "metadata": {},
          "execution_count": 9
        }
      ],
      "source": [
        "lm_Model = LinearRegression()\n",
        "X = data.drop('final_price_usd', axis=1)\n",
        "y = data['final_price_usd']\n",
        "X_train, X_test, y_train, y_test = train_test_split(X, y, test_size=0.33, random_state=42)\n",
        "lm_Model.fit(X_train, y_train)"
      ]
    },
    {
      "cell_type": "code",
      "execution_count": null,
      "metadata": {
        "colab": {
          "base_uri": "https://localhost:8080/"
        },
        "id": "gemfGsVx6nmS",
        "outputId": "308f0e61-354e-4520-ae76-f4e8c9af3d9b"
      },
      "outputs": [
        {
          "output_type": "execute_result",
          "data": {
            "text/plain": [
              "0.641121756722492"
            ]
          },
          "metadata": {},
          "execution_count": 10
        }
      ],
      "source": [
        "lm_Model.score(X_train, y_train)"
      ]
    },
    {
      "cell_type": "code",
      "execution_count": null,
      "metadata": {
        "id": "z8bH1B--6_M8"
      },
      "outputs": [],
      "source": [
        "from sklearn.metrics import mean_absolute_error"
      ]
    },
    {
      "cell_type": "code",
      "execution_count": null,
      "metadata": {
        "id": "Aw4rSZCc7jmb"
      },
      "outputs": [],
      "source": [
        "predictions = lm_Model.predict(X_test)"
      ]
    },
    {
      "cell_type": "code",
      "execution_count": null,
      "metadata": {
        "colab": {
          "base_uri": "https://localhost:8080/"
        },
        "id": "duDobXnS7qgL",
        "outputId": "159b9ee2-30d2-4d29-dd92-2478870a5608"
      },
      "outputs": [
        {
          "output_type": "execute_result",
          "data": {
            "text/plain": [
              "27198.596046938677"
            ]
          },
          "metadata": {},
          "execution_count": 13
        }
      ],
      "source": [
        "mean_absolute_error(y_test, predictions)"
      ]
    },
    {
      "cell_type": "code",
      "execution_count": null,
      "metadata": {
        "id": "7Xkr7ynX7xYz"
      },
      "outputs": [],
      "source": [
        "from sklearn.ensemble import RandomForestRegressor\n",
        "rf_model = RandomForestRegressor()"
      ]
    },
    {
      "cell_type": "code",
      "execution_count": null,
      "metadata": {
        "colab": {
          "base_uri": "https://localhost:8080/"
        },
        "id": "FzIIurxi73zj",
        "outputId": "863b2c62-ea7d-4216-c0f8-4bf8c1cbf426"
      },
      "outputs": [
        {
          "output_type": "execute_result",
          "data": {
            "text/plain": [
              "RandomForestRegressor()"
            ]
          },
          "metadata": {},
          "execution_count": 15
        }
      ],
      "source": [
        "# rf_model.fit(X_train, y_train)"
      ]
    },
    {
      "cell_type": "code",
      "execution_count": null,
      "metadata": {
        "colab": {
          "base_uri": "https://localhost:8080/"
        },
        "id": "fR8UHFTT8FOk",
        "outputId": "55efedbd-5bef-4b82-b55f-ad588954a4ee"
      },
      "outputs": [
        {
          "output_type": "stream",
          "name": "stdout",
          "text": [
            "0.9158571972273264\n",
            "0.7540019155745556\n"
          ]
        }
      ],
      "source": [
        "print(rf_model.score(X_train, y_train))\n",
        "print(rf_model.score(X_test, y_test))\n",
        "rf_predictions = rf_model.predict(X_test)"
      ]
    },
    {
      "cell_type": "code",
      "execution_count": null,
      "metadata": {
        "colab": {
          "base_uri": "https://localhost:8080/"
        },
        "id": "YKE137bN7-ZF",
        "outputId": "29c86098-ef4f-4243-ac6e-f34c99791563"
      },
      "outputs": [
        {
          "output_type": "execute_result",
          "data": {
            "text/plain": [
              "9147.737746037952"
            ]
          },
          "metadata": {},
          "execution_count": 17
        }
      ],
      "source": [
        "mean_absolute_error(y_test, rf_predictions)"
      ]
    },
    {
      "cell_type": "code",
      "source": [
        "import pickle"
      ],
      "metadata": {
        "id": "f3xkLKERP77p"
      },
      "execution_count": null,
      "outputs": []
    },
    {
      "cell_type": "code",
      "execution_count": null,
      "metadata": {
        "id": "RyWkxEVY8HfU"
      },
      "outputs": [],
      "source": [
        "# filename = '/content/drive/MyDrive/AzPromo/finalized_model.sav'\n",
        "# pickle.dump(rf_model, open(filename, 'wb'))"
      ]
    },
    {
      "cell_type": "code",
      "execution_count": null,
      "metadata": {
        "id": "5H_VdsYXADey"
      },
      "outputs": [],
      "source": [
        "rf_model_loaded = pickle.load(open('/content/drive/MyDrive/AzPromo/finalized_model.sav', 'rb'))"
      ]
    },
    {
      "cell_type": "code",
      "source": [
        "mean_absolute_error(y_test, rf_model_loaded.predict(X_test))"
      ],
      "metadata": {
        "colab": {
          "base_uri": "https://localhost:8080/"
        },
        "id": "0jDcPuBfQMjA",
        "outputId": "2414d8b3-056e-41e7-a74c-d6321f20668e"
      },
      "execution_count": null,
      "outputs": [
        {
          "output_type": "execute_result",
          "data": {
            "text/plain": [
              "9147.737746037952"
            ]
          },
          "metadata": {},
          "execution_count": 28
        }
      ]
    },
    {
      "cell_type": "code",
      "source": [
        ""
      ],
      "metadata": {
        "id": "xUYZl72yRD6d"
      },
      "execution_count": null,
      "outputs": []
    }
  ],
  "metadata": {
    "colab": {
      "name": "3 - Regression.ipynb",
      "provenance": [],
      "mount_file_id": "1hegDdYFI2aasw28BshiiHBamkXC-MaWQ",
      "authorship_tag": "ABX9TyMHeTb1RPk2XdRZaRfrBCeX",
      "include_colab_link": true
    },
    "kernelspec": {
      "display_name": "Python 3",
      "name": "python3"
    },
    "language_info": {
      "name": "python"
    }
  },
  "nbformat": 4,
  "nbformat_minor": 0
}